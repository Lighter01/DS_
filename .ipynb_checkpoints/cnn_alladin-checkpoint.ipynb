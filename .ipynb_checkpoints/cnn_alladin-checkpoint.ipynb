{
 "cells": [
  {
   "cell_type": "code",
   "execution_count": 1,
   "id": "325970c1-78b2-4360-aaf1-0235cdc33c6a",
   "metadata": {},
   "outputs": [],
   "source": [
    "import torch\n",
    "import torch.nn.functional as F  # Parameterless functions, like (some) activation functions\n",
    "import torchvision.datasets as datasets  # Standard datasets\n",
    "import torchvision.transforms as transforms  # Transformations we can perform on our dataset for augmentation\n",
    "from torch import optim  # For optimizers like SGD, Adam, etc.\n",
    "from torch import nn  # All neural network modules\n",
    "from torch.utils.data import (\n",
    "    DataLoader, Dataset, random_split\n",
    ")  # Gives easier dataset managment by creating mini batches etc.\n",
    "from tqdm import tqdm  # For nice progress bar!\n",
    "\n",
    "import pickle\n",
    "import numpy as np\n",
    "\n",
    "import matplotlib.pyplot as plt\n",
    "import plotly.graph_objects as go"
   ]
  },
  {
   "cell_type": "code",
   "execution_count": 2,
   "id": "6d32dd81-801f-41c0-a0ab-a85e7a472a84",
   "metadata": {},
   "outputs": [],
   "source": [
    "# Hyperparameters\n",
    "in_channels = 1\n",
    "num_classes = 10\n",
    "learning_rate = 3e-4 # karpathy's constant\n",
    "batch_size = 8\n",
    "num_epochs = 30"
   ]
  },
  {
   "cell_type": "markdown",
   "id": "8c329bae-d6d2-486b-abfa-544abaab1e72",
   "metadata": {},
   "source": [
    "---"
   ]
  },
  {
   "cell_type": "code",
   "execution_count": 3,
   "id": "f4603c94-0fb5-4dae-965f-baa8d3b4e821",
   "metadata": {},
   "outputs": [
    {
     "data": {
      "text/plain": [
       "(48, 48, 1)"
      ]
     },
     "execution_count": 3,
     "metadata": {},
     "output_type": "execute_result"
    }
   ],
   "source": [
    "train_fh = open('datasets/lego-train.pickle', 'rb')\n",
    "test_fh  = open('datasets/lego-test.pickle', 'rb')\n",
    "\n",
    "train_data = pickle.load(train_fh)\n",
    "test_data  = pickle.load(test_fh)\n",
    "\n",
    "train_data = [(np.float32(image), label) for image, label in train_data]\n",
    "test_data  = [(np.float32(image), label) for image, label in test_data]\n",
    "\n",
    "train_data[0][0].shape"
   ]
  },
  {
   "cell_type": "code",
   "execution_count": 4,
   "id": "3eefa1c6-cd8d-449b-995f-6cb26317232d",
   "metadata": {},
   "outputs": [
    {
     "data": {
      "text/plain": [
       "((48, 48, 1), 4)"
      ]
     },
     "execution_count": 4,
     "metadata": {},
     "output_type": "execute_result"
    }
   ],
   "source": [
    "train_iter = iter(train_data)\n",
    "\n",
    "image, label = next(train_iter)\n",
    "\n",
    "image.shape, label"
   ]
  },
  {
   "cell_type": "code",
   "execution_count": 5,
   "id": "e886d890-594e-4872-bdbd-2650f370b749",
   "metadata": {},
   "outputs": [
    {
     "data": {
      "text/plain": [
       "(2.0, 255.0)"
      ]
     },
     "execution_count": 5,
     "metadata": {},
     "output_type": "execute_result"
    }
   ],
   "source": [
    "np.min(image), np.max(image)"
   ]
  },
  {
   "cell_type": "code",
   "execution_count": 6,
   "id": "437d30c3-abdf-4f90-a428-823202ee4b5b",
   "metadata": {},
   "outputs": [
    {
     "data": {
      "text/plain": [
       "<matplotlib.image.AxesImage at 0x28cb3bddb40>"
      ]
     },
     "execution_count": 6,
     "metadata": {},
     "output_type": "execute_result"
    },
    {
     "data": {
      "image/png": "[encoded data removed]",
      "text/plain": [
       "<Figure size 640x480 with 1 Axes>"
      ]
     },
     "metadata": {},
     "output_type": "display_data"
    }
   ],
   "source": [
    "plt.imshow(image.reshape((48, 48, 1)))"
   ]
  },
  {
   "cell_type": "code",
   "execution_count": 7,
   "id": "6b9da1c5-1654-425c-8f08-b2940c5d96de",
   "metadata": {},
   "outputs": [],
   "source": [
    "def scale(data):\n",
    "    scaled_data = []\n",
    "    for images, label in data:\n",
    "        scaled_data.append((images / 255.0, label))\n",
    "\n",
    "    return scaled_data"
   ]
  },
  {
   "cell_type": "code",
   "execution_count": 8,
   "id": "0ee4c24b-6d2d-4303-8b67-a995a473bade",
   "metadata": {},
   "outputs": [
    {
     "data": {
      "text/plain": [
       "(48, 48, 1)"
      ]
     },
     "execution_count": 8,
     "metadata": {},
     "output_type": "execute_result"
    }
   ],
   "source": [
    "train_data = scale(train_data)\n",
    "test_data  = scale(test_data)\n",
    "\n",
    "test_data[0][0].shape"
   ]
  },
  {
   "cell_type": "code",
   "execution_count": 9,
   "id": "0a56c9c2-6db0-4c08-aec5-98ecbab57c7b",
   "metadata": {},
   "outputs": [],
   "source": [
    "def get_mean_std(data):\n",
    "    mean = []\n",
    "    std  = []\n",
    "    for images, _ in data:\n",
    "        mean.append(images.mean(axis=(0, 1)))\n",
    "        std.append(images.std(axis=(0, 1)))\n",
    "\n",
    "    mean = np.mean(mean, axis=0)[0]\n",
    "    std  = np.mean(std, axis=0)[0]\n",
    "\n",
    "    return mean, std"
   ]
  },
  {
   "cell_type": "code",
   "execution_count": 10,
   "id": "aa5f37da-ad12-4386-a6bd-bb441c0d813e",
   "metadata": {},
   "outputs": [
    {
     "data": {
      "text/plain": [
       "(0.121675774, 0.22127292)"
      ]
     },
     "execution_count": 10,
     "metadata": {},
     "output_type": "execute_result"
    }
   ],
   "source": [
    "mean, std = get_mean_std(train_data)\n",
    "mean, std"
   ]
  },
  {
   "cell_type": "code",
   "execution_count": 11,
   "id": "c1610fec-81a7-4be7-8d18-debed77ef623",
   "metadata": {},
   "outputs": [],
   "source": [
    "class CustomDataset(Dataset):\n",
    "    def __init__(self, dataset, transform=None):\n",
    "        self.data      = dataset\n",
    "        self.transform = transform\n",
    "\n",
    "    def __len__(self):\n",
    "        return len(self.data)\n",
    "\n",
    "    def __getitem__(self, idx):\n",
    "        img, label = self.data[idx]\n",
    "        if self.transform:\n",
    "            img = self.transform(img)\n",
    "        return img, label"
   ]
  },
  {
   "cell_type": "code",
   "execution_count": 12,
   "id": "dd79171b-3877-4b0b-9b87-1e4dfabc7f1c",
   "metadata": {},
   "outputs": [],
   "source": [
    "transform = transforms.Compose([\n",
    "    transforms.ToTensor(),  # Convert PIL image to tensor\n",
    "    transforms.Normalize(mean=[mean], std=[std])  # Normalize the tensor\n",
    "])"
   ]
  },
  {
   "cell_type": "code",
   "execution_count": 13,
   "id": "deb0d492-71fa-4c4f-b5b4-1cfe59ae388f",
   "metadata": {},
   "outputs": [
    {
     "data": {
      "text/plain": [
       "(400, 51)"
      ]
     },
     "execution_count": 13,
     "metadata": {},
     "output_type": "execute_result"
    }
   ],
   "source": [
    "train_data, val_data = random_split(train_data, [400, 51])\n",
    "len(train_data), len(val_data)"
   ]
  },
  {
   "cell_type": "code",
   "execution_count": 14,
   "id": "f719d2ca-6dd7-4cf8-8d5d-48b74f2f9d8b",
   "metadata": {},
   "outputs": [],
   "source": [
    "train_dataset = CustomDataset(train_data, transform=transform)\n",
    "val_dataset   = CustomDataset(val_data,   transform=transform)\n",
    "test_dataset  = CustomDataset(test_data , transform=transform)"
   ]
  },
  {
   "cell_type": "code",
   "execution_count": 15,
   "id": "7e1fa3e5-4cdd-434a-a76a-0bf26697294e",
   "metadata": {},
   "outputs": [],
   "source": [
    "train_loader = DataLoader(train_dataset, batch_size = batch_size, shuffle=True)\n",
    "val_loader   = DataLoader(val_dataset,   batch_size = batch_size, shuffle=False)\n",
    "test_loader  = DataLoader(test_dataset,  batch_size = batch_size, shuffle=False)"
   ]
  },
  {
   "cell_type": "markdown",
   "id": "bb33b6c2-f2a0-4bc3-a166-e310e583ac01",
   "metadata": {},
   "source": [
    "---"
   ]
  },
  {
   "cell_type": "code",
   "execution_count": 16,
   "id": "9dd11140-440e-4de9-b1cb-4078572f2c1d",
   "metadata": {},
   "outputs": [],
   "source": [
    "class CNN(nn.Module):\n",
    "    def __init__(self, in_channels = 1, num_classes = 10):\n",
    "        super(CNN, self).__init__()\n",
    "        self.conv1 = nn.Conv2d(in_channels=1,  out_channels=8,  kernel_size=(3,3), stride=(1,1), padding=(1,1))\n",
    "        self.conv2 = nn.Conv2d(in_channels=8,  out_channels=16, kernel_size=(3,3), stride=(1,1), padding=(1,1))\n",
    "        self.conv3 = nn.Conv2d(in_channels=16, out_channels=32, kernel_size=(3,3), stride=(1,1), padding=(1,1))\n",
    "        self.pool  = nn.MaxPool2d(kernel_size=(2,2), stride=(2,2))\n",
    "        self.fc1   = nn.Linear(32*6*6, num_classes)\n",
    "\n",
    "    def forward(self, x):\n",
    "        x = F.relu(self.conv1(x))\n",
    "        x = self.pool(x)\n",
    "        x = F.relu(self.conv2(x))\n",
    "        x = self.pool(x)\n",
    "        x = F.relu(self.conv3(x))\n",
    "        x = self.pool(x)\n",
    "        x = x.reshape(x.shape[0], -1)\n",
    "        x = self.fc1(x)\n",
    "\n",
    "        return x"
   ]
  },
  {
   "cell_type": "code",
   "execution_count": 17,
   "id": "7b099d40-5c3f-44da-98c5-fe5f122655d8",
   "metadata": {},
   "outputs": [
    {
     "data": {
      "text/plain": [
       "device(type='cuda')"
      ]
     },
     "execution_count": 17,
     "metadata": {},
     "output_type": "execute_result"
    }
   ],
   "source": [
    "device = torch.device(\"cuda\" if torch.cuda.is_available() else \"cpu\")\n",
    "device"
   ]
  },
  {
   "cell_type": "markdown",
   "id": "47f341a5-048f-4f5b-ac4f-5c80a09a519d",
   "metadata": {},
   "source": [
    "---"
   ]
  },
  {
   "cell_type": "code",
   "execution_count": 18,
   "id": "271bfbce-f588-4666-a3f2-d111d825d8c0",
   "metadata": {},
   "outputs": [
    {
     "data": {
      "text/plain": [
       "CNN(\n",
       "  (conv1): Conv2d(1, 8, kernel_size=(3, 3), stride=(1, 1), padding=(1, 1))\n",
       "  (conv2): Conv2d(8, 16, kernel_size=(3, 3), stride=(1, 1), padding=(1, 1))\n",
       "  (conv3): Conv2d(16, 32, kernel_size=(3, 3), stride=(1, 1), padding=(1, 1))\n",
       "  (pool): MaxPool2d(kernel_size=(2, 2), stride=(2, 2), padding=0, dilation=1, ceil_mode=False)\n",
       "  (fc1): Linear(in_features=1152, out_features=10, bias=True)\n",
       ")"
      ]
     },
     "execution_count": 18,
     "metadata": {},
     "output_type": "execute_result"
    }
   ],
   "source": [
    "model = CNN(in_channels=in_channels, num_classes=num_classes).to(device)\n",
    "model"
   ]
  },
  {
   "cell_type": "code",
   "execution_count": 19,
   "id": "046a67a8-e1b3-4a15-b909-56fae602ac0c",
   "metadata": {},
   "outputs": [
    {
     "name": "stdout",
     "output_type": "stream",
     "text": [
      "input shape: torch.Size([8, 1, 48, 48])\n",
      "after network shape: torch.Size([8, 10])\n"
     ]
    }
   ],
   "source": [
    "for i, data in enumerate(train_loader):\n",
    "    inputs, labels = data[0].to(device), data[1].to(device)\n",
    "    print(f'input shape: {inputs.shape}')\n",
    "    print(f'after network shape: {model(inputs).shape}')\n",
    "    break"
   ]
  },
  {
   "cell_type": "code",
   "execution_count": 20,
   "id": "32ce80c2-4b11-4911-b8e9-2e75f6e190b6",
   "metadata": {},
   "outputs": [
    {
     "name": "stdout",
     "output_type": "stream",
     "text": [
      "Number of parameters in the model: 17,418\n"
     ]
    }
   ],
   "source": [
    "num_params = 0\n",
    "for x in model.parameters():\n",
    "  num_params += len(torch.flatten(x))\n",
    "\n",
    "print(f'Number of parameters in the model: {num_params:,}')"
   ]
  },
  {
   "cell_type": "code",
   "execution_count": 21,
   "id": "9d808895-a83f-472b-85b8-9bcd1758923c",
   "metadata": {},
   "outputs": [],
   "source": [
    "# Loss and optimizer\n",
    "criterion = nn.CrossEntropyLoss()\n",
    "optimizer = optim.Adam(model.parameters(), lr=learning_rate)"
   ]
  },
  {
   "cell_type": "code",
   "execution_count": 22,
   "id": "a37c1904-dc38-45b4-9834-022281199cf4",
   "metadata": {},
   "outputs": [],
   "source": [
    "def train_one_epoch():\n",
    "    model.train(True)\n",
    "    \n",
    "    running_loss = 0.0\n",
    "    running_accuracy = 0.0\n",
    "    \n",
    "    for batch_index, data in enumerate(train_loader):\n",
    "        inputs, labels = data[0].to(device), data[1].to(device)\n",
    "        \n",
    "        optimizer.zero_grad()\n",
    "        \n",
    "        outputs = model(inputs) # shape: [batch_size, 10]\n",
    "        correct = torch.sum(labels == torch.argmax(outputs, dim=1)).item()\n",
    "        running_accuracy += correct / batch_size\n",
    "        \n",
    "        loss = criterion(outputs, labels)\n",
    "        running_loss += loss.item()\n",
    "        loss.backward()\n",
    "        optimizer.step()\n",
    "        \n",
    "        print('Batch {0}, Loss: {1:.3f}, Accuracy: {2:.1f}%'.format(batch_index+1,\n",
    "                                                          running_loss,\n",
    "                                                          running_accuracy * 100))\n",
    "        running_loss = 0.0\n",
    "        running_accuracy = 0.0\n",
    "    \n",
    "    print()"
   ]
  },
  {
   "cell_type": "code",
   "execution_count": 23,
   "id": "9abce81e-cd3e-4197-94bc-c14ae0893f04",
   "metadata": {},
   "outputs": [],
   "source": [
    "def validate_one_epoch():\n",
    "    model.train(False)\n",
    "    running_loss = 0.0\n",
    "    running_accuracy = 0.0\n",
    "    \n",
    "    for i, data in enumerate(val_loader):\n",
    "        inputs, labels = data[0].to(device), data[1].to(device)\n",
    "        \n",
    "        with torch.no_grad():\n",
    "            outputs = model(inputs)\n",
    "            correct = torch.sum(labels == torch.argmax(outputs, dim=1)).item()\n",
    "            running_accuracy += correct / batch_size\n",
    "            loss = criterion(outputs, labels) # One number, the average batch loss\n",
    "            running_loss += loss.item()\n",
    "        \n",
    "    avg_loss_across_batches = running_loss / len(val_loader)\n",
    "    avg_acc_across_batches = (running_accuracy / len(val_loader)) * 100\n",
    "    \n",
    "    print('Val Loss: {0:.3f}, Val Accuracy: {1:.1f}%'.format(avg_loss_across_batches,\n",
    "                                                             avg_acc_across_batches))\n",
    "    print('***************************************************')\n",
    "    print()\n",
    "\n",
    "    return avg_loss_across_batches, avg_acc_across_batches"
   ]
  },
  {
   "cell_type": "code",
   "execution_count": 24,
   "id": "658f84a8-90e2-417d-bcea-d82974bf1387",
   "metadata": {},
   "outputs": [
    {
     "name": "stdout",
     "output_type": "stream",
     "text": [
      "Epoch: 1\n",
      "\n",
      "Batch 1, Loss: 2.316, Accuracy: 12.5%\n",
      "Batch 2, Loss: 2.275, Accuracy: 12.5%\n",
      "Batch 3, Loss: 2.315, Accuracy: 0.0%\n",
      "Batch 4, Loss: 2.302, Accuracy: 12.5%\n",
      "Batch 5, Loss: 2.337, Accuracy: 0.0%\n",
      "Batch 6, Loss: 2.295, Accuracy: 12.5%\n",
      "Batch 7, Loss: 2.305, Accuracy: 12.5%\n",
      "Batch 8, Loss: 2.265, Accuracy: 25.0%\n",
      "Batch 9, Loss: 2.324, Accuracy: 12.5%\n",
      "Batch 10, Loss: 2.289, Accuracy: 12.5%\n",
      "Batch 11, Loss: 2.354, Accuracy: 0.0%\n",
      "Batch 12, Loss: 2.270, Accuracy: 12.5%\n",
      "Batch 13, Loss: 2.299, Accuracy: 0.0%\n",
      "Batch 14, Loss: 2.314, Accuracy: 0.0%\n",
      "Batch 15, Loss: 2.276, Accuracy: 12.5%\n",
      "Batch 16, Loss: 2.288, Accuracy: 12.5%\n",
      "Batch 17, Loss: 2.248, Accuracy: 25.0%\n",
      "Batch 18, Loss: 2.389, Accuracy: 0.0%\n",
      "Batch 19, Loss: 2.269, Accuracy: 12.5%\n",
      "Batch 20, Loss: 2.300, Accuracy: 12.5%\n",
      "Batch 21, Loss: 2.291, Accuracy: 12.5%\n",
      "Batch 22, Loss: 2.244, Accuracy: 25.0%\n",
      "Batch 23, Loss: 2.343, Accuracy: 12.5%\n",
      "Batch 24, Loss: 2.302, Accuracy: 25.0%\n",
      "Batch 25, Loss: 2.265, Accuracy: 12.5%\n",
      "Batch 26, Loss: 2.285, Accuracy: 25.0%\n",
      "Batch 27, Loss: 2.367, Accuracy: 12.5%\n",
      "Batch 28, Loss: 2.227, Accuracy: 12.5%\n",
      "Batch 29, Loss: 2.215, Accuracy: 25.0%\n",
      "Batch 30, Loss: 2.195, Accuracy: 62.5%\n",
      "Batch 31, Loss: 2.295, Accuracy: 12.5%\n",
      "Batch 32, Loss: 2.250, Accuracy: 12.5%\n",
      "Batch 33, Loss: 2.302, Accuracy: 12.5%\n",
      "Batch 34, Loss: 2.301, Accuracy: 0.0%\n",
      "Batch 35, Loss: 2.273, Accuracy: 12.5%\n",
      "Batch 36, Loss: 2.283, Accuracy: 12.5%\n",
      "Batch 37, Loss: 2.162, Accuracy: 37.5%\n",
      "Batch 38, Loss: 2.205, Accuracy: 12.5%\n",
      "Batch 39, Loss: 2.245, Accuracy: 25.0%\n",
      "Batch 40, Loss: 2.235, Accuracy: 0.0%\n",
      "Batch 41, Loss: 2.198, Accuracy: 12.5%\n",
      "Batch 42, Loss: 2.212, Accuracy: 25.0%\n",
      "Batch 43, Loss: 2.262, Accuracy: 0.0%\n",
      "Batch 44, Loss: 2.299, Accuracy: 0.0%\n",
      "Batch 45, Loss: 2.239, Accuracy: 0.0%\n",
      "Batch 46, Loss: 2.139, Accuracy: 37.5%\n",
      "Batch 47, Loss: 2.229, Accuracy: 0.0%\n",
      "Batch 48, Loss: 2.243, Accuracy: 12.5%\n",
      "Batch 49, Loss: 2.216, Accuracy: 0.0%\n",
      "Batch 50, Loss: 2.185, Accuracy: 25.0%\n",
      "\n",
      "Val Loss: 2.182, Val Accuracy: 25.0%\n",
      "***************************************************\n",
      "\n",
      "Epoch: 2\n",
      "\n",
      "Batch 1, Loss: 2.180, Accuracy: 25.0%\n",
      "Batch 2, Loss: 2.282, Accuracy: 12.5%\n",
      "Batch 3, Loss: 2.222, Accuracy: 12.5%\n",
      "Batch 4, Loss: 2.220, Accuracy: 12.5%\n",
      "Batch 5, Loss: 2.177, Accuracy: 25.0%\n",
      "Batch 6, Loss: 2.040, Accuracy: 37.5%\n",
      "Batch 7, Loss: 2.247, Accuracy: 12.5%\n",
      "Batch 8, Loss: 1.875, Accuracy: 62.5%\n",
      "Batch 9, Loss: 2.232, Accuracy: 12.5%\n",
      "Batch 10, Loss: 2.128, Accuracy: 25.0%\n",
      "Batch 11, Loss: 2.186, Accuracy: 50.0%\n",
      "Batch 12, Loss: 2.304, Accuracy: 25.0%\n",
      "Batch 13, Loss: 2.035, Accuracy: 37.5%\n",
      "Batch 14, Loss: 1.863, Accuracy: 75.0%\n",
      "Batch 15, Loss: 2.020, Accuracy: 50.0%\n",
      "Batch 16, Loss: 2.057, Accuracy: 37.5%\n",
      "Batch 17, Loss: 2.142, Accuracy: 25.0%\n",
      "Batch 18, Loss: 2.038, Accuracy: 50.0%\n",
      "Batch 19, Loss: 2.042, Accuracy: 37.5%\n",
      "Batch 20, Loss: 2.127, Accuracy: 37.5%\n",
      "Batch 21, Loss: 2.181, Accuracy: 25.0%\n",
      "Batch 22, Loss: 1.768, Accuracy: 75.0%\n",
      "Batch 23, Loss: 2.202, Accuracy: 37.5%\n",
      "Batch 24, Loss: 2.308, Accuracy: 25.0%\n",
      "Batch 25, Loss: 2.043, Accuracy: 37.5%\n",
      "Batch 26, Loss: 1.788, Accuracy: 50.0%\n",
      "Batch 27, Loss: 2.048, Accuracy: 25.0%\n",
      "Batch 28, Loss: 1.982, Accuracy: 37.5%\n",
      "Batch 29, Loss: 1.907, Accuracy: 37.5%\n",
      "Batch 30, Loss: 1.716, Accuracy: 75.0%\n",
      "Batch 31, Loss: 1.853, Accuracy: 37.5%\n",
      "Batch 32, Loss: 2.160, Accuracy: 12.5%\n",
      "Batch 33, Loss: 2.058, Accuracy: 12.5%\n",
      "Batch 34, Loss: 2.002, Accuracy: 12.5%\n",
      "Batch 35, Loss: 1.854, Accuracy: 37.5%\n",
      "Batch 36, Loss: 2.039, Accuracy: 25.0%\n",
      "Batch 37, Loss: 2.088, Accuracy: 12.5%\n",
      "Batch 38, Loss: 2.116, Accuracy: 12.5%\n",
      "Batch 39, Loss: 1.801, Accuracy: 50.0%\n",
      "Batch 40, Loss: 1.995, Accuracy: 25.0%\n",
      "Batch 41, Loss: 1.940, Accuracy: 25.0%\n",
      "Batch 42, Loss: 1.598, Accuracy: 62.5%\n",
      "Batch 43, Loss: 1.932, Accuracy: 37.5%\n",
      "Batch 44, Loss: 1.873, Accuracy: 25.0%\n",
      "Batch 45, Loss: 1.606, Accuracy: 62.5%\n",
      "Batch 46, Loss: 1.729, Accuracy: 25.0%\n",
      "Batch 47, Loss: 1.579, Accuracy: 50.0%\n",
      "Batch 48, Loss: 1.625, Accuracy: 50.0%\n",
      "Batch 49, Loss: 1.920, Accuracy: 37.5%\n",
      "Batch 50, Loss: 1.762, Accuracy: 50.0%\n",
      "\n",
      "Val Loss: 1.638, Val Accuracy: 51.8%\n",
      "***************************************************\n",
      "\n",
      "Epoch: 3\n",
      "\n",
      "Batch 1, Loss: 1.817, Accuracy: 37.5%\n",
      "Batch 2, Loss: 1.664, Accuracy: 50.0%\n",
      "Batch 3, Loss: 1.589, Accuracy: 50.0%\n",
      "Batch 4, Loss: 1.909, Accuracy: 12.5%\n",
      "Batch 5, Loss: 1.772, Accuracy: 25.0%\n",
      "Batch 6, Loss: 1.684, Accuracy: 37.5%\n",
      "Batch 7, Loss: 1.924, Accuracy: 50.0%\n",
      "Batch 8, Loss: 1.691, Accuracy: 37.5%\n",
      "Batch 9, Loss: 1.335, Accuracy: 75.0%\n",
      "Batch 10, Loss: 1.476, Accuracy: 62.5%\n",
      "Batch 11, Loss: 1.807, Accuracy: 25.0%\n",
      "Batch 12, Loss: 1.419, Accuracy: 62.5%\n",
      "Batch 13, Loss: 1.221, Accuracy: 62.5%\n",
      "Batch 14, Loss: 1.207, Accuracy: 50.0%\n",
      "Batch 15, Loss: 1.212, Accuracy: 87.5%\n",
      "Batch 16, Loss: 1.734, Accuracy: 37.5%\n",
      "Batch 17, Loss: 1.071, Accuracy: 75.0%\n",
      "Batch 18, Loss: 1.316, Accuracy: 75.0%\n",
      "Batch 19, Loss: 0.896, Accuracy: 87.5%\n",
      "Batch 20, Loss: 1.247, Accuracy: 75.0%\n",
      "Batch 21, Loss: 1.180, Accuracy: 50.0%\n",
      "Batch 22, Loss: 1.498, Accuracy: 25.0%\n",
      "Batch 23, Loss: 1.200, Accuracy: 62.5%\n",
      "Batch 24, Loss: 1.112, Accuracy: 50.0%\n",
      "Batch 25, Loss: 1.056, Accuracy: 75.0%\n",
      "Batch 26, Loss: 0.830, Accuracy: 87.5%\n",
      "Batch 27, Loss: 1.631, Accuracy: 50.0%\n",
      "Batch 28, Loss: 1.106, Accuracy: 75.0%\n",
      "Batch 29, Loss: 1.522, Accuracy: 50.0%\n",
      "Batch 30, Loss: 1.067, Accuracy: 50.0%\n",
      "Batch 31, Loss: 1.283, Accuracy: 50.0%\n",
      "Batch 32, Loss: 1.082, Accuracy: 75.0%\n",
      "Batch 33, Loss: 1.261, Accuracy: 62.5%\n",
      "Batch 34, Loss: 1.011, Accuracy: 50.0%\n",
      "Batch 35, Loss: 0.805, Accuracy: 87.5%\n",
      "Batch 36, Loss: 1.217, Accuracy: 50.0%\n",
      "Batch 37, Loss: 1.163, Accuracy: 75.0%\n",
      "Batch 38, Loss: 1.301, Accuracy: 75.0%\n",
      "Batch 39, Loss: 0.888, Accuracy: 62.5%\n",
      "Batch 40, Loss: 1.023, Accuracy: 75.0%\n",
      "Batch 41, Loss: 1.483, Accuracy: 37.5%\n",
      "Batch 42, Loss: 0.808, Accuracy: 62.5%\n",
      "Batch 43, Loss: 0.770, Accuracy: 75.0%\n",
      "Batch 44, Loss: 1.154, Accuracy: 75.0%\n",
      "Batch 45, Loss: 1.308, Accuracy: 62.5%\n",
      "Batch 46, Loss: 0.655, Accuracy: 100.0%\n",
      "Batch 47, Loss: 0.877, Accuracy: 75.0%\n",
      "Batch 48, Loss: 1.039, Accuracy: 62.5%\n",
      "Batch 49, Loss: 0.851, Accuracy: 62.5%\n",
      "Batch 50, Loss: 1.297, Accuracy: 62.5%\n",
      "\n",
      "Val Loss: 1.140, Val Accuracy: 57.1%\n",
      "***************************************************\n",
      "\n",
      "Epoch: 4\n",
      "\n",
      "Batch 1, Loss: 0.958, Accuracy: 75.0%\n",
      "Batch 2, Loss: 0.732, Accuracy: 75.0%\n",
      "Batch 3, Loss: 1.038, Accuracy: 62.5%\n",
      "Batch 4, Loss: 1.307, Accuracy: 50.0%\n",
      "Batch 5, Loss: 0.627, Accuracy: 87.5%\n",
      "Batch 6, Loss: 0.945, Accuracy: 62.5%\n",
      "Batch 7, Loss: 0.831, Accuracy: 75.0%\n",
      "Batch 8, Loss: 0.697, Accuracy: 87.5%\n",
      "Batch 9, Loss: 0.809, Accuracy: 62.5%\n",
      "Batch 10, Loss: 0.716, Accuracy: 75.0%\n",
      "Batch 11, Loss: 1.263, Accuracy: 62.5%\n",
      "Batch 12, Loss: 1.131, Accuracy: 37.5%\n",
      "Batch 13, Loss: 1.187, Accuracy: 50.0%\n",
      "Batch 14, Loss: 0.645, Accuracy: 87.5%\n",
      "Batch 15, Loss: 0.884, Accuracy: 75.0%\n",
      "Batch 16, Loss: 0.883, Accuracy: 87.5%\n",
      "Batch 17, Loss: 0.704, Accuracy: 62.5%\n",
      "Batch 18, Loss: 0.631, Accuracy: 87.5%\n",
      "Batch 19, Loss: 1.035, Accuracy: 62.5%\n",
      "Batch 20, Loss: 1.371, Accuracy: 62.5%\n",
      "Batch 21, Loss: 0.676, Accuracy: 87.5%\n",
      "Batch 22, Loss: 0.842, Accuracy: 75.0%\n",
      "Batch 23, Loss: 0.759, Accuracy: 75.0%\n",
      "Batch 24, Loss: 0.667, Accuracy: 87.5%\n",
      "Batch 25, Loss: 0.609, Accuracy: 75.0%\n",
      "Batch 26, Loss: 0.835, Accuracy: 75.0%\n",
      "Batch 27, Loss: 0.864, Accuracy: 62.5%\n",
      "Batch 28, Loss: 0.715, Accuracy: 50.0%\n",
      "Batch 29, Loss: 0.778, Accuracy: 75.0%\n",
      "Batch 30, Loss: 0.665, Accuracy: 75.0%\n",
      "Batch 31, Loss: 1.034, Accuracy: 62.5%\n",
      "Batch 32, Loss: 0.788, Accuracy: 75.0%\n",
      "Batch 33, Loss: 1.155, Accuracy: 75.0%\n",
      "Batch 34, Loss: 0.938, Accuracy: 50.0%\n",
      "Batch 35, Loss: 1.346, Accuracy: 37.5%\n",
      "Batch 36, Loss: 0.592, Accuracy: 75.0%\n",
      "Batch 37, Loss: 0.620, Accuracy: 62.5%\n",
      "Batch 38, Loss: 0.490, Accuracy: 75.0%\n",
      "Batch 39, Loss: 0.465, Accuracy: 87.5%\n",
      "Batch 40, Loss: 0.934, Accuracy: 62.5%\n",
      "Batch 41, Loss: 0.643, Accuracy: 87.5%\n",
      "Batch 42, Loss: 0.572, Accuracy: 62.5%\n",
      "Batch 43, Loss: 0.851, Accuracy: 50.0%\n",
      "Batch 44, Loss: 0.888, Accuracy: 62.5%\n",
      "Batch 45, Loss: 0.650, Accuracy: 75.0%\n",
      "Batch 46, Loss: 0.660, Accuracy: 75.0%\n",
      "Batch 47, Loss: 0.759, Accuracy: 50.0%\n",
      "Batch 48, Loss: 0.564, Accuracy: 87.5%\n",
      "Batch 49, Loss: 0.529, Accuracy: 87.5%\n",
      "Batch 50, Loss: 0.497, Accuracy: 100.0%\n",
      "\n",
      "Val Loss: 0.633, Val Accuracy: 78.6%\n",
      "***************************************************\n",
      "\n",
      "Epoch: 5\n",
      "\n",
      "Batch 1, Loss: 0.365, Accuracy: 100.0%\n",
      "Batch 2, Loss: 0.653, Accuracy: 75.0%\n",
      "Batch 3, Loss: 0.687, Accuracy: 87.5%\n",
      "Batch 4, Loss: 0.982, Accuracy: 62.5%\n",
      "Batch 5, Loss: 0.622, Accuracy: 75.0%\n",
      "Batch 6, Loss: 0.816, Accuracy: 62.5%\n",
      "Batch 7, Loss: 1.124, Accuracy: 75.0%\n",
      "Batch 8, Loss: 0.439, Accuracy: 100.0%\n",
      "Batch 9, Loss: 0.549, Accuracy: 87.5%\n",
      "Batch 10, Loss: 0.553, Accuracy: 75.0%\n",
      "Batch 11, Loss: 0.300, Accuracy: 87.5%\n",
      "Batch 12, Loss: 1.130, Accuracy: 75.0%\n",
      "Batch 13, Loss: 0.495, Accuracy: 87.5%\n",
      "Batch 14, Loss: 0.480, Accuracy: 75.0%\n",
      "Batch 15, Loss: 0.838, Accuracy: 75.0%\n",
      "Batch 16, Loss: 0.660, Accuracy: 75.0%\n",
      "Batch 17, Loss: 0.530, Accuracy: 75.0%\n",
      "Batch 18, Loss: 0.404, Accuracy: 87.5%\n",
      "Batch 19, Loss: 0.290, Accuracy: 87.5%\n",
      "Batch 20, Loss: 0.521, Accuracy: 87.5%\n",
      "Batch 21, Loss: 0.382, Accuracy: 87.5%\n",
      "Batch 22, Loss: 0.247, Accuracy: 100.0%\n",
      "Batch 23, Loss: 0.436, Accuracy: 75.0%\n",
      "Batch 24, Loss: 0.216, Accuracy: 100.0%\n",
      "Batch 25, Loss: 0.630, Accuracy: 87.5%\n",
      "Batch 26, Loss: 0.796, Accuracy: 75.0%\n",
      "Batch 27, Loss: 0.585, Accuracy: 87.5%\n",
      "Batch 28, Loss: 0.929, Accuracy: 62.5%\n",
      "Batch 29, Loss: 0.762, Accuracy: 62.5%\n",
      "Batch 30, Loss: 0.690, Accuracy: 75.0%\n",
      "Batch 31, Loss: 0.494, Accuracy: 87.5%\n",
      "Batch 32, Loss: 0.615, Accuracy: 87.5%\n",
      "Batch 33, Loss: 0.599, Accuracy: 87.5%\n",
      "Batch 34, Loss: 0.226, Accuracy: 100.0%\n",
      "Batch 35, Loss: 0.382, Accuracy: 100.0%\n",
      "Batch 36, Loss: 0.439, Accuracy: 100.0%\n",
      "Batch 37, Loss: 0.710, Accuracy: 87.5%\n",
      "Batch 38, Loss: 0.764, Accuracy: 75.0%\n",
      "Batch 39, Loss: 0.906, Accuracy: 75.0%\n",
      "Batch 40, Loss: 0.178, Accuracy: 100.0%\n",
      "Batch 41, Loss: 0.525, Accuracy: 87.5%\n",
      "Batch 42, Loss: 0.478, Accuracy: 75.0%\n",
      "Batch 43, Loss: 0.469, Accuracy: 75.0%\n",
      "Batch 44, Loss: 0.290, Accuracy: 100.0%\n",
      "Batch 45, Loss: 0.553, Accuracy: 75.0%\n",
      "Batch 46, Loss: 0.158, Accuracy: 100.0%\n",
      "Batch 47, Loss: 0.326, Accuracy: 100.0%\n",
      "Batch 48, Loss: 0.861, Accuracy: 50.0%\n",
      "Batch 49, Loss: 0.300, Accuracy: 87.5%\n",
      "Batch 50, Loss: 0.362, Accuracy: 100.0%\n",
      "\n",
      "Val Loss: 0.359, Val Accuracy: 85.7%\n",
      "***************************************************\n",
      "\n",
      "Epoch: 6\n",
      "\n",
      "Batch 1, Loss: 0.496, Accuracy: 75.0%\n",
      "Batch 2, Loss: 0.394, Accuracy: 100.0%\n",
      "Batch 3, Loss: 0.323, Accuracy: 87.5%\n",
      "Batch 4, Loss: 0.823, Accuracy: 75.0%\n",
      "Batch 5, Loss: 0.419, Accuracy: 87.5%\n",
      "Batch 6, Loss: 0.309, Accuracy: 87.5%\n",
      "Batch 7, Loss: 0.197, Accuracy: 100.0%\n",
      "Batch 8, Loss: 0.777, Accuracy: 75.0%\n",
      "Batch 9, Loss: 0.129, Accuracy: 100.0%\n",
      "Batch 10, Loss: 0.469, Accuracy: 87.5%\n",
      "Batch 11, Loss: 0.288, Accuracy: 87.5%\n",
      "Batch 12, Loss: 0.491, Accuracy: 75.0%\n",
      "Batch 13, Loss: 0.415, Accuracy: 87.5%\n",
      "Batch 14, Loss: 0.189, Accuracy: 100.0%\n",
      "Batch 15, Loss: 0.446, Accuracy: 87.5%\n",
      "Batch 16, Loss: 0.259, Accuracy: 100.0%\n",
      "Batch 17, Loss: 0.602, Accuracy: 75.0%\n",
      "Batch 18, Loss: 0.475, Accuracy: 100.0%\n",
      "Batch 19, Loss: 0.537, Accuracy: 87.5%\n",
      "Batch 20, Loss: 0.273, Accuracy: 100.0%\n",
      "Batch 21, Loss: 0.373, Accuracy: 87.5%\n",
      "Batch 22, Loss: 0.470, Accuracy: 75.0%\n",
      "Batch 23, Loss: 0.519, Accuracy: 75.0%\n",
      "Batch 24, Loss: 0.348, Accuracy: 100.0%\n",
      "Batch 25, Loss: 0.348, Accuracy: 75.0%\n",
      "Batch 26, Loss: 0.254, Accuracy: 100.0%\n",
      "Batch 27, Loss: 0.469, Accuracy: 87.5%\n",
      "Batch 28, Loss: 0.329, Accuracy: 87.5%\n",
      "Batch 29, Loss: 0.548, Accuracy: 75.0%\n",
      "Batch 30, Loss: 0.277, Accuracy: 100.0%\n",
      "Batch 31, Loss: 0.383, Accuracy: 87.5%\n",
      "Batch 32, Loss: 0.413, Accuracy: 87.5%\n",
      "Batch 33, Loss: 0.627, Accuracy: 75.0%\n",
      "Batch 34, Loss: 0.260, Accuracy: 100.0%\n",
      "Batch 35, Loss: 0.436, Accuracy: 87.5%\n",
      "Batch 36, Loss: 0.510, Accuracy: 75.0%\n",
      "Batch 37, Loss: 0.388, Accuracy: 87.5%\n",
      "Batch 38, Loss: 0.647, Accuracy: 75.0%\n",
      "Batch 39, Loss: 0.214, Accuracy: 100.0%\n",
      "Batch 40, Loss: 0.129, Accuracy: 100.0%\n",
      "Batch 41, Loss: 0.550, Accuracy: 75.0%\n",
      "Batch 42, Loss: 0.230, Accuracy: 100.0%\n",
      "Batch 43, Loss: 0.316, Accuracy: 87.5%\n",
      "Batch 44, Loss: 0.190, Accuracy: 100.0%\n",
      "Batch 45, Loss: 0.293, Accuracy: 100.0%\n",
      "Batch 46, Loss: 0.208, Accuracy: 87.5%\n",
      "Batch 47, Loss: 0.479, Accuracy: 87.5%\n",
      "Batch 48, Loss: 0.368, Accuracy: 75.0%\n",
      "Batch 49, Loss: 0.063, Accuracy: 100.0%\n",
      "Batch 50, Loss: 0.324, Accuracy: 87.5%\n",
      "\n",
      "Val Loss: 0.269, Val Accuracy: 83.9%\n",
      "***************************************************\n",
      "\n",
      "Epoch: 7\n",
      "\n",
      "Batch 1, Loss: 0.070, Accuracy: 100.0%\n",
      "Batch 2, Loss: 0.481, Accuracy: 87.5%\n",
      "Batch 3, Loss: 0.188, Accuracy: 100.0%\n",
      "Batch 4, Loss: 0.109, Accuracy: 100.0%\n",
      "Batch 5, Loss: 0.225, Accuracy: 100.0%\n",
      "Batch 6, Loss: 0.536, Accuracy: 75.0%\n",
      "Batch 7, Loss: 0.183, Accuracy: 100.0%\n",
      "Batch 8, Loss: 0.065, Accuracy: 100.0%\n",
      "Batch 9, Loss: 0.085, Accuracy: 100.0%\n",
      "Batch 10, Loss: 0.146, Accuracy: 100.0%\n",
      "Batch 11, Loss: 0.427, Accuracy: 87.5%\n",
      "Batch 12, Loss: 0.341, Accuracy: 87.5%\n",
      "Batch 13, Loss: 0.261, Accuracy: 87.5%\n",
      "Batch 14, Loss: 0.133, Accuracy: 100.0%\n",
      "Batch 15, Loss: 0.179, Accuracy: 100.0%\n",
      "Batch 16, Loss: 0.167, Accuracy: 100.0%\n",
      "Batch 17, Loss: 0.346, Accuracy: 100.0%\n",
      "Batch 18, Loss: 0.354, Accuracy: 87.5%\n",
      "Batch 19, Loss: 0.326, Accuracy: 100.0%\n",
      "Batch 20, Loss: 0.292, Accuracy: 87.5%\n",
      "Batch 21, Loss: 0.148, Accuracy: 100.0%\n",
      "Batch 22, Loss: 0.135, Accuracy: 100.0%\n",
      "Batch 23, Loss: 0.176, Accuracy: 100.0%\n",
      "Batch 24, Loss: 0.373, Accuracy: 87.5%\n",
      "Batch 25, Loss: 0.098, Accuracy: 100.0%\n",
      "Batch 26, Loss: 0.105, Accuracy: 100.0%\n",
      "Batch 27, Loss: 0.251, Accuracy: 87.5%\n",
      "Batch 28, Loss: 0.428, Accuracy: 75.0%\n",
      "Batch 29, Loss: 0.151, Accuracy: 100.0%\n",
      "Batch 30, Loss: 0.095, Accuracy: 100.0%\n",
      "Batch 31, Loss: 0.258, Accuracy: 87.5%\n",
      "Batch 32, Loss: 0.623, Accuracy: 75.0%\n",
      "Batch 33, Loss: 0.712, Accuracy: 50.0%\n",
      "Batch 34, Loss: 0.484, Accuracy: 62.5%\n",
      "Batch 35, Loss: 0.167, Accuracy: 100.0%\n",
      "Batch 36, Loss: 0.521, Accuracy: 87.5%\n",
      "Batch 37, Loss: 0.208, Accuracy: 100.0%\n",
      "Batch 38, Loss: 0.458, Accuracy: 75.0%\n",
      "Batch 39, Loss: 0.747, Accuracy: 62.5%\n",
      "Batch 40, Loss: 0.224, Accuracy: 87.5%\n",
      "Batch 41, Loss: 0.103, Accuracy: 100.0%\n",
      "Batch 42, Loss: 0.396, Accuracy: 87.5%\n",
      "Batch 43, Loss: 0.395, Accuracy: 87.5%\n",
      "Batch 44, Loss: 0.017, Accuracy: 100.0%\n",
      "Batch 45, Loss: 0.273, Accuracy: 87.5%\n",
      "Batch 46, Loss: 0.098, Accuracy: 100.0%\n",
      "Batch 47, Loss: 0.258, Accuracy: 87.5%\n",
      "Batch 48, Loss: 0.906, Accuracy: 75.0%\n",
      "Batch 49, Loss: 0.494, Accuracy: 87.5%\n",
      "Batch 50, Loss: 1.068, Accuracy: 62.5%\n",
      "\n",
      "Val Loss: 0.215, Val Accuracy: 82.1%\n",
      "***************************************************\n",
      "\n",
      "Epoch: 8\n",
      "\n",
      "Batch 1, Loss: 0.033, Accuracy: 100.0%\n",
      "Batch 2, Loss: 0.189, Accuracy: 87.5%\n",
      "Batch 3, Loss: 0.270, Accuracy: 87.5%\n",
      "Batch 4, Loss: 0.078, Accuracy: 100.0%\n",
      "Batch 5, Loss: 0.478, Accuracy: 75.0%\n",
      "Batch 6, Loss: 0.204, Accuracy: 87.5%\n",
      "Batch 7, Loss: 0.122, Accuracy: 100.0%\n",
      "Batch 8, Loss: 0.215, Accuracy: 87.5%\n",
      "Batch 9, Loss: 0.132, Accuracy: 100.0%\n",
      "Batch 10, Loss: 0.154, Accuracy: 87.5%\n",
      "Batch 11, Loss: 0.670, Accuracy: 87.5%\n",
      "Batch 12, Loss: 0.640, Accuracy: 87.5%\n",
      "Batch 13, Loss: 0.755, Accuracy: 75.0%\n",
      "Batch 14, Loss: 0.290, Accuracy: 75.0%\n",
      "Batch 15, Loss: 0.077, Accuracy: 100.0%\n",
      "Batch 16, Loss: 0.281, Accuracy: 87.5%\n",
      "Batch 17, Loss: 0.280, Accuracy: 100.0%\n",
      "Batch 18, Loss: 0.217, Accuracy: 87.5%\n",
      "Batch 19, Loss: 0.388, Accuracy: 75.0%\n",
      "Batch 20, Loss: 0.303, Accuracy: 100.0%\n",
      "Batch 21, Loss: 0.172, Accuracy: 100.0%\n",
      "Batch 22, Loss: 0.139, Accuracy: 100.0%\n",
      "Batch 23, Loss: 0.230, Accuracy: 87.5%\n",
      "Batch 24, Loss: 0.379, Accuracy: 87.5%\n",
      "Batch 25, Loss: 0.629, Accuracy: 75.0%\n",
      "Batch 26, Loss: 0.456, Accuracy: 87.5%\n",
      "Batch 27, Loss: 0.181, Accuracy: 100.0%\n",
      "Batch 28, Loss: 0.258, Accuracy: 100.0%\n",
      "Batch 29, Loss: 0.245, Accuracy: 87.5%\n",
      "Batch 30, Loss: 0.151, Accuracy: 100.0%\n",
      "Batch 31, Loss: 0.131, Accuracy: 100.0%\n",
      "Batch 32, Loss: 0.291, Accuracy: 87.5%\n",
      "Batch 33, Loss: 0.261, Accuracy: 100.0%\n",
      "Batch 34, Loss: 0.296, Accuracy: 87.5%\n",
      "Batch 35, Loss: 0.408, Accuracy: 75.0%\n",
      "Batch 36, Loss: 0.110, Accuracy: 100.0%\n",
      "Batch 37, Loss: 0.093, Accuracy: 100.0%\n",
      "Batch 38, Loss: 0.094, Accuracy: 100.0%\n",
      "Batch 39, Loss: 0.023, Accuracy: 100.0%\n",
      "Batch 40, Loss: 0.231, Accuracy: 87.5%\n",
      "Batch 41, Loss: 0.275, Accuracy: 100.0%\n",
      "Batch 42, Loss: 0.541, Accuracy: 62.5%\n",
      "Batch 43, Loss: 0.092, Accuracy: 100.0%\n",
      "Batch 44, Loss: 0.119, Accuracy: 100.0%\n",
      "Batch 45, Loss: 0.097, Accuracy: 87.5%\n",
      "Batch 46, Loss: 0.181, Accuracy: 100.0%\n",
      "Batch 47, Loss: 0.375, Accuracy: 87.5%\n",
      "Batch 48, Loss: 0.141, Accuracy: 100.0%\n",
      "Batch 49, Loss: 0.047, Accuracy: 100.0%\n",
      "Batch 50, Loss: 0.255, Accuracy: 87.5%\n",
      "\n",
      "Val Loss: 0.264, Val Accuracy: 80.4%\n",
      "***************************************************\n",
      "\n",
      "Epoch: 9\n",
      "\n",
      "Batch 1, Loss: 0.169, Accuracy: 87.5%\n",
      "Batch 2, Loss: 0.225, Accuracy: 100.0%\n",
      "Batch 3, Loss: 0.049, Accuracy: 100.0%\n",
      "Batch 4, Loss: 0.144, Accuracy: 100.0%\n",
      "Batch 5, Loss: 0.103, Accuracy: 100.0%\n",
      "Batch 6, Loss: 0.188, Accuracy: 100.0%\n",
      "Batch 7, Loss: 0.044, Accuracy: 100.0%\n",
      "Batch 8, Loss: 0.125, Accuracy: 100.0%\n",
      "Batch 9, Loss: 0.628, Accuracy: 75.0%\n",
      "Batch 10, Loss: 0.189, Accuracy: 100.0%\n",
      "Batch 11, Loss: 0.086, Accuracy: 100.0%\n",
      "Batch 12, Loss: 0.068, Accuracy: 100.0%\n",
      "Batch 13, Loss: 0.131, Accuracy: 100.0%\n",
      "Batch 14, Loss: 0.366, Accuracy: 87.5%\n",
      "Batch 15, Loss: 0.101, Accuracy: 100.0%\n",
      "Batch 16, Loss: 0.168, Accuracy: 100.0%\n",
      "Batch 17, Loss: 0.352, Accuracy: 100.0%\n",
      "Batch 18, Loss: 0.172, Accuracy: 100.0%\n",
      "Batch 19, Loss: 0.231, Accuracy: 87.5%\n",
      "Batch 20, Loss: 0.047, Accuracy: 100.0%\n",
      "Batch 21, Loss: 0.042, Accuracy: 100.0%\n",
      "Batch 22, Loss: 0.038, Accuracy: 100.0%\n",
      "Batch 23, Loss: 0.199, Accuracy: 100.0%\n",
      "Batch 24, Loss: 0.052, Accuracy: 100.0%\n",
      "Batch 25, Loss: 0.139, Accuracy: 100.0%\n",
      "Batch 26, Loss: 0.117, Accuracy: 87.5%\n",
      "Batch 27, Loss: 0.157, Accuracy: 87.5%\n",
      "Batch 28, Loss: 0.092, Accuracy: 100.0%\n",
      "Batch 29, Loss: 0.069, Accuracy: 100.0%\n",
      "Batch 30, Loss: 0.059, Accuracy: 100.0%\n",
      "Batch 31, Loss: 0.069, Accuracy: 100.0%\n",
      "Batch 32, Loss: 0.150, Accuracy: 100.0%\n",
      "Batch 33, Loss: 0.077, Accuracy: 100.0%\n",
      "Batch 34, Loss: 0.030, Accuracy: 100.0%\n",
      "Batch 35, Loss: 0.136, Accuracy: 100.0%\n",
      "Batch 36, Loss: 0.080, Accuracy: 100.0%\n",
      "Batch 37, Loss: 0.168, Accuracy: 100.0%\n",
      "Batch 38, Loss: 0.144, Accuracy: 100.0%\n",
      "Batch 39, Loss: 0.096, Accuracy: 100.0%\n",
      "Batch 40, Loss: 0.065, Accuracy: 100.0%\n",
      "Batch 41, Loss: 0.067, Accuracy: 100.0%\n",
      "Batch 42, Loss: 0.142, Accuracy: 100.0%\n",
      "Batch 43, Loss: 0.149, Accuracy: 100.0%\n",
      "Batch 44, Loss: 0.042, Accuracy: 100.0%\n",
      "Batch 45, Loss: 0.059, Accuracy: 100.0%\n",
      "Batch 46, Loss: 0.279, Accuracy: 100.0%\n",
      "Batch 47, Loss: 0.123, Accuracy: 100.0%\n",
      "Batch 48, Loss: 0.179, Accuracy: 87.5%\n",
      "Batch 49, Loss: 0.090, Accuracy: 100.0%\n",
      "Batch 50, Loss: 0.087, Accuracy: 100.0%\n",
      "\n",
      "Val Loss: 0.177, Val Accuracy: 83.9%\n",
      "***************************************************\n",
      "\n",
      "Epoch: 10\n",
      "\n",
      "Batch 1, Loss: 0.062, Accuracy: 100.0%\n",
      "Batch 2, Loss: 0.023, Accuracy: 100.0%\n",
      "Batch 3, Loss: 0.192, Accuracy: 87.5%\n",
      "Batch 4, Loss: 0.129, Accuracy: 100.0%\n",
      "Batch 5, Loss: 0.146, Accuracy: 100.0%\n",
      "Batch 6, Loss: 0.124, Accuracy: 100.0%\n",
      "Batch 7, Loss: 0.015, Accuracy: 100.0%\n",
      "Batch 8, Loss: 0.114, Accuracy: 87.5%\n",
      "Batch 9, Loss: 0.054, Accuracy: 100.0%\n",
      "Batch 10, Loss: 0.151, Accuracy: 100.0%\n",
      "Batch 11, Loss: 0.198, Accuracy: 87.5%\n",
      "Batch 12, Loss: 0.117, Accuracy: 100.0%\n",
      "Batch 13, Loss: 0.102, Accuracy: 100.0%\n",
      "Batch 14, Loss: 0.193, Accuracy: 87.5%\n",
      "Batch 15, Loss: 0.307, Accuracy: 87.5%\n",
      "Batch 16, Loss: 0.143, Accuracy: 100.0%\n",
      "Batch 17, Loss: 0.058, Accuracy: 100.0%\n",
      "Batch 18, Loss: 0.043, Accuracy: 100.0%\n",
      "Batch 19, Loss: 0.010, Accuracy: 100.0%\n",
      "Batch 20, Loss: 0.051, Accuracy: 100.0%\n",
      "Batch 21, Loss: 0.040, Accuracy: 100.0%\n",
      "Batch 22, Loss: 0.281, Accuracy: 87.5%\n",
      "Batch 23, Loss: 0.060, Accuracy: 100.0%\n",
      "Batch 24, Loss: 0.226, Accuracy: 87.5%\n",
      "Batch 25, Loss: 0.092, Accuracy: 100.0%\n",
      "Batch 26, Loss: 0.073, Accuracy: 100.0%\n",
      "Batch 27, Loss: 0.021, Accuracy: 100.0%\n",
      "Batch 28, Loss: 0.064, Accuracy: 100.0%\n",
      "Batch 29, Loss: 0.106, Accuracy: 100.0%\n",
      "Batch 30, Loss: 0.090, Accuracy: 100.0%\n",
      "Batch 31, Loss: 0.029, Accuracy: 100.0%\n",
      "Batch 32, Loss: 0.061, Accuracy: 100.0%\n",
      "Batch 33, Loss: 0.017, Accuracy: 100.0%\n",
      "Batch 34, Loss: 0.087, Accuracy: 100.0%\n",
      "Batch 35, Loss: 0.259, Accuracy: 87.5%\n",
      "Batch 36, Loss: 0.144, Accuracy: 87.5%\n",
      "Batch 37, Loss: 0.135, Accuracy: 100.0%\n",
      "Batch 38, Loss: 0.314, Accuracy: 87.5%\n",
      "Batch 39, Loss: 0.122, Accuracy: 100.0%\n",
      "Batch 40, Loss: 0.170, Accuracy: 100.0%\n",
      "Batch 41, Loss: 0.185, Accuracy: 100.0%\n",
      "Batch 42, Loss: 0.059, Accuracy: 100.0%\n",
      "Batch 43, Loss: 0.086, Accuracy: 100.0%\n",
      "Batch 44, Loss: 0.200, Accuracy: 87.5%\n",
      "Batch 45, Loss: 0.220, Accuracy: 100.0%\n",
      "Batch 46, Loss: 0.032, Accuracy: 100.0%\n",
      "Batch 47, Loss: 0.074, Accuracy: 100.0%\n",
      "Batch 48, Loss: 0.060, Accuracy: 100.0%\n",
      "Batch 49, Loss: 0.318, Accuracy: 87.5%\n",
      "Batch 50, Loss: 0.087, Accuracy: 100.0%\n",
      "\n",
      "Val Loss: 0.099, Val Accuracy: 87.5%\n",
      "***************************************************\n",
      "\n",
      "Epoch: 11\n",
      "\n",
      "Batch 1, Loss: 0.311, Accuracy: 87.5%\n",
      "Batch 2, Loss: 0.317, Accuracy: 87.5%\n",
      "Batch 3, Loss: 0.066, Accuracy: 100.0%\n",
      "Batch 4, Loss: 0.076, Accuracy: 100.0%\n",
      "Batch 5, Loss: 0.061, Accuracy: 100.0%\n",
      "Batch 6, Loss: 0.037, Accuracy: 100.0%\n",
      "Batch 7, Loss: 0.047, Accuracy: 100.0%\n",
      "Batch 8, Loss: 0.014, Accuracy: 100.0%\n",
      "Batch 9, Loss: 0.216, Accuracy: 87.5%\n",
      "Batch 10, Loss: 0.027, Accuracy: 100.0%\n",
      "Batch 11, Loss: 0.074, Accuracy: 100.0%\n",
      "Batch 12, Loss: 0.175, Accuracy: 87.5%\n",
      "Batch 13, Loss: 0.274, Accuracy: 87.5%\n",
      "Batch 14, Loss: 0.139, Accuracy: 87.5%\n",
      "Batch 15, Loss: 0.043, Accuracy: 100.0%\n",
      "Batch 16, Loss: 0.014, Accuracy: 100.0%\n",
      "Batch 17, Loss: 0.017, Accuracy: 100.0%\n",
      "Batch 18, Loss: 0.051, Accuracy: 100.0%\n",
      "Batch 19, Loss: 0.364, Accuracy: 87.5%\n",
      "Batch 20, Loss: 0.066, Accuracy: 100.0%\n",
      "Batch 21, Loss: 0.030, Accuracy: 100.0%\n",
      "Batch 22, Loss: 0.049, Accuracy: 100.0%\n",
      "Batch 23, Loss: 0.204, Accuracy: 87.5%\n",
      "Batch 24, Loss: 0.028, Accuracy: 100.0%\n",
      "Batch 25, Loss: 0.022, Accuracy: 100.0%\n",
      "Batch 26, Loss: 0.223, Accuracy: 100.0%\n",
      "Batch 27, Loss: 0.242, Accuracy: 100.0%\n",
      "Batch 28, Loss: 0.080, Accuracy: 100.0%\n",
      "Batch 29, Loss: 0.072, Accuracy: 100.0%\n",
      "Batch 30, Loss: 0.136, Accuracy: 100.0%\n",
      "Batch 31, Loss: 0.015, Accuracy: 100.0%\n",
      "Batch 32, Loss: 0.050, Accuracy: 100.0%\n",
      "Batch 33, Loss: 0.035, Accuracy: 100.0%\n",
      "Batch 34, Loss: 0.052, Accuracy: 100.0%\n",
      "Batch 35, Loss: 0.044, Accuracy: 100.0%\n",
      "Batch 36, Loss: 0.145, Accuracy: 87.5%\n",
      "Batch 37, Loss: 0.331, Accuracy: 87.5%\n",
      "Batch 38, Loss: 0.041, Accuracy: 100.0%\n",
      "Batch 39, Loss: 0.027, Accuracy: 100.0%\n",
      "Batch 40, Loss: 0.063, Accuracy: 100.0%\n",
      "Batch 41, Loss: 0.184, Accuracy: 87.5%\n",
      "Batch 42, Loss: 0.042, Accuracy: 100.0%\n",
      "Batch 43, Loss: 0.037, Accuracy: 100.0%\n",
      "Batch 44, Loss: 0.032, Accuracy: 100.0%\n",
      "Batch 45, Loss: 0.092, Accuracy: 100.0%\n",
      "Batch 46, Loss: 0.108, Accuracy: 100.0%\n",
      "Batch 47, Loss: 0.065, Accuracy: 100.0%\n",
      "Batch 48, Loss: 0.026, Accuracy: 100.0%\n",
      "Batch 49, Loss: 0.043, Accuracy: 100.0%\n",
      "Batch 50, Loss: 0.020, Accuracy: 100.0%\n",
      "\n",
      "Val Loss: 0.063, Val Accuracy: 91.1%\n",
      "***************************************************\n",
      "\n",
      "Epoch: 12\n",
      "\n",
      "Batch 1, Loss: 0.117, Accuracy: 100.0%\n",
      "Batch 2, Loss: 0.069, Accuracy: 100.0%\n",
      "Batch 3, Loss: 0.014, Accuracy: 100.0%\n",
      "Batch 4, Loss: 0.073, Accuracy: 100.0%\n",
      "Batch 5, Loss: 0.079, Accuracy: 100.0%\n",
      "Batch 6, Loss: 0.026, Accuracy: 100.0%\n",
      "Batch 7, Loss: 0.030, Accuracy: 100.0%\n",
      "Batch 8, Loss: 0.286, Accuracy: 87.5%\n",
      "Batch 9, Loss: 0.024, Accuracy: 100.0%\n",
      "Batch 10, Loss: 0.068, Accuracy: 100.0%\n",
      "Batch 11, Loss: 0.032, Accuracy: 100.0%\n",
      "Batch 12, Loss: 0.015, Accuracy: 100.0%\n",
      "Batch 13, Loss: 0.142, Accuracy: 100.0%\n",
      "Batch 14, Loss: 0.018, Accuracy: 100.0%\n",
      "Batch 15, Loss: 0.095, Accuracy: 100.0%\n",
      "Batch 16, Loss: 0.008, Accuracy: 100.0%\n",
      "Batch 17, Loss: 0.041, Accuracy: 100.0%\n",
      "Batch 18, Loss: 0.115, Accuracy: 100.0%\n",
      "Batch 19, Loss: 0.029, Accuracy: 100.0%\n",
      "Batch 20, Loss: 0.038, Accuracy: 100.0%\n",
      "Batch 21, Loss: 0.030, Accuracy: 100.0%\n",
      "Batch 22, Loss: 0.024, Accuracy: 100.0%\n",
      "Batch 23, Loss: 0.059, Accuracy: 100.0%\n",
      "Batch 24, Loss: 0.053, Accuracy: 100.0%\n",
      "Batch 25, Loss: 0.033, Accuracy: 100.0%\n",
      "Batch 26, Loss: 0.044, Accuracy: 100.0%\n",
      "Batch 27, Loss: 0.017, Accuracy: 100.0%\n",
      "Batch 28, Loss: 0.006, Accuracy: 100.0%\n",
      "Batch 29, Loss: 0.118, Accuracy: 100.0%\n",
      "Batch 30, Loss: 0.126, Accuracy: 100.0%\n",
      "Batch 31, Loss: 0.026, Accuracy: 100.0%\n",
      "Batch 32, Loss: 0.054, Accuracy: 100.0%\n",
      "Batch 33, Loss: 0.031, Accuracy: 100.0%\n",
      "Batch 34, Loss: 0.095, Accuracy: 100.0%\n",
      "Batch 35, Loss: 0.036, Accuracy: 100.0%\n",
      "Batch 36, Loss: 0.033, Accuracy: 100.0%\n",
      "Batch 37, Loss: 0.063, Accuracy: 100.0%\n",
      "Batch 38, Loss: 0.027, Accuracy: 100.0%\n",
      "Batch 39, Loss: 0.233, Accuracy: 100.0%\n",
      "Batch 40, Loss: 0.013, Accuracy: 100.0%\n",
      "Batch 41, Loss: 0.118, Accuracy: 100.0%\n",
      "Batch 42, Loss: 0.057, Accuracy: 100.0%\n",
      "Batch 43, Loss: 0.039, Accuracy: 100.0%\n",
      "Batch 44, Loss: 0.068, Accuracy: 100.0%\n",
      "Batch 45, Loss: 0.051, Accuracy: 100.0%\n",
      "Batch 46, Loss: 0.033, Accuracy: 100.0%\n",
      "Batch 47, Loss: 0.021, Accuracy: 100.0%\n",
      "Batch 48, Loss: 0.091, Accuracy: 100.0%\n",
      "Batch 49, Loss: 0.092, Accuracy: 100.0%\n",
      "Batch 50, Loss: 0.025, Accuracy: 100.0%\n",
      "\n",
      "Val Loss: 0.066, Val Accuracy: 89.3%\n",
      "***************************************************\n",
      "\n",
      "Epoch: 13\n",
      "\n",
      "Batch 1, Loss: 0.025, Accuracy: 100.0%\n",
      "Batch 2, Loss: 0.032, Accuracy: 100.0%\n",
      "Batch 3, Loss: 0.098, Accuracy: 100.0%\n",
      "Batch 4, Loss: 0.035, Accuracy: 100.0%\n",
      "Batch 5, Loss: 0.023, Accuracy: 100.0%\n",
      "Batch 6, Loss: 0.113, Accuracy: 100.0%\n",
      "Batch 7, Loss: 0.048, Accuracy: 100.0%\n",
      "Batch 8, Loss: 0.029, Accuracy: 100.0%\n",
      "Batch 9, Loss: 0.022, Accuracy: 100.0%\n",
      "Batch 10, Loss: 0.039, Accuracy: 100.0%\n",
      "Batch 11, Loss: 0.077, Accuracy: 100.0%\n",
      "Batch 12, Loss: 0.030, Accuracy: 100.0%\n",
      "Batch 13, Loss: 0.016, Accuracy: 100.0%\n",
      "Batch 14, Loss: 0.016, Accuracy: 100.0%\n",
      "Batch 15, Loss: 0.010, Accuracy: 100.0%\n",
      "Batch 16, Loss: 0.054, Accuracy: 100.0%\n",
      "Batch 17, Loss: 0.014, Accuracy: 100.0%\n",
      "Batch 18, Loss: 0.036, Accuracy: 100.0%\n",
      "Batch 19, Loss: 0.108, Accuracy: 100.0%\n",
      "Batch 20, Loss: 0.034, Accuracy: 100.0%\n",
      "Batch 21, Loss: 0.023, Accuracy: 100.0%\n",
      "Batch 22, Loss: 0.038, Accuracy: 100.0%\n",
      "Batch 23, Loss: 0.003, Accuracy: 100.0%\n",
      "Batch 24, Loss: 0.056, Accuracy: 100.0%\n",
      "Batch 25, Loss: 0.103, Accuracy: 100.0%\n",
      "Batch 26, Loss: 0.026, Accuracy: 100.0%\n",
      "Batch 27, Loss: 0.009, Accuracy: 100.0%\n",
      "Batch 28, Loss: 0.046, Accuracy: 100.0%\n",
      "Batch 29, Loss: 0.017, Accuracy: 100.0%\n",
      "Batch 30, Loss: 0.028, Accuracy: 100.0%\n",
      "Batch 31, Loss: 0.067, Accuracy: 100.0%\n",
      "Batch 32, Loss: 0.042, Accuracy: 100.0%\n",
      "Batch 33, Loss: 0.011, Accuracy: 100.0%\n",
      "Batch 34, Loss: 0.072, Accuracy: 100.0%\n",
      "Batch 35, Loss: 0.002, Accuracy: 100.0%\n",
      "Batch 36, Loss: 0.022, Accuracy: 100.0%\n",
      "Batch 37, Loss: 0.055, Accuracy: 100.0%\n",
      "Batch 38, Loss: 0.029, Accuracy: 100.0%\n",
      "Batch 39, Loss: 0.034, Accuracy: 100.0%\n",
      "Batch 40, Loss: 0.014, Accuracy: 100.0%\n",
      "Batch 41, Loss: 0.100, Accuracy: 87.5%\n",
      "Batch 42, Loss: 0.172, Accuracy: 100.0%\n",
      "Batch 43, Loss: 0.130, Accuracy: 87.5%\n",
      "Batch 44, Loss: 0.114, Accuracy: 87.5%\n",
      "Batch 45, Loss: 0.029, Accuracy: 100.0%\n",
      "Batch 46, Loss: 0.006, Accuracy: 100.0%\n",
      "Batch 47, Loss: 0.103, Accuracy: 100.0%\n",
      "Batch 48, Loss: 0.012, Accuracy: 100.0%\n",
      "Batch 49, Loss: 0.012, Accuracy: 100.0%\n",
      "Batch 50, Loss: 0.074, Accuracy: 100.0%\n",
      "\n",
      "Val Loss: 0.125, Val Accuracy: 83.9%\n",
      "***************************************************\n",
      "\n",
      "Epoch: 14\n",
      "\n",
      "Batch 1, Loss: 0.076, Accuracy: 100.0%\n",
      "Batch 2, Loss: 0.142, Accuracy: 100.0%\n",
      "Batch 3, Loss: 0.013, Accuracy: 100.0%\n",
      "Batch 4, Loss: 0.011, Accuracy: 100.0%\n",
      "Batch 5, Loss: 0.052, Accuracy: 100.0%\n",
      "Batch 6, Loss: 0.079, Accuracy: 100.0%\n",
      "Batch 7, Loss: 0.021, Accuracy: 100.0%\n",
      "Batch 8, Loss: 0.114, Accuracy: 100.0%\n",
      "Batch 9, Loss: 0.019, Accuracy: 100.0%\n",
      "Batch 10, Loss: 0.137, Accuracy: 100.0%\n",
      "Batch 11, Loss: 0.006, Accuracy: 100.0%\n",
      "Batch 12, Loss: 0.023, Accuracy: 100.0%\n",
      "Batch 13, Loss: 0.086, Accuracy: 100.0%\n",
      "Batch 14, Loss: 0.056, Accuracy: 100.0%\n",
      "Batch 15, Loss: 0.008, Accuracy: 100.0%\n",
      "Batch 16, Loss: 0.006, Accuracy: 100.0%\n",
      "Batch 17, Loss: 0.031, Accuracy: 100.0%\n",
      "Batch 18, Loss: 0.039, Accuracy: 100.0%\n",
      "Batch 19, Loss: 0.020, Accuracy: 100.0%\n",
      "Batch 20, Loss: 0.022, Accuracy: 100.0%\n",
      "Batch 21, Loss: 0.012, Accuracy: 100.0%\n",
      "Batch 22, Loss: 0.093, Accuracy: 100.0%\n",
      "Batch 23, Loss: 0.018, Accuracy: 100.0%\n",
      "Batch 24, Loss: 0.036, Accuracy: 100.0%\n",
      "Batch 25, Loss: 0.025, Accuracy: 100.0%\n",
      "Batch 26, Loss: 0.058, Accuracy: 100.0%\n",
      "Batch 27, Loss: 0.026, Accuracy: 100.0%\n",
      "Batch 28, Loss: 0.016, Accuracy: 100.0%\n",
      "Batch 29, Loss: 0.046, Accuracy: 100.0%\n",
      "Batch 30, Loss: 0.025, Accuracy: 100.0%\n",
      "Batch 31, Loss: 0.033, Accuracy: 100.0%\n",
      "Batch 32, Loss: 0.041, Accuracy: 100.0%\n",
      "Batch 33, Loss: 0.054, Accuracy: 100.0%\n",
      "Batch 34, Loss: 0.048, Accuracy: 100.0%\n",
      "Batch 35, Loss: 0.011, Accuracy: 100.0%\n",
      "Batch 36, Loss: 0.017, Accuracy: 100.0%\n",
      "Batch 37, Loss: 0.020, Accuracy: 100.0%\n",
      "Batch 38, Loss: 0.028, Accuracy: 100.0%\n",
      "Batch 39, Loss: 0.022, Accuracy: 100.0%\n",
      "Batch 40, Loss: 0.062, Accuracy: 100.0%\n",
      "Batch 41, Loss: 0.016, Accuracy: 100.0%\n",
      "Batch 42, Loss: 0.014, Accuracy: 100.0%\n",
      "Batch 43, Loss: 0.006, Accuracy: 100.0%\n",
      "Batch 44, Loss: 0.017, Accuracy: 100.0%\n",
      "Batch 45, Loss: 0.012, Accuracy: 100.0%\n",
      "Batch 46, Loss: 0.070, Accuracy: 100.0%\n",
      "Batch 47, Loss: 0.133, Accuracy: 100.0%\n",
      "Batch 48, Loss: 0.041, Accuracy: 100.0%\n",
      "Batch 49, Loss: 0.061, Accuracy: 100.0%\n",
      "Batch 50, Loss: 0.035, Accuracy: 100.0%\n",
      "\n",
      "Val Loss: 0.037, Val Accuracy: 91.1%\n",
      "***************************************************\n",
      "\n",
      "Epoch: 15\n",
      "\n",
      "Batch 1, Loss: 0.013, Accuracy: 100.0%\n",
      "Batch 2, Loss: 0.019, Accuracy: 100.0%\n",
      "Batch 3, Loss: 0.021, Accuracy: 100.0%\n",
      "Batch 4, Loss: 0.041, Accuracy: 100.0%\n",
      "Batch 5, Loss: 0.008, Accuracy: 100.0%\n",
      "Batch 6, Loss: 0.017, Accuracy: 100.0%\n",
      "Batch 7, Loss: 0.222, Accuracy: 87.5%\n",
      "Batch 8, Loss: 0.063, Accuracy: 100.0%\n",
      "Batch 9, Loss: 0.019, Accuracy: 100.0%\n",
      "Batch 10, Loss: 0.017, Accuracy: 100.0%\n",
      "Batch 11, Loss: 0.036, Accuracy: 100.0%\n",
      "Batch 12, Loss: 0.199, Accuracy: 100.0%\n",
      "Batch 13, Loss: 0.140, Accuracy: 100.0%\n",
      "Batch 14, Loss: 0.007, Accuracy: 100.0%\n",
      "Batch 15, Loss: 0.004, Accuracy: 100.0%\n",
      "Batch 16, Loss: 0.011, Accuracy: 100.0%\n",
      "Batch 17, Loss: 0.149, Accuracy: 87.5%\n",
      "Batch 18, Loss: 0.174, Accuracy: 87.5%\n",
      "Batch 19, Loss: 0.008, Accuracy: 100.0%\n",
      "Batch 20, Loss: 0.009, Accuracy: 100.0%\n",
      "Batch 21, Loss: 0.077, Accuracy: 100.0%\n",
      "Batch 22, Loss: 0.166, Accuracy: 100.0%\n",
      "Batch 23, Loss: 0.016, Accuracy: 100.0%\n",
      "Batch 24, Loss: 0.031, Accuracy: 100.0%\n",
      "Batch 25, Loss: 0.007, Accuracy: 100.0%\n",
      "Batch 26, Loss: 0.103, Accuracy: 87.5%\n",
      "Batch 27, Loss: 0.033, Accuracy: 100.0%\n",
      "Batch 28, Loss: 0.020, Accuracy: 100.0%\n",
      "Batch 29, Loss: 0.053, Accuracy: 100.0%\n",
      "Batch 30, Loss: 0.091, Accuracy: 100.0%\n",
      "Batch 31, Loss: 0.006, Accuracy: 100.0%\n",
      "Batch 32, Loss: 0.072, Accuracy: 100.0%\n",
      "Batch 33, Loss: 0.001, Accuracy: 100.0%\n",
      "Batch 34, Loss: 0.013, Accuracy: 100.0%\n",
      "Batch 35, Loss: 0.007, Accuracy: 100.0%\n",
      "Batch 36, Loss: 0.048, Accuracy: 100.0%\n",
      "Batch 37, Loss: 0.060, Accuracy: 100.0%\n",
      "Batch 38, Loss: 0.067, Accuracy: 100.0%\n",
      "Batch 39, Loss: 0.099, Accuracy: 100.0%\n",
      "Batch 40, Loss: 0.430, Accuracy: 75.0%\n",
      "Batch 41, Loss: 0.010, Accuracy: 100.0%\n",
      "Batch 42, Loss: 0.019, Accuracy: 100.0%\n",
      "Batch 43, Loss: 0.058, Accuracy: 100.0%\n",
      "Batch 44, Loss: 0.026, Accuracy: 100.0%\n",
      "Batch 45, Loss: 0.005, Accuracy: 100.0%\n",
      "Batch 46, Loss: 0.591, Accuracy: 87.5%\n",
      "Batch 47, Loss: 1.492, Accuracy: 62.5%\n",
      "Batch 48, Loss: 0.060, Accuracy: 100.0%\n",
      "Batch 49, Loss: 0.025, Accuracy: 100.0%\n",
      "Batch 50, Loss: 0.007, Accuracy: 100.0%\n",
      "\n",
      "Val Loss: 0.060, Val Accuracy: 91.1%\n",
      "***************************************************\n",
      "\n",
      "Epoch: 16\n",
      "\n",
      "Batch 1, Loss: 0.009, Accuracy: 100.0%\n",
      "Batch 2, Loss: 0.380, Accuracy: 87.5%\n",
      "Batch 3, Loss: 0.261, Accuracy: 100.0%\n",
      "Batch 4, Loss: 0.002, Accuracy: 100.0%\n",
      "Batch 5, Loss: 0.040, Accuracy: 100.0%\n",
      "Batch 6, Loss: 0.028, Accuracy: 100.0%\n",
      "Batch 7, Loss: 0.010, Accuracy: 100.0%\n",
      "Batch 8, Loss: 0.057, Accuracy: 100.0%\n",
      "Batch 9, Loss: 0.056, Accuracy: 100.0%\n",
      "Batch 10, Loss: 0.077, Accuracy: 100.0%\n",
      "Batch 11, Loss: 0.035, Accuracy: 100.0%\n",
      "Batch 12, Loss: 0.013, Accuracy: 100.0%\n",
      "Batch 13, Loss: 0.015, Accuracy: 100.0%\n",
      "Batch 14, Loss: 0.089, Accuracy: 100.0%\n",
      "Batch 15, Loss: 0.059, Accuracy: 100.0%\n",
      "Batch 16, Loss: 0.004, Accuracy: 100.0%\n",
      "Batch 17, Loss: 0.031, Accuracy: 100.0%\n",
      "Batch 18, Loss: 0.141, Accuracy: 100.0%\n",
      "Batch 19, Loss: 0.010, Accuracy: 100.0%\n",
      "Batch 20, Loss: 0.026, Accuracy: 100.0%\n",
      "Batch 21, Loss: 0.019, Accuracy: 100.0%\n",
      "Batch 22, Loss: 0.012, Accuracy: 100.0%\n",
      "Batch 23, Loss: 0.048, Accuracy: 100.0%\n",
      "Batch 24, Loss: 0.013, Accuracy: 100.0%\n",
      "Batch 25, Loss: 0.044, Accuracy: 100.0%\n",
      "Batch 26, Loss: 0.061, Accuracy: 100.0%\n",
      "Batch 27, Loss: 0.026, Accuracy: 100.0%\n",
      "Batch 28, Loss: 0.013, Accuracy: 100.0%\n",
      "Batch 29, Loss: 0.047, Accuracy: 100.0%\n",
      "Batch 30, Loss: 0.010, Accuracy: 100.0%\n",
      "Batch 31, Loss: 0.116, Accuracy: 100.0%\n",
      "Batch 32, Loss: 0.005, Accuracy: 100.0%\n",
      "Batch 33, Loss: 0.016, Accuracy: 100.0%\n",
      "Batch 34, Loss: 0.101, Accuracy: 100.0%\n",
      "Batch 35, Loss: 0.037, Accuracy: 100.0%\n",
      "Batch 36, Loss: 0.032, Accuracy: 100.0%\n",
      "Batch 37, Loss: 0.017, Accuracy: 100.0%\n",
      "Batch 38, Loss: 0.056, Accuracy: 100.0%\n",
      "Batch 39, Loss: 0.168, Accuracy: 87.5%\n",
      "Batch 40, Loss: 0.010, Accuracy: 100.0%\n",
      "Batch 41, Loss: 0.004, Accuracy: 100.0%\n",
      "Batch 42, Loss: 0.021, Accuracy: 100.0%\n",
      "Batch 43, Loss: 0.005, Accuracy: 100.0%\n",
      "Batch 44, Loss: 0.012, Accuracy: 100.0%\n",
      "Batch 45, Loss: 0.109, Accuracy: 87.5%\n",
      "Batch 46, Loss: 0.015, Accuracy: 100.0%\n",
      "Batch 47, Loss: 0.313, Accuracy: 75.0%\n",
      "Batch 48, Loss: 0.146, Accuracy: 100.0%\n",
      "Batch 49, Loss: 0.060, Accuracy: 100.0%\n",
      "Batch 50, Loss: 0.018, Accuracy: 100.0%\n",
      "\n",
      "Val Loss: 0.033, Val Accuracy: 91.1%\n",
      "***************************************************\n",
      "\n",
      "Epoch: 17\n",
      "\n",
      "Batch 1, Loss: 0.047, Accuracy: 100.0%\n",
      "Batch 2, Loss: 0.016, Accuracy: 100.0%\n",
      "Batch 3, Loss: 0.023, Accuracy: 100.0%\n",
      "Batch 4, Loss: 0.154, Accuracy: 100.0%\n",
      "Batch 5, Loss: 0.016, Accuracy: 100.0%\n",
      "Batch 6, Loss: 0.023, Accuracy: 100.0%\n",
      "Batch 7, Loss: 0.014, Accuracy: 100.0%\n",
      "Batch 8, Loss: 0.082, Accuracy: 100.0%\n",
      "Batch 9, Loss: 0.004, Accuracy: 100.0%\n",
      "Batch 10, Loss: 0.013, Accuracy: 100.0%\n",
      "Batch 11, Loss: 0.011, Accuracy: 100.0%\n",
      "Batch 12, Loss: 0.003, Accuracy: 100.0%\n",
      "Batch 13, Loss: 0.016, Accuracy: 100.0%\n",
      "Batch 14, Loss: 0.149, Accuracy: 87.5%\n",
      "Batch 15, Loss: 0.026, Accuracy: 100.0%\n",
      "Batch 16, Loss: 0.012, Accuracy: 100.0%\n",
      "Batch 17, Loss: 0.004, Accuracy: 100.0%\n",
      "Batch 18, Loss: 0.015, Accuracy: 100.0%\n",
      "Batch 19, Loss: 0.013, Accuracy: 100.0%\n",
      "Batch 20, Loss: 0.012, Accuracy: 100.0%\n",
      "Batch 21, Loss: 0.116, Accuracy: 100.0%\n",
      "Batch 22, Loss: 0.014, Accuracy: 100.0%\n",
      "Batch 23, Loss: 0.007, Accuracy: 100.0%\n",
      "Batch 24, Loss: 0.042, Accuracy: 100.0%\n",
      "Batch 25, Loss: 0.015, Accuracy: 100.0%\n",
      "Batch 26, Loss: 0.007, Accuracy: 100.0%\n",
      "Batch 27, Loss: 0.003, Accuracy: 100.0%\n",
      "Batch 28, Loss: 0.014, Accuracy: 100.0%\n",
      "Batch 29, Loss: 0.026, Accuracy: 100.0%\n",
      "Batch 30, Loss: 0.007, Accuracy: 100.0%\n",
      "Batch 31, Loss: 0.017, Accuracy: 100.0%\n",
      "Batch 32, Loss: 0.007, Accuracy: 100.0%\n",
      "Batch 33, Loss: 0.039, Accuracy: 100.0%\n",
      "Batch 34, Loss: 0.034, Accuracy: 100.0%\n",
      "Batch 35, Loss: 0.026, Accuracy: 100.0%\n",
      "Batch 36, Loss: 0.057, Accuracy: 100.0%\n",
      "Batch 37, Loss: 0.036, Accuracy: 100.0%\n",
      "Batch 38, Loss: 0.002, Accuracy: 100.0%\n",
      "Batch 39, Loss: 0.013, Accuracy: 100.0%\n",
      "Batch 40, Loss: 0.010, Accuracy: 100.0%\n",
      "Batch 41, Loss: 0.015, Accuracy: 100.0%\n",
      "Batch 42, Loss: 0.017, Accuracy: 100.0%\n",
      "Batch 43, Loss: 0.006, Accuracy: 100.0%\n",
      "Batch 44, Loss: 0.005, Accuracy: 100.0%\n",
      "Batch 45, Loss: 0.001, Accuracy: 100.0%\n",
      "Batch 46, Loss: 0.036, Accuracy: 100.0%\n",
      "Batch 47, Loss: 0.020, Accuracy: 100.0%\n",
      "Batch 48, Loss: 0.021, Accuracy: 100.0%\n",
      "Batch 49, Loss: 0.039, Accuracy: 100.0%\n",
      "Batch 50, Loss: 0.012, Accuracy: 100.0%\n",
      "\n",
      "Val Loss: 0.025, Val Accuracy: 91.1%\n",
      "***************************************************\n",
      "\n",
      "Epoch: 18\n",
      "\n",
      "Batch 1, Loss: 0.007, Accuracy: 100.0%\n",
      "Batch 2, Loss: 0.017, Accuracy: 100.0%\n",
      "Batch 3, Loss: 0.018, Accuracy: 100.0%\n",
      "Batch 4, Loss: 0.010, Accuracy: 100.0%\n",
      "Batch 5, Loss: 0.019, Accuracy: 100.0%\n",
      "Batch 6, Loss: 0.007, Accuracy: 100.0%\n",
      "Batch 7, Loss: 0.018, Accuracy: 100.0%\n",
      "Batch 8, Loss: 0.004, Accuracy: 100.0%\n",
      "Batch 9, Loss: 0.020, Accuracy: 100.0%\n",
      "Batch 10, Loss: 0.027, Accuracy: 100.0%\n",
      "Batch 11, Loss: 0.003, Accuracy: 100.0%\n",
      "Batch 12, Loss: 0.006, Accuracy: 100.0%\n",
      "Batch 13, Loss: 0.006, Accuracy: 100.0%\n",
      "Batch 14, Loss: 0.003, Accuracy: 100.0%\n",
      "Batch 15, Loss: 0.098, Accuracy: 100.0%\n",
      "Batch 16, Loss: 0.015, Accuracy: 100.0%\n",
      "Batch 17, Loss: 0.024, Accuracy: 100.0%\n",
      "Batch 18, Loss: 0.013, Accuracy: 100.0%\n",
      "Batch 19, Loss: 0.020, Accuracy: 100.0%\n",
      "Batch 20, Loss: 0.030, Accuracy: 100.0%\n",
      "Batch 21, Loss: 0.003, Accuracy: 100.0%\n",
      "Batch 22, Loss: 0.007, Accuracy: 100.0%\n",
      "Batch 23, Loss: 0.003, Accuracy: 100.0%\n",
      "Batch 24, Loss: 0.025, Accuracy: 100.0%\n",
      "Batch 25, Loss: 0.011, Accuracy: 100.0%\n",
      "Batch 26, Loss: 0.007, Accuracy: 100.0%\n",
      "Batch 27, Loss: 0.019, Accuracy: 100.0%\n",
      "Batch 28, Loss: 0.014, Accuracy: 100.0%\n",
      "Batch 29, Loss: 0.012, Accuracy: 100.0%\n",
      "Batch 30, Loss: 0.002, Accuracy: 100.0%\n",
      "Batch 31, Loss: 0.004, Accuracy: 100.0%\n",
      "Batch 32, Loss: 0.041, Accuracy: 100.0%\n",
      "Batch 33, Loss: 0.006, Accuracy: 100.0%\n",
      "Batch 34, Loss: 0.012, Accuracy: 100.0%\n",
      "Batch 35, Loss: 0.022, Accuracy: 100.0%\n",
      "Batch 36, Loss: 0.008, Accuracy: 100.0%\n",
      "Batch 37, Loss: 0.022, Accuracy: 100.0%\n",
      "Batch 38, Loss: 0.008, Accuracy: 100.0%\n",
      "Batch 39, Loss: 0.008, Accuracy: 100.0%\n",
      "Batch 40, Loss: 0.013, Accuracy: 100.0%\n",
      "Batch 41, Loss: 0.009, Accuracy: 100.0%\n",
      "Batch 42, Loss: 0.014, Accuracy: 100.0%\n",
      "Batch 43, Loss: 0.009, Accuracy: 100.0%\n",
      "Batch 44, Loss: 0.012, Accuracy: 100.0%\n",
      "Batch 45, Loss: 0.001, Accuracy: 100.0%\n",
      "Batch 46, Loss: 0.002, Accuracy: 100.0%\n",
      "Batch 47, Loss: 0.005, Accuracy: 100.0%\n",
      "Batch 48, Loss: 0.005, Accuracy: 100.0%\n",
      "Batch 49, Loss: 0.007, Accuracy: 100.0%\n",
      "Batch 50, Loss: 0.003, Accuracy: 100.0%\n",
      "\n",
      "Val Loss: 0.013, Val Accuracy: 91.1%\n",
      "***************************************************\n",
      "\n",
      "Epoch: 19\n",
      "\n",
      "Batch 1, Loss: 0.002, Accuracy: 100.0%\n",
      "Batch 2, Loss: 0.003, Accuracy: 100.0%\n",
      "Batch 3, Loss: 0.002, Accuracy: 100.0%\n",
      "Batch 4, Loss: 0.001, Accuracy: 100.0%\n",
      "Batch 5, Loss: 0.008, Accuracy: 100.0%\n",
      "Batch 6, Loss: 0.015, Accuracy: 100.0%\n",
      "Batch 7, Loss: 0.010, Accuracy: 100.0%\n",
      "Batch 8, Loss: 0.019, Accuracy: 100.0%\n",
      "Batch 9, Loss: 0.003, Accuracy: 100.0%\n",
      "Batch 10, Loss: 0.007, Accuracy: 100.0%\n",
      "Batch 11, Loss: 0.011, Accuracy: 100.0%\n",
      "Batch 12, Loss: 0.010, Accuracy: 100.0%\n",
      "Batch 13, Loss: 0.001, Accuracy: 100.0%\n",
      "Batch 14, Loss: 0.009, Accuracy: 100.0%\n",
      "Batch 15, Loss: 0.009, Accuracy: 100.0%\n",
      "Batch 16, Loss: 0.004, Accuracy: 100.0%\n",
      "Batch 17, Loss: 0.009, Accuracy: 100.0%\n",
      "Batch 18, Loss: 0.008, Accuracy: 100.0%\n",
      "Batch 19, Loss: 0.007, Accuracy: 100.0%\n",
      "Batch 20, Loss: 0.018, Accuracy: 100.0%\n",
      "Batch 21, Loss: 0.025, Accuracy: 100.0%\n",
      "Batch 22, Loss: 0.007, Accuracy: 100.0%\n",
      "Batch 23, Loss: 0.012, Accuracy: 100.0%\n",
      "Batch 24, Loss: 0.005, Accuracy: 100.0%\n",
      "Batch 25, Loss: 0.001, Accuracy: 100.0%\n",
      "Batch 26, Loss: 0.005, Accuracy: 100.0%\n",
      "Batch 27, Loss: 0.003, Accuracy: 100.0%\n",
      "Batch 28, Loss: 0.003, Accuracy: 100.0%\n",
      "Batch 29, Loss: 0.014, Accuracy: 100.0%\n",
      "Batch 30, Loss: 0.004, Accuracy: 100.0%\n",
      "Batch 31, Loss: 0.051, Accuracy: 100.0%\n",
      "Batch 32, Loss: 0.020, Accuracy: 100.0%\n",
      "Batch 33, Loss: 0.082, Accuracy: 100.0%\n",
      "Batch 34, Loss: 0.012, Accuracy: 100.0%\n",
      "Batch 35, Loss: 0.003, Accuracy: 100.0%\n",
      "Batch 36, Loss: 0.018, Accuracy: 100.0%\n",
      "Batch 37, Loss: 0.002, Accuracy: 100.0%\n",
      "Batch 38, Loss: 0.006, Accuracy: 100.0%\n",
      "Batch 39, Loss: 0.006, Accuracy: 100.0%\n",
      "Batch 40, Loss: 0.003, Accuracy: 100.0%\n",
      "Batch 41, Loss: 0.010, Accuracy: 100.0%\n",
      "Batch 42, Loss: 0.001, Accuracy: 100.0%\n",
      "Batch 43, Loss: 0.010, Accuracy: 100.0%\n",
      "Batch 44, Loss: 0.003, Accuracy: 100.0%\n",
      "Batch 45, Loss: 0.036, Accuracy: 100.0%\n",
      "Batch 46, Loss: 0.018, Accuracy: 100.0%\n",
      "Batch 47, Loss: 0.007, Accuracy: 100.0%\n",
      "Batch 48, Loss: 0.011, Accuracy: 100.0%\n",
      "Batch 49, Loss: 0.001, Accuracy: 100.0%\n",
      "Batch 50, Loss: 0.005, Accuracy: 100.0%\n",
      "\n",
      "Val Loss: 0.013, Val Accuracy: 91.1%\n",
      "***************************************************\n",
      "\n",
      "Epoch: 20\n",
      "\n",
      "Batch 1, Loss: 0.003, Accuracy: 100.0%\n",
      "Batch 2, Loss: 0.005, Accuracy: 100.0%\n",
      "Batch 3, Loss: 0.007, Accuracy: 100.0%\n",
      "Batch 4, Loss: 0.003, Accuracy: 100.0%\n",
      "Batch 5, Loss: 0.014, Accuracy: 100.0%\n",
      "Batch 6, Loss: 0.003, Accuracy: 100.0%\n",
      "Batch 7, Loss: 0.004, Accuracy: 100.0%\n",
      "Batch 8, Loss: 0.005, Accuracy: 100.0%\n",
      "Batch 9, Loss: 0.009, Accuracy: 100.0%\n",
      "Batch 10, Loss: 0.005, Accuracy: 100.0%\n",
      "Batch 11, Loss: 0.004, Accuracy: 100.0%\n",
      "Batch 12, Loss: 0.012, Accuracy: 100.0%\n",
      "Batch 13, Loss: 0.011, Accuracy: 100.0%\n",
      "Batch 14, Loss: 0.005, Accuracy: 100.0%\n",
      "Batch 15, Loss: 0.006, Accuracy: 100.0%\n",
      "Batch 16, Loss: 0.011, Accuracy: 100.0%\n",
      "Batch 17, Loss: 0.003, Accuracy: 100.0%\n",
      "Batch 18, Loss: 0.001, Accuracy: 100.0%\n",
      "Batch 19, Loss: 0.018, Accuracy: 100.0%\n",
      "Batch 20, Loss: 0.004, Accuracy: 100.0%\n",
      "Batch 21, Loss: 0.028, Accuracy: 100.0%\n",
      "Batch 22, Loss: 0.003, Accuracy: 100.0%\n",
      "Batch 23, Loss: 0.005, Accuracy: 100.0%\n",
      "Batch 24, Loss: 0.014, Accuracy: 100.0%\n",
      "Batch 25, Loss: 0.004, Accuracy: 100.0%\n",
      "Batch 26, Loss: 0.011, Accuracy: 100.0%\n",
      "Batch 27, Loss: 0.008, Accuracy: 100.0%\n",
      "Batch 28, Loss: 0.003, Accuracy: 100.0%\n",
      "Batch 29, Loss: 0.006, Accuracy: 100.0%\n",
      "Batch 30, Loss: 0.004, Accuracy: 100.0%\n",
      "Batch 31, Loss: 0.016, Accuracy: 100.0%\n",
      "Batch 32, Loss: 0.009, Accuracy: 100.0%\n",
      "Batch 33, Loss: 0.006, Accuracy: 100.0%\n",
      "Batch 34, Loss: 0.002, Accuracy: 100.0%\n",
      "Batch 35, Loss: 0.003, Accuracy: 100.0%\n",
      "Batch 36, Loss: 0.078, Accuracy: 100.0%\n",
      "Batch 37, Loss: 0.008, Accuracy: 100.0%\n",
      "Batch 38, Loss: 0.015, Accuracy: 100.0%\n",
      "Batch 39, Loss: 0.002, Accuracy: 100.0%\n",
      "Batch 40, Loss: 0.004, Accuracy: 100.0%\n",
      "Batch 41, Loss: 0.011, Accuracy: 100.0%\n",
      "Batch 42, Loss: 0.014, Accuracy: 100.0%\n",
      "Batch 43, Loss: 0.002, Accuracy: 100.0%\n",
      "Batch 44, Loss: 0.021, Accuracy: 100.0%\n",
      "Batch 45, Loss: 0.009, Accuracy: 100.0%\n",
      "Batch 46, Loss: 0.006, Accuracy: 100.0%\n",
      "Batch 47, Loss: 0.003, Accuracy: 100.0%\n",
      "Batch 48, Loss: 0.000, Accuracy: 100.0%\n",
      "Batch 49, Loss: 0.001, Accuracy: 100.0%\n",
      "Batch 50, Loss: 0.004, Accuracy: 100.0%\n",
      "\n",
      "Val Loss: 0.018, Val Accuracy: 91.1%\n",
      "***************************************************\n",
      "\n",
      "Epoch: 21\n",
      "\n",
      "Batch 1, Loss: 0.011, Accuracy: 100.0%\n",
      "Batch 2, Loss: 0.006, Accuracy: 100.0%\n",
      "Batch 3, Loss: 0.000, Accuracy: 100.0%\n",
      "Batch 4, Loss: 0.003, Accuracy: 100.0%\n",
      "Batch 5, Loss: 0.005, Accuracy: 100.0%\n",
      "Batch 6, Loss: 0.003, Accuracy: 100.0%\n",
      "Batch 7, Loss: 0.002, Accuracy: 100.0%\n",
      "Batch 8, Loss: 0.002, Accuracy: 100.0%\n",
      "Batch 9, Loss: 0.022, Accuracy: 100.0%\n",
      "Batch 10, Loss: 0.013, Accuracy: 100.0%\n",
      "Batch 11, Loss: 0.004, Accuracy: 100.0%\n",
      "Batch 12, Loss: 0.010, Accuracy: 100.0%\n",
      "Batch 13, Loss: 0.008, Accuracy: 100.0%\n",
      "Batch 14, Loss: 0.017, Accuracy: 100.0%\n",
      "Batch 15, Loss: 0.002, Accuracy: 100.0%\n",
      "Batch 16, Loss: 0.009, Accuracy: 100.0%\n",
      "Batch 17, Loss: 0.003, Accuracy: 100.0%\n",
      "Batch 18, Loss: 0.008, Accuracy: 100.0%\n",
      "Batch 19, Loss: 0.005, Accuracy: 100.0%\n",
      "Batch 20, Loss: 0.005, Accuracy: 100.0%\n",
      "Batch 21, Loss: 0.015, Accuracy: 100.0%\n",
      "Batch 22, Loss: 0.026, Accuracy: 100.0%\n",
      "Batch 23, Loss: 0.003, Accuracy: 100.0%\n",
      "Batch 24, Loss: 0.007, Accuracy: 100.0%\n",
      "Batch 25, Loss: 0.007, Accuracy: 100.0%\n",
      "Batch 26, Loss: 0.005, Accuracy: 100.0%\n",
      "Batch 27, Loss: 0.004, Accuracy: 100.0%\n",
      "Batch 28, Loss: 0.006, Accuracy: 100.0%\n",
      "Batch 29, Loss: 0.004, Accuracy: 100.0%\n",
      "Batch 30, Loss: 0.005, Accuracy: 100.0%\n",
      "Batch 31, Loss: 0.011, Accuracy: 100.0%\n",
      "Batch 32, Loss: 0.024, Accuracy: 100.0%\n",
      "Batch 33, Loss: 0.003, Accuracy: 100.0%\n",
      "Batch 34, Loss: 0.006, Accuracy: 100.0%\n",
      "Batch 35, Loss: 0.004, Accuracy: 100.0%\n",
      "Batch 36, Loss: 0.002, Accuracy: 100.0%\n",
      "Batch 37, Loss: 0.002, Accuracy: 100.0%\n",
      "Batch 38, Loss: 0.002, Accuracy: 100.0%\n",
      "Batch 39, Loss: 0.001, Accuracy: 100.0%\n",
      "Batch 40, Loss: 0.003, Accuracy: 100.0%\n",
      "Batch 41, Loss: 0.000, Accuracy: 100.0%\n",
      "Batch 42, Loss: 0.008, Accuracy: 100.0%\n",
      "Batch 43, Loss: 0.002, Accuracy: 100.0%\n",
      "Batch 44, Loss: 0.022, Accuracy: 100.0%\n",
      "Batch 45, Loss: 0.057, Accuracy: 100.0%\n",
      "Batch 46, Loss: 0.018, Accuracy: 100.0%\n",
      "Batch 47, Loss: 0.002, Accuracy: 100.0%\n",
      "Batch 48, Loss: 0.007, Accuracy: 100.0%\n",
      "Batch 49, Loss: 0.016, Accuracy: 100.0%\n",
      "Batch 50, Loss: 0.005, Accuracy: 100.0%\n",
      "\n",
      "Val Loss: 0.016, Val Accuracy: 91.1%\n",
      "***************************************************\n",
      "\n",
      "Epoch: 22\n",
      "\n",
      "Batch 1, Loss: 0.006, Accuracy: 100.0%\n",
      "Batch 2, Loss: 0.008, Accuracy: 100.0%\n",
      "Batch 3, Loss: 0.003, Accuracy: 100.0%\n",
      "Batch 4, Loss: 0.003, Accuracy: 100.0%\n",
      "Batch 5, Loss: 0.009, Accuracy: 100.0%\n",
      "Batch 6, Loss: 0.005, Accuracy: 100.0%\n",
      "Batch 7, Loss: 0.003, Accuracy: 100.0%\n",
      "Batch 8, Loss: 0.013, Accuracy: 100.0%\n",
      "Batch 9, Loss: 0.008, Accuracy: 100.0%\n",
      "Batch 10, Loss: 0.007, Accuracy: 100.0%\n",
      "Batch 11, Loss: 0.003, Accuracy: 100.0%\n",
      "Batch 12, Loss: 0.009, Accuracy: 100.0%\n",
      "Batch 13, Loss: 0.005, Accuracy: 100.0%\n",
      "Batch 14, Loss: 0.004, Accuracy: 100.0%\n",
      "Batch 15, Loss: 0.004, Accuracy: 100.0%\n",
      "Batch 16, Loss: 0.002, Accuracy: 100.0%\n",
      "Batch 17, Loss: 0.004, Accuracy: 100.0%\n",
      "Batch 18, Loss: 0.005, Accuracy: 100.0%\n",
      "Batch 19, Loss: 0.011, Accuracy: 100.0%\n",
      "Batch 20, Loss: 0.020, Accuracy: 100.0%\n",
      "Batch 21, Loss: 0.001, Accuracy: 100.0%\n",
      "Batch 22, Loss: 0.009, Accuracy: 100.0%\n",
      "Batch 23, Loss: 0.001, Accuracy: 100.0%\n",
      "Batch 24, Loss: 0.005, Accuracy: 100.0%\n",
      "Batch 25, Loss: 0.009, Accuracy: 100.0%\n",
      "Batch 26, Loss: 0.002, Accuracy: 100.0%\n",
      "Batch 27, Loss: 0.005, Accuracy: 100.0%\n",
      "Batch 28, Loss: 0.002, Accuracy: 100.0%\n",
      "Batch 29, Loss: 0.002, Accuracy: 100.0%\n",
      "Batch 30, Loss: 0.052, Accuracy: 100.0%\n",
      "Batch 31, Loss: 0.002, Accuracy: 100.0%\n",
      "Batch 32, Loss: 0.004, Accuracy: 100.0%\n",
      "Batch 33, Loss: 0.001, Accuracy: 100.0%\n",
      "Batch 34, Loss: 0.012, Accuracy: 100.0%\n",
      "Batch 35, Loss: 0.004, Accuracy: 100.0%\n",
      "Batch 36, Loss: 0.003, Accuracy: 100.0%\n",
      "Batch 37, Loss: 0.003, Accuracy: 100.0%\n",
      "Batch 38, Loss: 0.005, Accuracy: 100.0%\n",
      "Batch 39, Loss: 0.005, Accuracy: 100.0%\n",
      "Batch 40, Loss: 0.001, Accuracy: 100.0%\n",
      "Batch 41, Loss: 0.005, Accuracy: 100.0%\n",
      "Batch 42, Loss: 0.002, Accuracy: 100.0%\n",
      "Batch 43, Loss: 0.001, Accuracy: 100.0%\n",
      "Batch 44, Loss: 0.008, Accuracy: 100.0%\n",
      "Batch 45, Loss: 0.004, Accuracy: 100.0%\n",
      "Batch 46, Loss: 0.001, Accuracy: 100.0%\n",
      "Batch 47, Loss: 0.015, Accuracy: 100.0%\n",
      "Batch 48, Loss: 0.011, Accuracy: 100.0%\n",
      "Batch 49, Loss: 0.005, Accuracy: 100.0%\n",
      "Batch 50, Loss: 0.009, Accuracy: 100.0%\n",
      "\n",
      "Val Loss: 0.012, Val Accuracy: 91.1%\n",
      "***************************************************\n",
      "\n",
      "Epoch: 23\n",
      "\n",
      "Batch 1, Loss: 0.004, Accuracy: 100.0%\n",
      "Batch 2, Loss: 0.013, Accuracy: 100.0%\n",
      "Batch 3, Loss: 0.004, Accuracy: 100.0%\n",
      "Batch 4, Loss: 0.005, Accuracy: 100.0%\n",
      "Batch 5, Loss: 0.008, Accuracy: 100.0%\n",
      "Batch 6, Loss: 0.002, Accuracy: 100.0%\n",
      "Batch 7, Loss: 0.004, Accuracy: 100.0%\n",
      "Batch 8, Loss: 0.003, Accuracy: 100.0%\n",
      "Batch 9, Loss: 0.004, Accuracy: 100.0%\n",
      "Batch 10, Loss: 0.011, Accuracy: 100.0%\n",
      "Batch 11, Loss: 0.008, Accuracy: 100.0%\n",
      "Batch 12, Loss: 0.009, Accuracy: 100.0%\n",
      "Batch 13, Loss: 0.005, Accuracy: 100.0%\n",
      "Batch 14, Loss: 0.045, Accuracy: 100.0%\n",
      "Batch 15, Loss: 0.001, Accuracy: 100.0%\n",
      "Batch 16, Loss: 0.002, Accuracy: 100.0%\n",
      "Batch 17, Loss: 0.003, Accuracy: 100.0%\n",
      "Batch 18, Loss: 0.002, Accuracy: 100.0%\n",
      "Batch 19, Loss: 0.001, Accuracy: 100.0%\n",
      "Batch 20, Loss: 0.014, Accuracy: 100.0%\n",
      "Batch 21, Loss: 0.001, Accuracy: 100.0%\n",
      "Batch 22, Loss: 0.004, Accuracy: 100.0%\n",
      "Batch 23, Loss: 0.009, Accuracy: 100.0%\n",
      "Batch 24, Loss: 0.006, Accuracy: 100.0%\n",
      "Batch 25, Loss: 0.003, Accuracy: 100.0%\n",
      "Batch 26, Loss: 0.004, Accuracy: 100.0%\n",
      "Batch 27, Loss: 0.002, Accuracy: 100.0%\n",
      "Batch 28, Loss: 0.004, Accuracy: 100.0%\n",
      "Batch 29, Loss: 0.003, Accuracy: 100.0%\n",
      "Batch 30, Loss: 0.006, Accuracy: 100.0%\n",
      "Batch 31, Loss: 0.005, Accuracy: 100.0%\n",
      "Batch 32, Loss: 0.015, Accuracy: 100.0%\n",
      "Batch 33, Loss: 0.002, Accuracy: 100.0%\n",
      "Batch 34, Loss: 0.003, Accuracy: 100.0%\n",
      "Batch 35, Loss: 0.002, Accuracy: 100.0%\n",
      "Batch 36, Loss: 0.019, Accuracy: 100.0%\n",
      "Batch 37, Loss: 0.002, Accuracy: 100.0%\n",
      "Batch 38, Loss: 0.006, Accuracy: 100.0%\n",
      "Batch 39, Loss: 0.001, Accuracy: 100.0%\n",
      "Batch 40, Loss: 0.003, Accuracy: 100.0%\n",
      "Batch 41, Loss: 0.003, Accuracy: 100.0%\n",
      "Batch 42, Loss: 0.004, Accuracy: 100.0%\n",
      "Batch 43, Loss: 0.007, Accuracy: 100.0%\n",
      "Batch 44, Loss: 0.002, Accuracy: 100.0%\n",
      "Batch 45, Loss: 0.001, Accuracy: 100.0%\n",
      "Batch 46, Loss: 0.008, Accuracy: 100.0%\n",
      "Batch 47, Loss: 0.002, Accuracy: 100.0%\n",
      "Batch 48, Loss: 0.003, Accuracy: 100.0%\n",
      "Batch 49, Loss: 0.003, Accuracy: 100.0%\n",
      "Batch 50, Loss: 0.003, Accuracy: 100.0%\n",
      "\n",
      "Val Loss: 0.008, Val Accuracy: 91.1%\n",
      "***************************************************\n",
      "\n",
      "Epoch: 24\n",
      "\n",
      "Batch 1, Loss: 0.002, Accuracy: 100.0%\n",
      "Batch 2, Loss: 0.013, Accuracy: 100.0%\n",
      "Batch 3, Loss: 0.002, Accuracy: 100.0%\n",
      "Batch 4, Loss: 0.006, Accuracy: 100.0%\n",
      "Batch 5, Loss: 0.005, Accuracy: 100.0%\n",
      "Batch 6, Loss: 0.013, Accuracy: 100.0%\n",
      "Batch 7, Loss: 0.003, Accuracy: 100.0%\n",
      "Batch 8, Loss: 0.005, Accuracy: 100.0%\n",
      "Batch 9, Loss: 0.004, Accuracy: 100.0%\n",
      "Batch 10, Loss: 0.002, Accuracy: 100.0%\n",
      "Batch 11, Loss: 0.010, Accuracy: 100.0%\n",
      "Batch 12, Loss: 0.003, Accuracy: 100.0%\n",
      "Batch 13, Loss: 0.001, Accuracy: 100.0%\n",
      "Batch 14, Loss: 0.001, Accuracy: 100.0%\n",
      "Batch 15, Loss: 0.006, Accuracy: 100.0%\n",
      "Batch 16, Loss: 0.002, Accuracy: 100.0%\n",
      "Batch 17, Loss: 0.035, Accuracy: 100.0%\n",
      "Batch 18, Loss: 0.002, Accuracy: 100.0%\n",
      "Batch 19, Loss: 0.013, Accuracy: 100.0%\n",
      "Batch 20, Loss: 0.015, Accuracy: 100.0%\n",
      "Batch 21, Loss: 0.006, Accuracy: 100.0%\n",
      "Batch 22, Loss: 0.003, Accuracy: 100.0%\n",
      "Batch 23, Loss: 0.010, Accuracy: 100.0%\n",
      "Batch 24, Loss: 0.003, Accuracy: 100.0%\n",
      "Batch 25, Loss: 0.003, Accuracy: 100.0%\n",
      "Batch 26, Loss: 0.002, Accuracy: 100.0%\n",
      "Batch 27, Loss: 0.004, Accuracy: 100.0%\n",
      "Batch 28, Loss: 0.003, Accuracy: 100.0%\n",
      "Batch 29, Loss: 0.003, Accuracy: 100.0%\n",
      "Batch 30, Loss: 0.003, Accuracy: 100.0%\n",
      "Batch 31, Loss: 0.006, Accuracy: 100.0%\n",
      "Batch 32, Loss: 0.004, Accuracy: 100.0%\n",
      "Batch 33, Loss: 0.008, Accuracy: 100.0%\n",
      "Batch 34, Loss: 0.006, Accuracy: 100.0%\n",
      "Batch 35, Loss: 0.004, Accuracy: 100.0%\n",
      "Batch 36, Loss: 0.003, Accuracy: 100.0%\n",
      "Batch 37, Loss: 0.007, Accuracy: 100.0%\n",
      "Batch 38, Loss: 0.004, Accuracy: 100.0%\n",
      "Batch 39, Loss: 0.005, Accuracy: 100.0%\n",
      "Batch 40, Loss: 0.003, Accuracy: 100.0%\n",
      "Batch 41, Loss: 0.000, Accuracy: 100.0%\n",
      "Batch 42, Loss: 0.003, Accuracy: 100.0%\n",
      "Batch 43, Loss: 0.001, Accuracy: 100.0%\n",
      "Batch 44, Loss: 0.003, Accuracy: 100.0%\n",
      "Batch 45, Loss: 0.002, Accuracy: 100.0%\n",
      "Batch 46, Loss: 0.002, Accuracy: 100.0%\n",
      "Batch 47, Loss: 0.008, Accuracy: 100.0%\n",
      "Batch 48, Loss: 0.003, Accuracy: 100.0%\n",
      "Batch 49, Loss: 0.000, Accuracy: 100.0%\n",
      "Batch 50, Loss: 0.012, Accuracy: 100.0%\n",
      "\n",
      "Val Loss: 0.008, Val Accuracy: 91.1%\n",
      "***************************************************\n",
      "\n",
      "Epoch: 25\n",
      "\n",
      "Batch 1, Loss: 0.007, Accuracy: 100.0%\n",
      "Batch 2, Loss: 0.006, Accuracy: 100.0%\n",
      "Batch 3, Loss: 0.002, Accuracy: 100.0%\n",
      "Batch 4, Loss: 0.002, Accuracy: 100.0%\n",
      "Batch 5, Loss: 0.001, Accuracy: 100.0%\n",
      "Batch 6, Loss: 0.005, Accuracy: 100.0%\n",
      "Batch 7, Loss: 0.004, Accuracy: 100.0%\n",
      "Batch 8, Loss: 0.001, Accuracy: 100.0%\n",
      "Batch 9, Loss: 0.009, Accuracy: 100.0%\n",
      "Batch 10, Loss: 0.007, Accuracy: 100.0%\n",
      "Batch 11, Loss: 0.006, Accuracy: 100.0%\n",
      "Batch 12, Loss: 0.001, Accuracy: 100.0%\n",
      "Batch 13, Loss: 0.002, Accuracy: 100.0%\n",
      "Batch 14, Loss: 0.004, Accuracy: 100.0%\n",
      "Batch 15, Loss: 0.001, Accuracy: 100.0%\n",
      "Batch 16, Loss: 0.003, Accuracy: 100.0%\n",
      "Batch 17, Loss: 0.004, Accuracy: 100.0%\n",
      "Batch 18, Loss: 0.003, Accuracy: 100.0%\n",
      "Batch 19, Loss: 0.002, Accuracy: 100.0%\n",
      "Batch 20, Loss: 0.002, Accuracy: 100.0%\n",
      "Batch 21, Loss: 0.006, Accuracy: 100.0%\n",
      "Batch 22, Loss: 0.003, Accuracy: 100.0%\n",
      "Batch 23, Loss: 0.001, Accuracy: 100.0%\n",
      "Batch 24, Loss: 0.003, Accuracy: 100.0%\n",
      "Batch 25, Loss: 0.003, Accuracy: 100.0%\n",
      "Batch 26, Loss: 0.003, Accuracy: 100.0%\n",
      "Batch 27, Loss: 0.002, Accuracy: 100.0%\n",
      "Batch 28, Loss: 0.002, Accuracy: 100.0%\n",
      "Batch 29, Loss: 0.002, Accuracy: 100.0%\n",
      "Batch 30, Loss: 0.003, Accuracy: 100.0%\n",
      "Batch 31, Loss: 0.035, Accuracy: 100.0%\n",
      "Batch 32, Loss: 0.006, Accuracy: 100.0%\n",
      "Batch 33, Loss: 0.003, Accuracy: 100.0%\n",
      "Batch 34, Loss: 0.001, Accuracy: 100.0%\n",
      "Batch 35, Loss: 0.004, Accuracy: 100.0%\n",
      "Batch 36, Loss: 0.010, Accuracy: 100.0%\n",
      "Batch 37, Loss: 0.005, Accuracy: 100.0%\n",
      "Batch 38, Loss: 0.001, Accuracy: 100.0%\n",
      "Batch 39, Loss: 0.014, Accuracy: 100.0%\n",
      "Batch 40, Loss: 0.002, Accuracy: 100.0%\n",
      "Batch 41, Loss: 0.003, Accuracy: 100.0%\n",
      "Batch 42, Loss: 0.002, Accuracy: 100.0%\n",
      "Batch 43, Loss: 0.005, Accuracy: 100.0%\n",
      "Batch 44, Loss: 0.001, Accuracy: 100.0%\n",
      "Batch 45, Loss: 0.003, Accuracy: 100.0%\n",
      "Batch 46, Loss: 0.006, Accuracy: 100.0%\n",
      "Batch 47, Loss: 0.019, Accuracy: 100.0%\n",
      "Batch 48, Loss: 0.004, Accuracy: 100.0%\n",
      "Batch 49, Loss: 0.008, Accuracy: 100.0%\n",
      "Batch 50, Loss: 0.001, Accuracy: 100.0%\n",
      "\n",
      "Val Loss: 0.010, Val Accuracy: 91.1%\n",
      "***************************************************\n",
      "\n",
      "Epoch: 26\n",
      "\n",
      "Batch 1, Loss: 0.002, Accuracy: 100.0%\n",
      "Batch 2, Loss: 0.002, Accuracy: 100.0%\n",
      "Batch 3, Loss: 0.003, Accuracy: 100.0%\n",
      "Batch 4, Loss: 0.009, Accuracy: 100.0%\n",
      "Batch 5, Loss: 0.002, Accuracy: 100.0%\n",
      "Batch 6, Loss: 0.004, Accuracy: 100.0%\n",
      "Batch 7, Loss: 0.004, Accuracy: 100.0%\n",
      "Batch 8, Loss: 0.006, Accuracy: 100.0%\n",
      "Batch 9, Loss: 0.025, Accuracy: 100.0%\n",
      "Batch 10, Loss: 0.009, Accuracy: 100.0%\n",
      "Batch 11, Loss: 0.004, Accuracy: 100.0%\n",
      "Batch 12, Loss: 0.002, Accuracy: 100.0%\n",
      "Batch 13, Loss: 0.001, Accuracy: 100.0%\n",
      "Batch 14, Loss: 0.001, Accuracy: 100.0%\n",
      "Batch 15, Loss: 0.000, Accuracy: 100.0%\n",
      "Batch 16, Loss: 0.002, Accuracy: 100.0%\n",
      "Batch 17, Loss: 0.002, Accuracy: 100.0%\n",
      "Batch 18, Loss: 0.011, Accuracy: 100.0%\n",
      "Batch 19, Loss: 0.003, Accuracy: 100.0%\n",
      "Batch 20, Loss: 0.002, Accuracy: 100.0%\n",
      "Batch 21, Loss: 0.002, Accuracy: 100.0%\n",
      "Batch 22, Loss: 0.002, Accuracy: 100.0%\n",
      "Batch 23, Loss: 0.009, Accuracy: 100.0%\n",
      "Batch 24, Loss: 0.006, Accuracy: 100.0%\n",
      "Batch 25, Loss: 0.003, Accuracy: 100.0%\n",
      "Batch 26, Loss: 0.006, Accuracy: 100.0%\n",
      "Batch 27, Loss: 0.000, Accuracy: 100.0%\n",
      "Batch 28, Loss: 0.000, Accuracy: 100.0%\n",
      "Batch 29, Loss: 0.001, Accuracy: 100.0%\n",
      "Batch 30, Loss: 0.002, Accuracy: 100.0%\n",
      "Batch 31, Loss: 0.004, Accuracy: 100.0%\n",
      "Batch 32, Loss: 0.010, Accuracy: 100.0%\n",
      "Batch 33, Loss: 0.002, Accuracy: 100.0%\n",
      "Batch 34, Loss: 0.003, Accuracy: 100.0%\n",
      "Batch 35, Loss: 0.009, Accuracy: 100.0%\n",
      "Batch 36, Loss: 0.002, Accuracy: 100.0%\n",
      "Batch 37, Loss: 0.007, Accuracy: 100.0%\n",
      "Batch 38, Loss: 0.002, Accuracy: 100.0%\n",
      "Batch 39, Loss: 0.001, Accuracy: 100.0%\n",
      "Batch 40, Loss: 0.002, Accuracy: 100.0%\n",
      "Batch 41, Loss: 0.002, Accuracy: 100.0%\n",
      "Batch 42, Loss: 0.011, Accuracy: 100.0%\n",
      "Batch 43, Loss: 0.003, Accuracy: 100.0%\n",
      "Batch 44, Loss: 0.003, Accuracy: 100.0%\n",
      "Batch 45, Loss: 0.001, Accuracy: 100.0%\n",
      "Batch 46, Loss: 0.006, Accuracy: 100.0%\n",
      "Batch 47, Loss: 0.003, Accuracy: 100.0%\n",
      "Batch 48, Loss: 0.001, Accuracy: 100.0%\n",
      "Batch 49, Loss: 0.002, Accuracy: 100.0%\n",
      "Batch 50, Loss: 0.004, Accuracy: 100.0%\n",
      "\n",
      "Val Loss: 0.008, Val Accuracy: 91.1%\n",
      "***************************************************\n",
      "\n",
      "Epoch: 27\n",
      "\n",
      "Batch 1, Loss: 0.006, Accuracy: 100.0%\n",
      "Batch 2, Loss: 0.005, Accuracy: 100.0%\n",
      "Batch 3, Loss: 0.001, Accuracy: 100.0%\n",
      "Batch 4, Loss: 0.001, Accuracy: 100.0%\n",
      "Batch 5, Loss: 0.002, Accuracy: 100.0%\n",
      "Batch 6, Loss: 0.001, Accuracy: 100.0%\n",
      "Batch 7, Loss: 0.002, Accuracy: 100.0%\n",
      "Batch 8, Loss: 0.002, Accuracy: 100.0%\n",
      "Batch 9, Loss: 0.001, Accuracy: 100.0%\n",
      "Batch 10, Loss: 0.001, Accuracy: 100.0%\n",
      "Batch 11, Loss: 0.014, Accuracy: 100.0%\n",
      "Batch 12, Loss: 0.005, Accuracy: 100.0%\n",
      "Batch 13, Loss: 0.001, Accuracy: 100.0%\n",
      "Batch 14, Loss: 0.000, Accuracy: 100.0%\n",
      "Batch 15, Loss: 0.001, Accuracy: 100.0%\n",
      "Batch 16, Loss: 0.005, Accuracy: 100.0%\n",
      "Batch 17, Loss: 0.003, Accuracy: 100.0%\n",
      "Batch 18, Loss: 0.005, Accuracy: 100.0%\n",
      "Batch 19, Loss: 0.006, Accuracy: 100.0%\n",
      "Batch 20, Loss: 0.001, Accuracy: 100.0%\n",
      "Batch 21, Loss: 0.002, Accuracy: 100.0%\n",
      "Batch 22, Loss: 0.022, Accuracy: 100.0%\n",
      "Batch 23, Loss: 0.009, Accuracy: 100.0%\n",
      "Batch 24, Loss: 0.009, Accuracy: 100.0%\n",
      "Batch 25, Loss: 0.003, Accuracy: 100.0%\n",
      "Batch 26, Loss: 0.005, Accuracy: 100.0%\n",
      "Batch 27, Loss: 0.002, Accuracy: 100.0%\n",
      "Batch 28, Loss: 0.004, Accuracy: 100.0%\n",
      "Batch 29, Loss: 0.007, Accuracy: 100.0%\n",
      "Batch 30, Loss: 0.006, Accuracy: 100.0%\n",
      "Batch 31, Loss: 0.002, Accuracy: 100.0%\n",
      "Batch 32, Loss: 0.002, Accuracy: 100.0%\n",
      "Batch 33, Loss: 0.002, Accuracy: 100.0%\n",
      "Batch 34, Loss: 0.001, Accuracy: 100.0%\n",
      "Batch 35, Loss: 0.001, Accuracy: 100.0%\n",
      "Batch 36, Loss: 0.003, Accuracy: 100.0%\n",
      "Batch 37, Loss: 0.008, Accuracy: 100.0%\n",
      "Batch 38, Loss: 0.003, Accuracy: 100.0%\n",
      "Batch 39, Loss: 0.002, Accuracy: 100.0%\n",
      "Batch 40, Loss: 0.003, Accuracy: 100.0%\n",
      "Batch 41, Loss: 0.004, Accuracy: 100.0%\n",
      "Batch 42, Loss: 0.005, Accuracy: 100.0%\n",
      "Batch 43, Loss: 0.003, Accuracy: 100.0%\n",
      "Batch 44, Loss: 0.001, Accuracy: 100.0%\n",
      "Batch 45, Loss: 0.001, Accuracy: 100.0%\n",
      "Batch 46, Loss: 0.001, Accuracy: 100.0%\n",
      "Batch 47, Loss: 0.003, Accuracy: 100.0%\n",
      "Batch 48, Loss: 0.006, Accuracy: 100.0%\n",
      "Batch 49, Loss: 0.003, Accuracy: 100.0%\n",
      "Batch 50, Loss: 0.001, Accuracy: 100.0%\n",
      "\n",
      "Val Loss: 0.009, Val Accuracy: 91.1%\n",
      "***************************************************\n",
      "\n",
      "Epoch: 28\n",
      "\n",
      "Batch 1, Loss: 0.010, Accuracy: 100.0%\n",
      "Batch 2, Loss: 0.008, Accuracy: 100.0%\n",
      "Batch 3, Loss: 0.001, Accuracy: 100.0%\n",
      "Batch 4, Loss: 0.001, Accuracy: 100.0%\n",
      "Batch 5, Loss: 0.002, Accuracy: 100.0%\n",
      "Batch 6, Loss: 0.004, Accuracy: 100.0%\n",
      "Batch 7, Loss: 0.001, Accuracy: 100.0%\n",
      "Batch 8, Loss: 0.005, Accuracy: 100.0%\n",
      "Batch 9, Loss: 0.002, Accuracy: 100.0%\n",
      "Batch 10, Loss: 0.001, Accuracy: 100.0%\n",
      "Batch 11, Loss: 0.001, Accuracy: 100.0%\n",
      "Batch 12, Loss: 0.000, Accuracy: 100.0%\n",
      "Batch 13, Loss: 0.004, Accuracy: 100.0%\n",
      "Batch 14, Loss: 0.007, Accuracy: 100.0%\n",
      "Batch 15, Loss: 0.004, Accuracy: 100.0%\n",
      "Batch 16, Loss: 0.005, Accuracy: 100.0%\n",
      "Batch 17, Loss: 0.002, Accuracy: 100.0%\n",
      "Batch 18, Loss: 0.003, Accuracy: 100.0%\n",
      "Batch 19, Loss: 0.001, Accuracy: 100.0%\n",
      "Batch 20, Loss: 0.005, Accuracy: 100.0%\n",
      "Batch 21, Loss: 0.005, Accuracy: 100.0%\n",
      "Batch 22, Loss: 0.019, Accuracy: 100.0%\n",
      "Batch 23, Loss: 0.003, Accuracy: 100.0%\n",
      "Batch 24, Loss: 0.001, Accuracy: 100.0%\n",
      "Batch 25, Loss: 0.001, Accuracy: 100.0%\n",
      "Batch 26, Loss: 0.001, Accuracy: 100.0%\n",
      "Batch 27, Loss: 0.004, Accuracy: 100.0%\n",
      "Batch 28, Loss: 0.002, Accuracy: 100.0%\n",
      "Batch 29, Loss: 0.001, Accuracy: 100.0%\n",
      "Batch 30, Loss: 0.014, Accuracy: 100.0%\n",
      "Batch 31, Loss: 0.007, Accuracy: 100.0%\n",
      "Batch 32, Loss: 0.003, Accuracy: 100.0%\n",
      "Batch 33, Loss: 0.005, Accuracy: 100.0%\n",
      "Batch 34, Loss: 0.005, Accuracy: 100.0%\n",
      "Batch 35, Loss: 0.001, Accuracy: 100.0%\n",
      "Batch 36, Loss: 0.001, Accuracy: 100.0%\n",
      "Batch 37, Loss: 0.002, Accuracy: 100.0%\n",
      "Batch 38, Loss: 0.001, Accuracy: 100.0%\n",
      "Batch 39, Loss: 0.002, Accuracy: 100.0%\n",
      "Batch 40, Loss: 0.002, Accuracy: 100.0%\n",
      "Batch 41, Loss: 0.000, Accuracy: 100.0%\n",
      "Batch 42, Loss: 0.008, Accuracy: 100.0%\n",
      "Batch 43, Loss: 0.005, Accuracy: 100.0%\n",
      "Batch 44, Loss: 0.008, Accuracy: 100.0%\n",
      "Batch 45, Loss: 0.001, Accuracy: 100.0%\n",
      "Batch 46, Loss: 0.001, Accuracy: 100.0%\n",
      "Batch 47, Loss: 0.006, Accuracy: 100.0%\n",
      "Batch 48, Loss: 0.001, Accuracy: 100.0%\n",
      "Batch 49, Loss: 0.003, Accuracy: 100.0%\n",
      "Batch 50, Loss: 0.002, Accuracy: 100.0%\n",
      "\n",
      "Val Loss: 0.006, Val Accuracy: 91.1%\n",
      "***************************************************\n",
      "\n",
      "Epoch: 29\n",
      "\n",
      "Batch 1, Loss: 0.002, Accuracy: 100.0%\n",
      "Batch 2, Loss: 0.002, Accuracy: 100.0%\n",
      "Batch 3, Loss: 0.002, Accuracy: 100.0%\n",
      "Batch 4, Loss: 0.001, Accuracy: 100.0%\n",
      "Batch 5, Loss: 0.002, Accuracy: 100.0%\n",
      "Batch 6, Loss: 0.001, Accuracy: 100.0%\n",
      "Batch 7, Loss: 0.002, Accuracy: 100.0%\n",
      "Batch 8, Loss: 0.003, Accuracy: 100.0%\n",
      "Batch 9, Loss: 0.001, Accuracy: 100.0%\n",
      "Batch 10, Loss: 0.001, Accuracy: 100.0%\n",
      "Batch 11, Loss: 0.002, Accuracy: 100.0%\n",
      "Batch 12, Loss: 0.002, Accuracy: 100.0%\n",
      "Batch 13, Loss: 0.005, Accuracy: 100.0%\n",
      "Batch 14, Loss: 0.002, Accuracy: 100.0%\n",
      "Batch 15, Loss: 0.003, Accuracy: 100.0%\n",
      "Batch 16, Loss: 0.002, Accuracy: 100.0%\n",
      "Batch 17, Loss: 0.002, Accuracy: 100.0%\n",
      "Batch 18, Loss: 0.005, Accuracy: 100.0%\n",
      "Batch 19, Loss: 0.020, Accuracy: 100.0%\n",
      "Batch 20, Loss: 0.002, Accuracy: 100.0%\n",
      "Batch 21, Loss: 0.002, Accuracy: 100.0%\n",
      "Batch 22, Loss: 0.003, Accuracy: 100.0%\n",
      "Batch 23, Loss: 0.002, Accuracy: 100.0%\n",
      "Batch 24, Loss: 0.005, Accuracy: 100.0%\n",
      "Batch 25, Loss: 0.004, Accuracy: 100.0%\n",
      "Batch 26, Loss: 0.008, Accuracy: 100.0%\n",
      "Batch 27, Loss: 0.004, Accuracy: 100.0%\n",
      "Batch 28, Loss: 0.003, Accuracy: 100.0%\n",
      "Batch 29, Loss: 0.000, Accuracy: 100.0%\n",
      "Batch 30, Loss: 0.000, Accuracy: 100.0%\n",
      "Batch 31, Loss: 0.003, Accuracy: 100.0%\n",
      "Batch 32, Loss: 0.005, Accuracy: 100.0%\n",
      "Batch 33, Loss: 0.002, Accuracy: 100.0%\n",
      "Batch 34, Loss: 0.005, Accuracy: 100.0%\n",
      "Batch 35, Loss: 0.005, Accuracy: 100.0%\n",
      "Batch 36, Loss: 0.005, Accuracy: 100.0%\n",
      "Batch 37, Loss: 0.002, Accuracy: 100.0%\n",
      "Batch 38, Loss: 0.001, Accuracy: 100.0%\n",
      "Batch 39, Loss: 0.002, Accuracy: 100.0%\n",
      "Batch 40, Loss: 0.001, Accuracy: 100.0%\n",
      "Batch 41, Loss: 0.003, Accuracy: 100.0%\n",
      "Batch 42, Loss: 0.001, Accuracy: 100.0%\n",
      "Batch 43, Loss: 0.001, Accuracy: 100.0%\n",
      "Batch 44, Loss: 0.002, Accuracy: 100.0%\n",
      "Batch 45, Loss: 0.003, Accuracy: 100.0%\n",
      "Batch 46, Loss: 0.003, Accuracy: 100.0%\n",
      "Batch 47, Loss: 0.001, Accuracy: 100.0%\n",
      "Batch 48, Loss: 0.002, Accuracy: 100.0%\n",
      "Batch 49, Loss: 0.004, Accuracy: 100.0%\n",
      "Batch 50, Loss: 0.004, Accuracy: 100.0%\n",
      "\n",
      "Val Loss: 0.005, Val Accuracy: 91.1%\n",
      "***************************************************\n",
      "\n",
      "Epoch: 30\n",
      "\n",
      "Batch 1, Loss: 0.001, Accuracy: 100.0%\n",
      "Batch 2, Loss: 0.000, Accuracy: 100.0%\n",
      "Batch 3, Loss: 0.004, Accuracy: 100.0%\n",
      "Batch 4, Loss: 0.002, Accuracy: 100.0%\n",
      "Batch 5, Loss: 0.002, Accuracy: 100.0%\n",
      "Batch 6, Loss: 0.002, Accuracy: 100.0%\n",
      "Batch 7, Loss: 0.002, Accuracy: 100.0%\n",
      "Batch 8, Loss: 0.004, Accuracy: 100.0%\n",
      "Batch 9, Loss: 0.001, Accuracy: 100.0%\n",
      "Batch 10, Loss: 0.003, Accuracy: 100.0%\n",
      "Batch 11, Loss: 0.001, Accuracy: 100.0%\n",
      "Batch 12, Loss: 0.001, Accuracy: 100.0%\n",
      "Batch 13, Loss: 0.004, Accuracy: 100.0%\n",
      "Batch 14, Loss: 0.003, Accuracy: 100.0%\n",
      "Batch 15, Loss: 0.003, Accuracy: 100.0%\n",
      "Batch 16, Loss: 0.001, Accuracy: 100.0%\n",
      "Batch 17, Loss: 0.001, Accuracy: 100.0%\n",
      "Batch 18, Loss: 0.003, Accuracy: 100.0%\n",
      "Batch 19, Loss: 0.001, Accuracy: 100.0%\n",
      "Batch 20, Loss: 0.003, Accuracy: 100.0%\n",
      "Batch 21, Loss: 0.002, Accuracy: 100.0%\n",
      "Batch 22, Loss: 0.001, Accuracy: 100.0%\n",
      "Batch 23, Loss: 0.001, Accuracy: 100.0%\n",
      "Batch 24, Loss: 0.004, Accuracy: 100.0%\n",
      "Batch 25, Loss: 0.003, Accuracy: 100.0%\n",
      "Batch 26, Loss: 0.001, Accuracy: 100.0%\n",
      "Batch 27, Loss: 0.003, Accuracy: 100.0%\n",
      "Batch 28, Loss: 0.004, Accuracy: 100.0%\n",
      "Batch 29, Loss: 0.002, Accuracy: 100.0%\n",
      "Batch 30, Loss: 0.002, Accuracy: 100.0%\n",
      "Batch 31, Loss: 0.003, Accuracy: 100.0%\n",
      "Batch 32, Loss: 0.015, Accuracy: 100.0%\n",
      "Batch 33, Loss: 0.001, Accuracy: 100.0%\n",
      "Batch 34, Loss: 0.004, Accuracy: 100.0%\n",
      "Batch 35, Loss: 0.001, Accuracy: 100.0%\n",
      "Batch 36, Loss: 0.002, Accuracy: 100.0%\n",
      "Batch 37, Loss: 0.002, Accuracy: 100.0%\n",
      "Batch 38, Loss: 0.002, Accuracy: 100.0%\n",
      "Batch 39, Loss: 0.001, Accuracy: 100.0%\n",
      "Batch 40, Loss: 0.004, Accuracy: 100.0%\n",
      "Batch 41, Loss: 0.001, Accuracy: 100.0%\n",
      "Batch 42, Loss: 0.001, Accuracy: 100.0%\n",
      "Batch 43, Loss: 0.000, Accuracy: 100.0%\n",
      "Batch 44, Loss: 0.004, Accuracy: 100.0%\n",
      "Batch 45, Loss: 0.001, Accuracy: 100.0%\n",
      "Batch 46, Loss: 0.018, Accuracy: 100.0%\n",
      "Batch 47, Loss: 0.000, Accuracy: 100.0%\n",
      "Batch 48, Loss: 0.001, Accuracy: 100.0%\n",
      "Batch 49, Loss: 0.004, Accuracy: 100.0%\n",
      "Batch 50, Loss: 0.001, Accuracy: 100.0%\n",
      "\n",
      "Val Loss: 0.007, Val Accuracy: 91.1%\n",
      "***************************************************\n",
      "\n",
      "Finished Training\n"
     ]
    }
   ],
   "source": [
    "loss_history = []\n",
    "acuracy_history = []\n",
    "\n",
    "for epoch_index in range(num_epochs):\n",
    "    print(f'Epoch: {epoch_index + 1}\\n')\n",
    "    \n",
    "    train_one_epoch()\n",
    "    scores = validate_one_epoch()\n",
    "    \n",
    "    loss_history.append(scores[0])\n",
    "    acuracy_history.append(scores[1])\n",
    "        \n",
    "print('Finished Training')"
   ]
  },
  {
   "cell_type": "code",
   "execution_count": 28,
   "id": "ae9098c2-0733-477d-8fc9-ea6c17a249ef",
   "metadata": {},
   "outputs": [
    {
     "data": {
      "application/vnd.plotly.v1+json": {
       "config": {
        "plotlyServerURL": "https://plot.ly"
       },
       "data": [
        {
         "mode": "lines+markers",
         "name": "Validation Accuracy",
         "type": "scatter",
         "x": [
          1,
          2,
          3,
          4,
          5,
          6,
          7,
          8,
          9,
          10,
          11,
          12,
          13,
          14,
          15,
          16,
          17,
          18,
          19,
          20,
          21,
          22,
          23,
          24,
          25,
          26,
          27,
          28,
          29,
          30
         ],
         "y": [
          25,
          51.78571428571429,
          57.14285714285714,
          78.57142857142857,
          85.71428571428571,
          83.92857142857143,
          82.14285714285714,
          80.35714285714286,
          83.92857142857143,
          87.5,
          91.07142857142857,
          89.28571428571429,
          83.92857142857143,
          91.07142857142857,
          91.07142857142857,
          91.07142857142857,
          91.07142857142857,
          91.07142857142857,
          91.07142857142857,
          91.07142857142857,
          91.07142857142857,
          91.07142857142857,
          91.07142857142857,
          91.07142857142857,
          91.07142857142857,
          91.07142857142857,
          91.07142857142857,
          91.07142857142857,
          91.07142857142857,
          91.07142857142857
         ]
        }
       ],
       "layout": {
        "height": 600,
        "template": {
         "data": {
          "bar": [
           {
            "error_x": {
             "color": "#2a3f5f"
            },
            "error_y": {
             "color": "#2a3f5f"
            },
            "marker": {
             "line": {
              "color": "#E5ECF6",
              "width": 0.5
             },
             "pattern": {
              "fillmode": "overlay",
              "size": 10,
              "solidity": 0.2
             }
            },
            "type": "bar"
           }
          ],
          "barpolar": [
           {
            "marker": {
             "line": {
              "color": "#E5ECF6",
              "width": 0.5
             },
             "pattern": {
              "fillmode": "overlay",
              "size": 10,
              "solidity": 0.2
             }
            },
            "type": "barpolar"
           }
          ],
          "carpet": [
           {
            "aaxis": {
             "endlinecolor": "#2a3f5f",
             "gridcolor": "white",
             "linecolor": "white",
             "minorgridcolor": "white",
             "startlinecolor": "#2a3f5f"
            },
            "baxis": {
             "endlinecolor": "#2a3f5f",
             "gridcolor": "white",
             "linecolor": "white",
             "minorgridcolor": "white",
             "startlinecolor": "#2a3f5f"
            },
            "type": "carpet"
           }
          ],
          "choropleth": [
           {
            "colorbar": {
             "outlinewidth": 0,
             "ticks": ""
            },
            "type": "choropleth"
           }
          ],
          "contour": [
           {
            "colorbar": {
             "outlinewidth": 0,
             "ticks": ""
            },
            "colorscale": [
             [
              0,
              "#0d0887"
             ],
             [
              0.1111111111111111,
              "#46039f"
             ],
             [
              0.2222222222222222,
              "#7201a8"
             ],
             [
              0.3333333333333333,
              "#9c179e"
             ],
             [
              0.4444444444444444,
              "#bd3786"
             ],
             [
              0.5555555555555556,
              "#d8576b"
             ],
             [
              0.6666666666666666,
              "#ed7953"
             ],
             [
              0.7777777777777778,
              "#fb9f3a"
             ],
             [
              0.8888888888888888,
              "#fdca26"
             ],
             [
              1,
              "#f0f921"
             ]
            ],
            "type": "contour"
           }
          ],
          "contourcarpet": [
           {
            "colorbar": {
             "outlinewidth": 0,
             "ticks": ""
            },
            "type": "contourcarpet"
           }
          ],
          "heatmap": [
           {
            "colorbar": {
             "outlinewidth": 0,
             "ticks": ""
            },
            "colorscale": [
             [
              0,
              "#0d0887"
             ],
             [
              0.1111111111111111,
              "#46039f"
             ],
             [
              0.2222222222222222,
              "#7201a8"
             ],
             [
              0.3333333333333333,
              "#9c179e"
             ],
             [
              0.4444444444444444,
              "#bd3786"
             ],
             [
              0.5555555555555556,
              "#d8576b"
             ],
             [
              0.6666666666666666,
              "#ed7953"
             ],
             [
              0.7777777777777778,
              "#fb9f3a"
             ],
             [
              0.8888888888888888,
              "#fdca26"
             ],
             [
              1,
              "#f0f921"
             ]
            ],
            "type": "heatmap"
           }
          ],
          "heatmapgl": [
           {
            "colorbar": {
             "outlinewidth": 0,
             "ticks": ""
            },
            "colorscale": [
             [
              0,
              "#0d0887"
             ],
             [
              0.1111111111111111,
              "#46039f"
             ],
             [
              0.2222222222222222,
              "#7201a8"
             ],
             [
              0.3333333333333333,
              "#9c179e"
             ],
             [
              0.4444444444444444,
              "#bd3786"
             ],
             [
              0.5555555555555556,
              "#d8576b"
             ],
             [
              0.6666666666666666,
              "#ed7953"
             ],
             [
              0.7777777777777778,
              "#fb9f3a"
             ],
             [
              0.8888888888888888,
              "#fdca26"
             ],
             [
              1,
              "#f0f921"
             ]
            ],
            "type": "heatmapgl"
           }
          ],
          "histogram": [
           {
            "marker": {
             "pattern": {
              "fillmode": "overlay",
              "size": 10,
              "solidity": 0.2
             }
            },
            "type": "histogram"
           }
          ],
          "histogram2d": [
           {
            "colorbar": {
             "outlinewidth": 0,
             "ticks": ""
            },
            "colorscale": [
             [
              0,
              "#0d0887"
             ],
             [
              0.1111111111111111,
              "#46039f"
             ],
             [
              0.2222222222222222,
              "#7201a8"
             ],
             [
              0.3333333333333333,
              "#9c179e"
             ],
             [
              0.4444444444444444,
              "#bd3786"
             ],
             [
              0.5555555555555556,
              "#d8576b"
             ],
             [
              0.6666666666666666,
              "#ed7953"
             ],
             [
              0.7777777777777778,
              "#fb9f3a"
             ],
             [
              0.8888888888888888,
              "#fdca26"
             ],
             [
              1,
              "#f0f921"
             ]
            ],
            "type": "histogram2d"
           }
          ],
          "histogram2dcontour": [
           {
            "colorbar": {
             "outlinewidth": 0,
             "ticks": ""
            },
            "colorscale": [
             [
              0,
              "#0d0887"
             ],
             [
              0.1111111111111111,
              "#46039f"
             ],
             [
              0.2222222222222222,
              "#7201a8"
             ],
             [
              0.3333333333333333,
              "#9c179e"
             ],
             [
              0.4444444444444444,
              "#bd3786"
             ],
             [
              0.5555555555555556,
              "#d8576b"
             ],
             [
              0.6666666666666666,
              "#ed7953"
             ],
             [
              0.7777777777777778,
              "#fb9f3a"
             ],
             [
              0.8888888888888888,
              "#fdca26"
             ],
             [
              1,
              "#f0f921"
             ]
            ],
            "type": "histogram2dcontour"
           }
          ],
          "mesh3d": [
           {
            "colorbar": {
             "outlinewidth": 0,
             "ticks": ""
            },
            "type": "mesh3d"
           }
          ],
          "parcoords": [
           {
            "line": {
             "colorbar": {
              "outlinewidth": 0,
              "ticks": ""
             }
            },
            "type": "parcoords"
           }
          ],
          "pie": [
           {
            "automargin": true,
            "type": "pie"
           }
          ],
          "scatter": [
           {
            "fillpattern": {
             "fillmode": "overlay",
             "size": 10,
             "solidity": 0.2
            },
            "type": "scatter"
           }
          ],
          "scatter3d": [
           {
            "line": {
             "colorbar": {
              "outlinewidth": 0,
              "ticks": ""
             }
            },
            "marker": {
             "colorbar": {
              "outlinewidth": 0,
              "ticks": ""
             }
            },
            "type": "scatter3d"
           }
          ],
          "scattercarpet": [
           {
            "marker": {
             "colorbar": {
              "outlinewidth": 0,
              "ticks": ""
             }
            },
            "type": "scattercarpet"
           }
          ],
          "scattergeo": [
           {
            "marker": {
             "colorbar": {
              "outlinewidth": 0,
              "ticks": ""
             }
            },
            "type": "scattergeo"
           }
          ],
          "scattergl": [
           {
            "marker": {
             "colorbar": {
              "outlinewidth": 0,
              "ticks": ""
             }
            },
            "type": "scattergl"
           }
          ],
          "scattermapbox": [
           {
            "marker": {
             "colorbar": {
              "outlinewidth": 0,
              "ticks": ""
             }
            },
            "type": "scattermapbox"
           }
          ],
          "scatterpolar": [
           {
            "marker": {
             "colorbar": {
              "outlinewidth": 0,
              "ticks": ""
             }
            },
            "type": "scatterpolar"
           }
          ],
          "scatterpolargl": [
           {
            "marker": {
             "colorbar": {
              "outlinewidth": 0,
              "ticks": ""
             }
            },
            "type": "scatterpolargl"
           }
          ],
          "scatterternary": [
           {
            "marker": {
             "colorbar": {
              "outlinewidth": 0,
              "ticks": ""
             }
            },
            "type": "scatterternary"
           }
          ],
          "surface": [
           {
            "colorbar": {
             "outlinewidth": 0,
             "ticks": ""
            },
            "colorscale": [
             [
              0,
              "#0d0887"
             ],
             [
              0.1111111111111111,
              "#46039f"
             ],
             [
              0.2222222222222222,
              "#7201a8"
             ],
             [
              0.3333333333333333,
              "#9c179e"
             ],
             [
              0.4444444444444444,
              "#bd3786"
             ],
             [
              0.5555555555555556,
              "#d8576b"
             ],
             [
              0.6666666666666666,
              "#ed7953"
             ],
             [
              0.7777777777777778,
              "#fb9f3a"
             ],
             [
              0.8888888888888888,
              "#fdca26"
             ],
             [
              1,
              "#f0f921"
             ]
            ],
            "type": "surface"
           }
          ],
          "table": [
           {
            "cells": {
             "fill": {
              "color": "#EBF0F8"
             },
             "line": {
              "color": "white"
             }
            },
            "header": {
             "fill": {
              "color": "#C8D4E3"
             },
             "line": {
              "color": "white"
             }
            },
            "type": "table"
           }
          ]
         },
         "layout": {
          "annotationdefaults": {
           "arrowcolor": "#2a3f5f",
           "arrowhead": 0,
           "arrowwidth": 1
          },
          "autotypenumbers": "strict",
          "coloraxis": {
           "colorbar": {
            "outlinewidth": 0,
            "ticks": ""
           }
          },
          "colorscale": {
           "diverging": [
            [
             0,
             "#8e0152"
            ],
            [
             0.1,
             "#c51b7d"
            ],
            [
             0.2,
             "#de77ae"
            ],
            [
             0.3,
             "#f1b6da"
            ],
            [
             0.4,
             "#fde0ef"
            ],
            [
             0.5,
             "#f7f7f7"
            ],
            [
             0.6,
             "#e6f5d0"
            ],
            [
             0.7,
             "#b8e186"
            ],
            [
             0.8,
             "#7fbc41"
            ],
            [
             0.9,
             "#4d9221"
            ],
            [
             1,
             "#276419"
            ]
           ],
           "sequential": [
            [
             0,
             "#0d0887"
            ],
            [
             0.1111111111111111,
             "#46039f"
            ],
            [
             0.2222222222222222,
             "#7201a8"
            ],
            [
             0.3333333333333333,
             "#9c179e"
            ],
            [
             0.4444444444444444,
             "#bd3786"
            ],
            [
             0.5555555555555556,
             "#d8576b"
            ],
            [
             0.6666666666666666,
             "#ed7953"
            ],
            [
             0.7777777777777778,
             "#fb9f3a"
            ],
            [
             0.8888888888888888,
             "#fdca26"
            ],
            [
             1,
             "#f0f921"
            ]
           ],
           "sequentialminus": [
            [
             0,
             "#0d0887"
            ],
            [
             0.1111111111111111,
             "#46039f"
            ],
            [
             0.2222222222222222,
             "#7201a8"
            ],
            [
             0.3333333333333333,
             "#9c179e"
            ],
            [
             0.4444444444444444,
             "#bd3786"
            ],
            [
             0.5555555555555556,
             "#d8576b"
            ],
            [
             0.6666666666666666,
             "#ed7953"
            ],
            [
             0.7777777777777778,
             "#fb9f3a"
            ],
            [
             0.8888888888888888,
             "#fdca26"
            ],
            [
             1,
             "#f0f921"
            ]
           ]
          },
          "colorway": [
           "#636efa",
           "#EF553B",
           "#00cc96",
           "#ab63fa",
           "#FFA15A",
           "#19d3f3",
           "#FF6692",
           "#B6E880",
           "#FF97FF",
           "#FECB52"
          ],
          "font": {
           "color": "#2a3f5f"
          },
          "geo": {
           "bgcolor": "white",
           "lakecolor": "white",
           "landcolor": "#E5ECF6",
           "showlakes": true,
           "showland": true,
           "subunitcolor": "white"
          },
          "hoverlabel": {
           "align": "left"
          },
          "hovermode": "closest",
          "mapbox": {
           "style": "light"
          },
          "paper_bgcolor": "white",
          "plot_bgcolor": "#E5ECF6",
          "polar": {
           "angularaxis": {
            "gridcolor": "white",
            "linecolor": "white",
            "ticks": ""
           },
           "bgcolor": "#E5ECF6",
           "radialaxis": {
            "gridcolor": "white",
            "linecolor": "white",
            "ticks": ""
           }
          },
          "scene": {
           "xaxis": {
            "backgroundcolor": "#E5ECF6",
            "gridcolor": "white",
            "gridwidth": 2,
            "linecolor": "white",
            "showbackground": true,
            "ticks": "",
            "zerolinecolor": "white"
           },
           "yaxis": {
            "backgroundcolor": "#E5ECF6",
            "gridcolor": "white",
            "gridwidth": 2,
            "linecolor": "white",
            "showbackground": true,
            "ticks": "",
            "zerolinecolor": "white"
           },
           "zaxis": {
            "backgroundcolor": "#E5ECF6",
            "gridcolor": "white",
            "gridwidth": 2,
            "linecolor": "white",
            "showbackground": true,
            "ticks": "",
            "zerolinecolor": "white"
           }
          },
          "shapedefaults": {
           "line": {
            "color": "#2a3f5f"
           }
          },
          "ternary": {
           "aaxis": {
            "gridcolor": "white",
            "linecolor": "white",
            "ticks": ""
           },
           "baxis": {
            "gridcolor": "white",
            "linecolor": "white",
            "ticks": ""
           },
           "bgcolor": "#E5ECF6",
           "caxis": {
            "gridcolor": "white",
            "linecolor": "white",
            "ticks": ""
           }
          },
          "title": {
           "x": 0.05
          },
          "xaxis": {
           "automargin": true,
           "gridcolor": "white",
           "linecolor": "white",
           "ticks": "",
           "title": {
            "standoff": 15
           },
           "zerolinecolor": "white",
           "zerolinewidth": 2
          },
          "yaxis": {
           "automargin": true,
           "gridcolor": "white",
           "linecolor": "white",
           "ticks": "",
           "title": {
            "standoff": 15
           },
           "zerolinecolor": "white",
           "zerolinewidth": 2
          }
         }
        },
        "title": {
         "text": "Validation Accuracy Over Epochs"
        },
        "width": 800,
        "xaxis": {
         "autorange": true,
         "range": [
          -0.8236587510993842,
          31.823658751099384
         ],
         "title": {
          "text": "Epoch"
         },
         "type": "linear"
        },
        "yaxis": {
         "range": [
          20,
          100
         ],
         "title": {
          "text": "Accuracy"
         },
         "type": "linear"
        }
       }
      },
      "image/png": "[encoded data removed]",
      "text/html": [
       "<div>                            <div id=\"d8ff3944-b33d-49ef-9927-4e1839ef0429\" class=\"plotly-graph-div\" style=\"height:600px; width:800px;\"></div>            <script type=\"text/javascript\">                require([\"plotly\"], function(Plotly) {                    window.PLOTLYENV=window.PLOTLYENV || {};                                    if (document.getElementById(\"d8ff3944-b33d-49ef-9927-4e1839ef0429\")) {                    Plotly.newPlot(                        \"d8ff3944-b33d-49ef-9927-4e1839ef0429\",                        [{\"mode\":\"lines+markers\",\"name\":\"Validation Accuracy\",\"x\":[1,2,3,4,5,6,7,8,9,10,11,12,13,14,15,16,17,18,19,20,21,22,23,24,25,26,27,28,29,30],\"y\":[25.0,51.78571428571429,57.14285714285714,78.57142857142857,85.71428571428571,83.92857142857143,82.14285714285714,80.35714285714286,83.92857142857143,87.5,91.07142857142857,89.28571428571429,83.92857142857143,91.07142857142857,91.07142857142857,91.07142857142857,91.07142857142857,91.07142857142857,91.07142857142857,91.07142857142857,91.07142857142857,91.07142857142857,91.07142857142857,91.07142857142857,91.07142857142857,91.07142857142857,91.07142857142857,91.07142857142857,91.07142857142857,91.07142857142857],\"type\":\"scatter\"}],                        {\"template\":{\"data\":{\"histogram2dcontour\":[{\"type\":\"histogram2dcontour\",\"colorbar\":{\"outlinewidth\":0,\"ticks\":\"\"},\"colorscale\":[[0.0,\"#0d0887\"],[0.1111111111111111,\"#46039f\"],[0.2222222222222222,\"#7201a8\"],[0.3333333333333333,\"#9c179e\"],[0.4444444444444444,\"#bd3786\"],[0.5555555555555556,\"#d8576b\"],[0.6666666666666666,\"#ed7953\"],[0.7777777777777778,\"#fb9f3a\"],[0.8888888888888888,\"#fdca26\"],[1.0,\"#f0f921\"]]}],\"choropleth\":[{\"type\":\"choropleth\",\"colorbar\":{\"outlinewidth\":0,\"ticks\":\"\"}}],\"histogram2d\":[{\"type\":\"histogram2d\",\"colorbar\":{\"outlinewidth\":0,\"ticks\":\"\"},\"colorscale\":[[0.0,\"#0d0887\"],[0.1111111111111111,\"#46039f\"],[0.2222222222222222,\"#7201a8\"],[0.3333333333333333,\"#9c179e\"],[0.4444444444444444,\"#bd3786\"],[0.5555555555555556,\"#d8576b\"],[0.6666666666666666,\"#ed7953\"],[0.7777777777777778,\"#fb9f3a\"],[0.8888888888888888,\"#fdca26\"],[1.0,\"#f0f921\"]]}],\"heatmap\":[{\"type\":\"heatmap\",\"colorbar\":{\"outlinewidth\":0,\"ticks\":\"\"},\"colorscale\":[[0.0,\"#0d0887\"],[0.1111111111111111,\"#46039f\"],[0.2222222222222222,\"#7201a8\"],[0.3333333333333333,\"#9c179e\"],[0.4444444444444444,\"#bd3786\"],[0.5555555555555556,\"#d8576b\"],[0.6666666666666666,\"#ed7953\"],[0.7777777777777778,\"#fb9f3a\"],[0.8888888888888888,\"#fdca26\"],[1.0,\"#f0f921\"]]}],\"heatmapgl\":[{\"type\":\"heatmapgl\",\"colorbar\":{\"outlinewidth\":0,\"ticks\":\"\"},\"colorscale\":[[0.0,\"#0d0887\"],[0.1111111111111111,\"#46039f\"],[0.2222222222222222,\"#7201a8\"],[0.3333333333333333,\"#9c179e\"],[0.4444444444444444,\"#bd3786\"],[0.5555555555555556,\"#d8576b\"],[0.6666666666666666,\"#ed7953\"],[0.7777777777777778,\"#fb9f3a\"],[0.8888888888888888,\"#fdca26\"],[1.0,\"#f0f921\"]]}],\"contourcarpet\":[{\"type\":\"contourcarpet\",\"colorbar\":{\"outlinewidth\":0,\"ticks\":\"\"}}],\"contour\":[{\"type\":\"contour\",\"colorbar\":{\"outlinewidth\":0,\"ticks\":\"\"},\"colorscale\":[[0.0,\"#0d0887\"],[0.1111111111111111,\"#46039f\"],[0.2222222222222222,\"#7201a8\"],[0.3333333333333333,\"#9c179e\"],[0.4444444444444444,\"#bd3786\"],[0.5555555555555556,\"#d8576b\"],[0.6666666666666666,\"#ed7953\"],[0.7777777777777778,\"#fb9f3a\"],[0.8888888888888888,\"#fdca26\"],[1.0,\"#f0f921\"]]}],\"surface\":[{\"type\":\"surface\",\"colorbar\":{\"outlinewidth\":0,\"ticks\":\"\"},\"colorscale\":[[0.0,\"#0d0887\"],[0.1111111111111111,\"#46039f\"],[0.2222222222222222,\"#7201a8\"],[0.3333333333333333,\"#9c179e\"],[0.4444444444444444,\"#bd3786\"],[0.5555555555555556,\"#d8576b\"],[0.6666666666666666,\"#ed7953\"],[0.7777777777777778,\"#fb9f3a\"],[0.8888888888888888,\"#fdca26\"],[1.0,\"#f0f921\"]]}],\"mesh3d\":[{\"type\":\"mesh3d\",\"colorbar\":{\"outlinewidth\":0,\"ticks\":\"\"}}],\"scatter\":[{\"fillpattern\":{\"fillmode\":\"overlay\",\"size\":10,\"solidity\":0.2},\"type\":\"scatter\"}],\"parcoords\":[{\"type\":\"parcoords\",\"line\":{\"colorbar\":{\"outlinewidth\":0,\"ticks\":\"\"}}}],\"scatterpolargl\":[{\"type\":\"scatterpolargl\",\"marker\":{\"colorbar\":{\"outlinewidth\":0,\"ticks\":\"\"}}}],\"bar\":[{\"error_x\":{\"color\":\"#2a3f5f\"},\"error_y\":{\"color\":\"#2a3f5f\"},\"marker\":{\"line\":{\"color\":\"#E5ECF6\",\"width\":0.5},\"pattern\":{\"fillmode\":\"overlay\",\"size\":10,\"solidity\":0.2}},\"type\":\"bar\"}],\"scattergeo\":[{\"type\":\"scattergeo\",\"marker\":{\"colorbar\":{\"outlinewidth\":0,\"ticks\":\"\"}}}],\"scatterpolar\":[{\"type\":\"scatterpolar\",\"marker\":{\"colorbar\":{\"outlinewidth\":0,\"ticks\":\"\"}}}],\"histogram\":[{\"marker\":{\"pattern\":{\"fillmode\":\"overlay\",\"size\":10,\"solidity\":0.2}},\"type\":\"histogram\"}],\"scattergl\":[{\"type\":\"scattergl\",\"marker\":{\"colorbar\":{\"outlinewidth\":0,\"ticks\":\"\"}}}],\"scatter3d\":[{\"type\":\"scatter3d\",\"line\":{\"colorbar\":{\"outlinewidth\":0,\"ticks\":\"\"}},\"marker\":{\"colorbar\":{\"outlinewidth\":0,\"ticks\":\"\"}}}],\"scattermapbox\":[{\"type\":\"scattermapbox\",\"marker\":{\"colorbar\":{\"outlinewidth\":0,\"ticks\":\"\"}}}],\"scatterternary\":[{\"type\":\"scatterternary\",\"marker\":{\"colorbar\":{\"outlinewidth\":0,\"ticks\":\"\"}}}],\"scattercarpet\":[{\"type\":\"scattercarpet\",\"marker\":{\"colorbar\":{\"outlinewidth\":0,\"ticks\":\"\"}}}],\"carpet\":[{\"aaxis\":{\"endlinecolor\":\"#2a3f5f\",\"gridcolor\":\"white\",\"linecolor\":\"white\",\"minorgridcolor\":\"white\",\"startlinecolor\":\"#2a3f5f\"},\"baxis\":{\"endlinecolor\":\"#2a3f5f\",\"gridcolor\":\"white\",\"linecolor\":\"white\",\"minorgridcolor\":\"white\",\"startlinecolor\":\"#2a3f5f\"},\"type\":\"carpet\"}],\"table\":[{\"cells\":{\"fill\":{\"color\":\"#EBF0F8\"},\"line\":{\"color\":\"white\"}},\"header\":{\"fill\":{\"color\":\"#C8D4E3\"},\"line\":{\"color\":\"white\"}},\"type\":\"table\"}],\"barpolar\":[{\"marker\":{\"line\":{\"color\":\"#E5ECF6\",\"width\":0.5},\"pattern\":{\"fillmode\":\"overlay\",\"size\":10,\"solidity\":0.2}},\"type\":\"barpolar\"}],\"pie\":[{\"automargin\":true,\"type\":\"pie\"}]},\"layout\":{\"autotypenumbers\":\"strict\",\"colorway\":[\"#636efa\",\"#EF553B\",\"#00cc96\",\"#ab63fa\",\"#FFA15A\",\"#19d3f3\",\"#FF6692\",\"#B6E880\",\"#FF97FF\",\"#FECB52\"],\"font\":{\"color\":\"#2a3f5f\"},\"hovermode\":\"closest\",\"hoverlabel\":{\"align\":\"left\"},\"paper_bgcolor\":\"white\",\"plot_bgcolor\":\"#E5ECF6\",\"polar\":{\"bgcolor\":\"#E5ECF6\",\"angularaxis\":{\"gridcolor\":\"white\",\"linecolor\":\"white\",\"ticks\":\"\"},\"radialaxis\":{\"gridcolor\":\"white\",\"linecolor\":\"white\",\"ticks\":\"\"}},\"ternary\":{\"bgcolor\":\"#E5ECF6\",\"aaxis\":{\"gridcolor\":\"white\",\"linecolor\":\"white\",\"ticks\":\"\"},\"baxis\":{\"gridcolor\":\"white\",\"linecolor\":\"white\",\"ticks\":\"\"},\"caxis\":{\"gridcolor\":\"white\",\"linecolor\":\"white\",\"ticks\":\"\"}},\"coloraxis\":{\"colorbar\":{\"outlinewidth\":0,\"ticks\":\"\"}},\"colorscale\":{\"sequential\":[[0.0,\"#0d0887\"],[0.1111111111111111,\"#46039f\"],[0.2222222222222222,\"#7201a8\"],[0.3333333333333333,\"#9c179e\"],[0.4444444444444444,\"#bd3786\"],[0.5555555555555556,\"#d8576b\"],[0.6666666666666666,\"#ed7953\"],[0.7777777777777778,\"#fb9f3a\"],[0.8888888888888888,\"#fdca26\"],[1.0,\"#f0f921\"]],\"sequentialminus\":[[0.0,\"#0d0887\"],[0.1111111111111111,\"#46039f\"],[0.2222222222222222,\"#7201a8\"],[0.3333333333333333,\"#9c179e\"],[0.4444444444444444,\"#bd3786\"],[0.5555555555555556,\"#d8576b\"],[0.6666666666666666,\"#ed7953\"],[0.7777777777777778,\"#fb9f3a\"],[0.8888888888888888,\"#fdca26\"],[1.0,\"#f0f921\"]],\"diverging\":[[0,\"#8e0152\"],[0.1,\"#c51b7d\"],[0.2,\"#de77ae\"],[0.3,\"#f1b6da\"],[0.4,\"#fde0ef\"],[0.5,\"#f7f7f7\"],[0.6,\"#e6f5d0\"],[0.7,\"#b8e186\"],[0.8,\"#7fbc41\"],[0.9,\"#4d9221\"],[1,\"#276419\"]]},\"xaxis\":{\"gridcolor\":\"white\",\"linecolor\":\"white\",\"ticks\":\"\",\"title\":{\"standoff\":15},\"zerolinecolor\":\"white\",\"automargin\":true,\"zerolinewidth\":2},\"yaxis\":{\"gridcolor\":\"white\",\"linecolor\":\"white\",\"ticks\":\"\",\"title\":{\"standoff\":15},\"zerolinecolor\":\"white\",\"automargin\":true,\"zerolinewidth\":2},\"scene\":{\"xaxis\":{\"backgroundcolor\":\"#E5ECF6\",\"gridcolor\":\"white\",\"linecolor\":\"white\",\"showbackground\":true,\"ticks\":\"\",\"zerolinecolor\":\"white\",\"gridwidth\":2},\"yaxis\":{\"backgroundcolor\":\"#E5ECF6\",\"gridcolor\":\"white\",\"linecolor\":\"white\",\"showbackground\":true,\"ticks\":\"\",\"zerolinecolor\":\"white\",\"gridwidth\":2},\"zaxis\":{\"backgroundcolor\":\"#E5ECF6\",\"gridcolor\":\"white\",\"linecolor\":\"white\",\"showbackground\":true,\"ticks\":\"\",\"zerolinecolor\":\"white\",\"gridwidth\":2}},\"shapedefaults\":{\"line\":{\"color\":\"#2a3f5f\"}},\"annotationdefaults\":{\"arrowcolor\":\"#2a3f5f\",\"arrowhead\":0,\"arrowwidth\":1},\"geo\":{\"bgcolor\":\"white\",\"landcolor\":\"#E5ECF6\",\"subunitcolor\":\"white\",\"showland\":true,\"showlakes\":true,\"lakecolor\":\"white\"},\"title\":{\"x\":0.05},\"mapbox\":{\"style\":\"light\"}}},\"title\":{\"text\":\"Validation Accuracy Over Epochs\"},\"xaxis\":{\"title\":{\"text\":\"Epoch\"}},\"yaxis\":{\"title\":{\"text\":\"Accuracy\"},\"range\":[20.0,100.0]},\"width\":800,\"height\":600},                        {\"responsive\": true}                    ).then(function(){\n",
       "                            \n",
       "var gd = document.getElementById('d8ff3944-b33d-49ef-9927-4e1839ef0429');\n",
       "var x = new MutationObserver(function (mutations, observer) {{\n",
       "        var display = window.getComputedStyle(gd).display;\n",
       "        if (!display || display === 'none') {{\n",
       "            console.log([gd, 'removed!']);\n",
       "            Plotly.purge(gd);\n",
       "            observer.disconnect();\n",
       "        }}\n",
       "}});\n",
       "\n",
       "// Listen for the removal of the full notebook cells\n",
       "var notebookContainer = gd.closest('#notebook-container');\n",
       "if (notebookContainer) {{\n",
       "    x.observe(notebookContainer, {childList: true});\n",
       "}}\n",
       "\n",
       "// Listen for the clearing of the current output cell\n",
       "var outputEl = gd.closest('.output');\n",
       "if (outputEl) {{\n",
       "    x.observe(outputEl, {childList: true});\n",
       "}}\n",
       "\n",
       "                        })                };                });            </script>        </div>"
      ]
     },
     "metadata": {},
     "output_type": "display_data"
    },
    {
     "data": {
      "application/vnd.plotly.v1+json": {
       "config": {
        "plotlyServerURL": "https://plot.ly"
       },
       "data": [
        {
         "line": {
          "color": "orange"
         },
         "mode": "lines+markers",
         "name": "Validation Loss",
         "type": "scatter",
         "x": [
          1,
          2,
          3,
          4,
          5,
          6,
          7,
          8,
          9,
          10,
          11,
          12,
          13,
          14,
          15,
          16,
          17,
          18,
          19,
          20,
          21,
          22,
          23,
          24,
          25,
          26,
          27,
          28,
          29,
          30
         ],
         "y": [
          2.1824385779244557,
          1.6378299508775984,
          1.1396270820072718,
          0.6325581797531673,
          0.35888207384518217,
          0.2694856418030603,
          0.21482595003076962,
          0.26449429456676754,
          0.1767337524465152,
          0.09871004362191473,
          0.0632483780916248,
          0.0662489075745855,
          0.12472736915307385,
          0.037486030853220394,
          0.059893377657447545,
          0.03317146109683173,
          0.02516730801601495,
          0.013193019798823766,
          0.012619203156126397,
          0.018495978521449224,
          0.01603742509282061,
          0.01220649913219469,
          0.008362913836858102,
          0.007791153970174491,
          0.009924902148278696,
          0.007513102110741394,
          0.008566011707963688,
          0.006386498471588961,
          0.005439337958315653,
          0.007272467915234821
         ]
        }
       ],
       "layout": {
        "height": 600,
        "template": {
         "data": {
          "bar": [
           {
            "error_x": {
             "color": "#2a3f5f"
            },
            "error_y": {
             "color": "#2a3f5f"
            },
            "marker": {
             "line": {
              "color": "#E5ECF6",
              "width": 0.5
             },
             "pattern": {
              "fillmode": "overlay",
              "size": 10,
              "solidity": 0.2
             }
            },
            "type": "bar"
           }
          ],
          "barpolar": [
           {
            "marker": {
             "line": {
              "color": "#E5ECF6",
              "width": 0.5
             },
             "pattern": {
              "fillmode": "overlay",
              "size": 10,
              "solidity": 0.2
             }
            },
            "type": "barpolar"
           }
          ],
          "carpet": [
           {
            "aaxis": {
             "endlinecolor": "#2a3f5f",
             "gridcolor": "white",
             "linecolor": "white",
             "minorgridcolor": "white",
             "startlinecolor": "#2a3f5f"
            },
            "baxis": {
             "endlinecolor": "#2a3f5f",
             "gridcolor": "white",
             "linecolor": "white",
             "minorgridcolor": "white",
             "startlinecolor": "#2a3f5f"
            },
            "type": "carpet"
           }
          ],
          "choropleth": [
           {
            "colorbar": {
             "outlinewidth": 0,
             "ticks": ""
            },
            "type": "choropleth"
           }
          ],
          "contour": [
           {
            "colorbar": {
             "outlinewidth": 0,
             "ticks": ""
            },
            "colorscale": [
             [
              0,
              "#0d0887"
             ],
             [
              0.1111111111111111,
              "#46039f"
             ],
             [
              0.2222222222222222,
              "#7201a8"
             ],
             [
              0.3333333333333333,
              "#9c179e"
             ],
             [
              0.4444444444444444,
              "#bd3786"
             ],
             [
              0.5555555555555556,
              "#d8576b"
             ],
             [
              0.6666666666666666,
              "#ed7953"
             ],
             [
              0.7777777777777778,
              "#fb9f3a"
             ],
             [
              0.8888888888888888,
              "#fdca26"
             ],
             [
              1,
              "#f0f921"
             ]
            ],
            "type": "contour"
           }
          ],
          "contourcarpet": [
           {
            "colorbar": {
             "outlinewidth": 0,
             "ticks": ""
            },
            "type": "contourcarpet"
           }
          ],
          "heatmap": [
           {
            "colorbar": {
             "outlinewidth": 0,
             "ticks": ""
            },
            "colorscale": [
             [
              0,
              "#0d0887"
             ],
             [
              0.1111111111111111,
              "#46039f"
             ],
             [
              0.2222222222222222,
              "#7201a8"
             ],
             [
              0.3333333333333333,
              "#9c179e"
             ],
             [
              0.4444444444444444,
              "#bd3786"
             ],
             [
              0.5555555555555556,
              "#d8576b"
             ],
             [
              0.6666666666666666,
              "#ed7953"
             ],
             [
              0.7777777777777778,
              "#fb9f3a"
             ],
             [
              0.8888888888888888,
              "#fdca26"
             ],
             [
              1,
              "#f0f921"
             ]
            ],
            "type": "heatmap"
           }
          ],
          "heatmapgl": [
           {
            "colorbar": {
             "outlinewidth": 0,
             "ticks": ""
            },
            "colorscale": [
             [
              0,
              "#0d0887"
             ],
             [
              0.1111111111111111,
              "#46039f"
             ],
             [
              0.2222222222222222,
              "#7201a8"
             ],
             [
              0.3333333333333333,
              "#9c179e"
             ],
             [
              0.4444444444444444,
              "#bd3786"
             ],
             [
              0.5555555555555556,
              "#d8576b"
             ],
             [
              0.6666666666666666,
              "#ed7953"
             ],
             [
              0.7777777777777778,
              "#fb9f3a"
             ],
             [
              0.8888888888888888,
              "#fdca26"
             ],
             [
              1,
              "#f0f921"
             ]
            ],
            "type": "heatmapgl"
           }
          ],
          "histogram": [
           {
            "marker": {
             "pattern": {
              "fillmode": "overlay",
              "size": 10,
              "solidity": 0.2
             }
            },
            "type": "histogram"
           }
          ],
          "histogram2d": [
           {
            "colorbar": {
             "outlinewidth": 0,
             "ticks": ""
            },
            "colorscale": [
             [
              0,
              "#0d0887"
             ],
             [
              0.1111111111111111,
              "#46039f"
             ],
             [
              0.2222222222222222,
              "#7201a8"
             ],
             [
              0.3333333333333333,
              "#9c179e"
             ],
             [
              0.4444444444444444,
              "#bd3786"
             ],
             [
              0.5555555555555556,
              "#d8576b"
             ],
             [
              0.6666666666666666,
              "#ed7953"
             ],
             [
              0.7777777777777778,
              "#fb9f3a"
             ],
             [
              0.8888888888888888,
              "#fdca26"
             ],
             [
              1,
              "#f0f921"
             ]
            ],
            "type": "histogram2d"
           }
          ],
          "histogram2dcontour": [
           {
            "colorbar": {
             "outlinewidth": 0,
             "ticks": ""
            },
            "colorscale": [
             [
              0,
              "#0d0887"
             ],
             [
              0.1111111111111111,
              "#46039f"
             ],
             [
              0.2222222222222222,
              "#7201a8"
             ],
             [
              0.3333333333333333,
              "#9c179e"
             ],
             [
              0.4444444444444444,
              "#bd3786"
             ],
             [
              0.5555555555555556,
              "#d8576b"
             ],
             [
              0.6666666666666666,
              "#ed7953"
             ],
             [
              0.7777777777777778,
              "#fb9f3a"
             ],
             [
              0.8888888888888888,
              "#fdca26"
             ],
             [
              1,
              "#f0f921"
             ]
            ],
            "type": "histogram2dcontour"
           }
          ],
          "mesh3d": [
           {
            "colorbar": {
             "outlinewidth": 0,
             "ticks": ""
            },
            "type": "mesh3d"
           }
          ],
          "parcoords": [
           {
            "line": {
             "colorbar": {
              "outlinewidth": 0,
              "ticks": ""
             }
            },
            "type": "parcoords"
           }
          ],
          "pie": [
           {
            "automargin": true,
            "type": "pie"
           }
          ],
          "scatter": [
           {
            "fillpattern": {
             "fillmode": "overlay",
             "size": 10,
             "solidity": 0.2
            },
            "type": "scatter"
           }
          ],
          "scatter3d": [
           {
            "line": {
             "colorbar": {
              "outlinewidth": 0,
              "ticks": ""
             }
            },
            "marker": {
             "colorbar": {
              "outlinewidth": 0,
              "ticks": ""
             }
            },
            "type": "scatter3d"
           }
          ],
          "scattercarpet": [
           {
            "marker": {
             "colorbar": {
              "outlinewidth": 0,
              "ticks": ""
             }
            },
            "type": "scattercarpet"
           }
          ],
          "scattergeo": [
           {
            "marker": {
             "colorbar": {
              "outlinewidth": 0,
              "ticks": ""
             }
            },
            "type": "scattergeo"
           }
          ],
          "scattergl": [
           {
            "marker": {
             "colorbar": {
              "outlinewidth": 0,
              "ticks": ""
             }
            },
            "type": "scattergl"
           }
          ],
          "scattermapbox": [
           {
            "marker": {
             "colorbar": {
              "outlinewidth": 0,
              "ticks": ""
             }
            },
            "type": "scattermapbox"
           }
          ],
          "scatterpolar": [
           {
            "marker": {
             "colorbar": {
              "outlinewidth": 0,
              "ticks": ""
             }
            },
            "type": "scatterpolar"
           }
          ],
          "scatterpolargl": [
           {
            "marker": {
             "colorbar": {
              "outlinewidth": 0,
              "ticks": ""
             }
            },
            "type": "scatterpolargl"
           }
          ],
          "scatterternary": [
           {
            "marker": {
             "colorbar": {
              "outlinewidth": 0,
              "ticks": ""
             }
            },
            "type": "scatterternary"
           }
          ],
          "surface": [
           {
            "colorbar": {
             "outlinewidth": 0,
             "ticks": ""
            },
            "colorscale": [
             [
              0,
              "#0d0887"
             ],
             [
              0.1111111111111111,
              "#46039f"
             ],
             [
              0.2222222222222222,
              "#7201a8"
             ],
             [
              0.3333333333333333,
              "#9c179e"
             ],
             [
              0.4444444444444444,
              "#bd3786"
             ],
             [
              0.5555555555555556,
              "#d8576b"
             ],
             [
              0.6666666666666666,
              "#ed7953"
             ],
             [
              0.7777777777777778,
              "#fb9f3a"
             ],
             [
              0.8888888888888888,
              "#fdca26"
             ],
             [
              1,
              "#f0f921"
             ]
            ],
            "type": "surface"
           }
          ],
          "table": [
           {
            "cells": {
             "fill": {
              "color": "#EBF0F8"
             },
             "line": {
              "color": "white"
             }
            },
            "header": {
             "fill": {
              "color": "#C8D4E3"
             },
             "line": {
              "color": "white"
             }
            },
            "type": "table"
           }
          ]
         },
         "layout": {
          "annotationdefaults": {
           "arrowcolor": "#2a3f5f",
           "arrowhead": 0,
           "arrowwidth": 1
          },
          "autotypenumbers": "strict",
          "coloraxis": {
           "colorbar": {
            "outlinewidth": 0,
            "ticks": ""
           }
          },
          "colorscale": {
           "diverging": [
            [
             0,
             "#8e0152"
            ],
            [
             0.1,
             "#c51b7d"
            ],
            [
             0.2,
             "#de77ae"
            ],
            [
             0.3,
             "#f1b6da"
            ],
            [
             0.4,
             "#fde0ef"
            ],
            [
             0.5,
             "#f7f7f7"
            ],
            [
             0.6,
             "#e6f5d0"
            ],
            [
             0.7,
             "#b8e186"
            ],
            [
             0.8,
             "#7fbc41"
            ],
            [
             0.9,
             "#4d9221"
            ],
            [
             1,
             "#276419"
            ]
           ],
           "sequential": [
            [
             0,
             "#0d0887"
            ],
            [
             0.1111111111111111,
             "#46039f"
            ],
            [
             0.2222222222222222,
             "#7201a8"
            ],
            [
             0.3333333333333333,
             "#9c179e"
            ],
            [
             0.4444444444444444,
             "#bd3786"
            ],
            [
             0.5555555555555556,
             "#d8576b"
            ],
            [
             0.6666666666666666,
             "#ed7953"
            ],
            [
             0.7777777777777778,
             "#fb9f3a"
            ],
            [
             0.8888888888888888,
             "#fdca26"
            ],
            [
             1,
             "#f0f921"
            ]
           ],
           "sequentialminus": [
            [
             0,
             "#0d0887"
            ],
            [
             0.1111111111111111,
             "#46039f"
            ],
            [
             0.2222222222222222,
             "#7201a8"
            ],
            [
             0.3333333333333333,
             "#9c179e"
            ],
            [
             0.4444444444444444,
             "#bd3786"
            ],
            [
             0.5555555555555556,
             "#d8576b"
            ],
            [
             0.6666666666666666,
             "#ed7953"
            ],
            [
             0.7777777777777778,
             "#fb9f3a"
            ],
            [
             0.8888888888888888,
             "#fdca26"
            ],
            [
             1,
             "#f0f921"
            ]
           ]
          },
          "colorway": [
           "#636efa",
           "#EF553B",
           "#00cc96",
           "#ab63fa",
           "#FFA15A",
           "#19d3f3",
           "#FF6692",
           "#B6E880",
           "#FF97FF",
           "#FECB52"
          ],
          "font": {
           "color": "#2a3f5f"
          },
          "geo": {
           "bgcolor": "white",
           "lakecolor": "white",
           "landcolor": "#E5ECF6",
           "showlakes": true,
           "showland": true,
           "subunitcolor": "white"
          },
          "hoverlabel": {
           "align": "left"
          },
          "hovermode": "closest",
          "mapbox": {
           "style": "light"
          },
          "paper_bgcolor": "white",
          "plot_bgcolor": "#E5ECF6",
          "polar": {
           "angularaxis": {
            "gridcolor": "white",
            "linecolor": "white",
            "ticks": ""
           },
           "bgcolor": "#E5ECF6",
           "radialaxis": {
            "gridcolor": "white",
            "linecolor": "white",
            "ticks": ""
           }
          },
          "scene": {
           "xaxis": {
            "backgroundcolor": "#E5ECF6",
            "gridcolor": "white",
            "gridwidth": 2,
            "linecolor": "white",
            "showbackground": true,
            "ticks": "",
            "zerolinecolor": "white"
           },
           "yaxis": {
            "backgroundcolor": "#E5ECF6",
            "gridcolor": "white",
            "gridwidth": 2,
            "linecolor": "white",
            "showbackground": true,
            "ticks": "",
            "zerolinecolor": "white"
           },
           "zaxis": {
            "backgroundcolor": "#E5ECF6",
            "gridcolor": "white",
            "gridwidth": 2,
            "linecolor": "white",
            "showbackground": true,
            "ticks": "",
            "zerolinecolor": "white"
           }
          },
          "shapedefaults": {
           "line": {
            "color": "#2a3f5f"
           }
          },
          "ternary": {
           "aaxis": {
            "gridcolor": "white",
            "linecolor": "white",
            "ticks": ""
           },
           "baxis": {
            "gridcolor": "white",
            "linecolor": "white",
            "ticks": ""
           },
           "bgcolor": "#E5ECF6",
           "caxis": {
            "gridcolor": "white",
            "linecolor": "white",
            "ticks": ""
           }
          },
          "title": {
           "x": 0.05
          },
          "xaxis": {
           "automargin": true,
           "gridcolor": "white",
           "linecolor": "white",
           "ticks": "",
           "title": {
            "standoff": 15
           },
           "zerolinecolor": "white",
           "zerolinewidth": 2
          },
          "yaxis": {
           "automargin": true,
           "gridcolor": "white",
           "linecolor": "white",
           "ticks": "",
           "title": {
            "standoff": 15
           },
           "zerolinecolor": "white",
           "zerolinewidth": 2
          }
         }
        },
        "title": {
         "text": "Validation Loss Over Epochs"
        },
        "width": 800,
        "xaxis": {
         "autorange": true,
         "range": [
          -0.8236587510993842,
          31.823658751099384
         ],
         "title": {
          "text": "Epoch"
         },
         "type": "linear"
        },
        "yaxis": {
         "autorange": true,
         "range": [
          -0.13998773677626455,
          2.3278656526590358
         ],
         "title": {
          "text": "Loss"
         },
         "type": "linear"
        }
       }
      },
      "image/png": "[encoded data removed]",
      "text/html": [
       "<div>                            <div id=\"7e03575f-14c1-45d4-b9a3-cd7945938c43\" class=\"plotly-graph-div\" style=\"height:600px; width:800px;\"></div>            <script type=\"text/javascript\">                require([\"plotly\"], function(Plotly) {                    window.PLOTLYENV=window.PLOTLYENV || {};                                    if (document.getElementById(\"7e03575f-14c1-45d4-b9a3-cd7945938c43\")) {                    Plotly.newPlot(                        \"7e03575f-14c1-45d4-b9a3-cd7945938c43\",                        [{\"line\":{\"color\":\"orange\"},\"mode\":\"lines+markers\",\"name\":\"Validation Loss\",\"x\":[1,2,3,4,5,6,7,8,9,10,11,12,13,14,15,16,17,18,19,20,21,22,23,24,25,26,27,28,29,30],\"y\":[2.1824385779244557,1.6378299508775984,1.1396270820072718,0.6325581797531673,0.35888207384518217,0.2694856418030603,0.21482595003076962,0.26449429456676754,0.1767337524465152,0.09871004362191473,0.0632483780916248,0.0662489075745855,0.12472736915307385,0.037486030853220394,0.059893377657447545,0.03317146109683173,0.02516730801601495,0.013193019798823766,0.012619203156126397,0.018495978521449224,0.01603742509282061,0.01220649913219469,0.008362913836858102,0.007791153970174491,0.009924902148278696,0.007513102110741394,0.008566011707963688,0.006386498471588961,0.005439337958315653,0.007272467915234821],\"type\":\"scatter\"}],                        {\"template\":{\"data\":{\"histogram2dcontour\":[{\"type\":\"histogram2dcontour\",\"colorbar\":{\"outlinewidth\":0,\"ticks\":\"\"},\"colorscale\":[[0.0,\"#0d0887\"],[0.1111111111111111,\"#46039f\"],[0.2222222222222222,\"#7201a8\"],[0.3333333333333333,\"#9c179e\"],[0.4444444444444444,\"#bd3786\"],[0.5555555555555556,\"#d8576b\"],[0.6666666666666666,\"#ed7953\"],[0.7777777777777778,\"#fb9f3a\"],[0.8888888888888888,\"#fdca26\"],[1.0,\"#f0f921\"]]}],\"choropleth\":[{\"type\":\"choropleth\",\"colorbar\":{\"outlinewidth\":0,\"ticks\":\"\"}}],\"histogram2d\":[{\"type\":\"histogram2d\",\"colorbar\":{\"outlinewidth\":0,\"ticks\":\"\"},\"colorscale\":[[0.0,\"#0d0887\"],[0.1111111111111111,\"#46039f\"],[0.2222222222222222,\"#7201a8\"],[0.3333333333333333,\"#9c179e\"],[0.4444444444444444,\"#bd3786\"],[0.5555555555555556,\"#d8576b\"],[0.6666666666666666,\"#ed7953\"],[0.7777777777777778,\"#fb9f3a\"],[0.8888888888888888,\"#fdca26\"],[1.0,\"#f0f921\"]]}],\"heatmap\":[{\"type\":\"heatmap\",\"colorbar\":{\"outlinewidth\":0,\"ticks\":\"\"},\"colorscale\":[[0.0,\"#0d0887\"],[0.1111111111111111,\"#46039f\"],[0.2222222222222222,\"#7201a8\"],[0.3333333333333333,\"#9c179e\"],[0.4444444444444444,\"#bd3786\"],[0.5555555555555556,\"#d8576b\"],[0.6666666666666666,\"#ed7953\"],[0.7777777777777778,\"#fb9f3a\"],[0.8888888888888888,\"#fdca26\"],[1.0,\"#f0f921\"]]}],\"heatmapgl\":[{\"type\":\"heatmapgl\",\"colorbar\":{\"outlinewidth\":0,\"ticks\":\"\"},\"colorscale\":[[0.0,\"#0d0887\"],[0.1111111111111111,\"#46039f\"],[0.2222222222222222,\"#7201a8\"],[0.3333333333333333,\"#9c179e\"],[0.4444444444444444,\"#bd3786\"],[0.5555555555555556,\"#d8576b\"],[0.6666666666666666,\"#ed7953\"],[0.7777777777777778,\"#fb9f3a\"],[0.8888888888888888,\"#fdca26\"],[1.0,\"#f0f921\"]]}],\"contourcarpet\":[{\"type\":\"contourcarpet\",\"colorbar\":{\"outlinewidth\":0,\"ticks\":\"\"}}],\"contour\":[{\"type\":\"contour\",\"colorbar\":{\"outlinewidth\":0,\"ticks\":\"\"},\"colorscale\":[[0.0,\"#0d0887\"],[0.1111111111111111,\"#46039f\"],[0.2222222222222222,\"#7201a8\"],[0.3333333333333333,\"#9c179e\"],[0.4444444444444444,\"#bd3786\"],[0.5555555555555556,\"#d8576b\"],[0.6666666666666666,\"#ed7953\"],[0.7777777777777778,\"#fb9f3a\"],[0.8888888888888888,\"#fdca26\"],[1.0,\"#f0f921\"]]}],\"surface\":[{\"type\":\"surface\",\"colorbar\":{\"outlinewidth\":0,\"ticks\":\"\"},\"colorscale\":[[0.0,\"#0d0887\"],[0.1111111111111111,\"#46039f\"],[0.2222222222222222,\"#7201a8\"],[0.3333333333333333,\"#9c179e\"],[0.4444444444444444,\"#bd3786\"],[0.5555555555555556,\"#d8576b\"],[0.6666666666666666,\"#ed7953\"],[0.7777777777777778,\"#fb9f3a\"],[0.8888888888888888,\"#fdca26\"],[1.0,\"#f0f921\"]]}],\"mesh3d\":[{\"type\":\"mesh3d\",\"colorbar\":{\"outlinewidth\":0,\"ticks\":\"\"}}],\"scatter\":[{\"fillpattern\":{\"fillmode\":\"overlay\",\"size\":10,\"solidity\":0.2},\"type\":\"scatter\"}],\"parcoords\":[{\"type\":\"parcoords\",\"line\":{\"colorbar\":{\"outlinewidth\":0,\"ticks\":\"\"}}}],\"scatterpolargl\":[{\"type\":\"scatterpolargl\",\"marker\":{\"colorbar\":{\"outlinewidth\":0,\"ticks\":\"\"}}}],\"bar\":[{\"error_x\":{\"color\":\"#2a3f5f\"},\"error_y\":{\"color\":\"#2a3f5f\"},\"marker\":{\"line\":{\"color\":\"#E5ECF6\",\"width\":0.5},\"pattern\":{\"fillmode\":\"overlay\",\"size\":10,\"solidity\":0.2}},\"type\":\"bar\"}],\"scattergeo\":[{\"type\":\"scattergeo\",\"marker\":{\"colorbar\":{\"outlinewidth\":0,\"ticks\":\"\"}}}],\"scatterpolar\":[{\"type\":\"scatterpolar\",\"marker\":{\"colorbar\":{\"outlinewidth\":0,\"ticks\":\"\"}}}],\"histogram\":[{\"marker\":{\"pattern\":{\"fillmode\":\"overlay\",\"size\":10,\"solidity\":0.2}},\"type\":\"histogram\"}],\"scattergl\":[{\"type\":\"scattergl\",\"marker\":{\"colorbar\":{\"outlinewidth\":0,\"ticks\":\"\"}}}],\"scatter3d\":[{\"type\":\"scatter3d\",\"line\":{\"colorbar\":{\"outlinewidth\":0,\"ticks\":\"\"}},\"marker\":{\"colorbar\":{\"outlinewidth\":0,\"ticks\":\"\"}}}],\"scattermapbox\":[{\"type\":\"scattermapbox\",\"marker\":{\"colorbar\":{\"outlinewidth\":0,\"ticks\":\"\"}}}],\"scatterternary\":[{\"type\":\"scatterternary\",\"marker\":{\"colorbar\":{\"outlinewidth\":0,\"ticks\":\"\"}}}],\"scattercarpet\":[{\"type\":\"scattercarpet\",\"marker\":{\"colorbar\":{\"outlinewidth\":0,\"ticks\":\"\"}}}],\"carpet\":[{\"aaxis\":{\"endlinecolor\":\"#2a3f5f\",\"gridcolor\":\"white\",\"linecolor\":\"white\",\"minorgridcolor\":\"white\",\"startlinecolor\":\"#2a3f5f\"},\"baxis\":{\"endlinecolor\":\"#2a3f5f\",\"gridcolor\":\"white\",\"linecolor\":\"white\",\"minorgridcolor\":\"white\",\"startlinecolor\":\"#2a3f5f\"},\"type\":\"carpet\"}],\"table\":[{\"cells\":{\"fill\":{\"color\":\"#EBF0F8\"},\"line\":{\"color\":\"white\"}},\"header\":{\"fill\":{\"color\":\"#C8D4E3\"},\"line\":{\"color\":\"white\"}},\"type\":\"table\"}],\"barpolar\":[{\"marker\":{\"line\":{\"color\":\"#E5ECF6\",\"width\":0.5},\"pattern\":{\"fillmode\":\"overlay\",\"size\":10,\"solidity\":0.2}},\"type\":\"barpolar\"}],\"pie\":[{\"automargin\":true,\"type\":\"pie\"}]},\"layout\":{\"autotypenumbers\":\"strict\",\"colorway\":[\"#636efa\",\"#EF553B\",\"#00cc96\",\"#ab63fa\",\"#FFA15A\",\"#19d3f3\",\"#FF6692\",\"#B6E880\",\"#FF97FF\",\"#FECB52\"],\"font\":{\"color\":\"#2a3f5f\"},\"hovermode\":\"closest\",\"hoverlabel\":{\"align\":\"left\"},\"paper_bgcolor\":\"white\",\"plot_bgcolor\":\"#E5ECF6\",\"polar\":{\"bgcolor\":\"#E5ECF6\",\"angularaxis\":{\"gridcolor\":\"white\",\"linecolor\":\"white\",\"ticks\":\"\"},\"radialaxis\":{\"gridcolor\":\"white\",\"linecolor\":\"white\",\"ticks\":\"\"}},\"ternary\":{\"bgcolor\":\"#E5ECF6\",\"aaxis\":{\"gridcolor\":\"white\",\"linecolor\":\"white\",\"ticks\":\"\"},\"baxis\":{\"gridcolor\":\"white\",\"linecolor\":\"white\",\"ticks\":\"\"},\"caxis\":{\"gridcolor\":\"white\",\"linecolor\":\"white\",\"ticks\":\"\"}},\"coloraxis\":{\"colorbar\":{\"outlinewidth\":0,\"ticks\":\"\"}},\"colorscale\":{\"sequential\":[[0.0,\"#0d0887\"],[0.1111111111111111,\"#46039f\"],[0.2222222222222222,\"#7201a8\"],[0.3333333333333333,\"#9c179e\"],[0.4444444444444444,\"#bd3786\"],[0.5555555555555556,\"#d8576b\"],[0.6666666666666666,\"#ed7953\"],[0.7777777777777778,\"#fb9f3a\"],[0.8888888888888888,\"#fdca26\"],[1.0,\"#f0f921\"]],\"sequentialminus\":[[0.0,\"#0d0887\"],[0.1111111111111111,\"#46039f\"],[0.2222222222222222,\"#7201a8\"],[0.3333333333333333,\"#9c179e\"],[0.4444444444444444,\"#bd3786\"],[0.5555555555555556,\"#d8576b\"],[0.6666666666666666,\"#ed7953\"],[0.7777777777777778,\"#fb9f3a\"],[0.8888888888888888,\"#fdca26\"],[1.0,\"#f0f921\"]],\"diverging\":[[0,\"#8e0152\"],[0.1,\"#c51b7d\"],[0.2,\"#de77ae\"],[0.3,\"#f1b6da\"],[0.4,\"#fde0ef\"],[0.5,\"#f7f7f7\"],[0.6,\"#e6f5d0\"],[0.7,\"#b8e186\"],[0.8,\"#7fbc41\"],[0.9,\"#4d9221\"],[1,\"#276419\"]]},\"xaxis\":{\"gridcolor\":\"white\",\"linecolor\":\"white\",\"ticks\":\"\",\"title\":{\"standoff\":15},\"zerolinecolor\":\"white\",\"automargin\":true,\"zerolinewidth\":2},\"yaxis\":{\"gridcolor\":\"white\",\"linecolor\":\"white\",\"ticks\":\"\",\"title\":{\"standoff\":15},\"zerolinecolor\":\"white\",\"automargin\":true,\"zerolinewidth\":2},\"scene\":{\"xaxis\":{\"backgroundcolor\":\"#E5ECF6\",\"gridcolor\":\"white\",\"linecolor\":\"white\",\"showbackground\":true,\"ticks\":\"\",\"zerolinecolor\":\"white\",\"gridwidth\":2},\"yaxis\":{\"backgroundcolor\":\"#E5ECF6\",\"gridcolor\":\"white\",\"linecolor\":\"white\",\"showbackground\":true,\"ticks\":\"\",\"zerolinecolor\":\"white\",\"gridwidth\":2},\"zaxis\":{\"backgroundcolor\":\"#E5ECF6\",\"gridcolor\":\"white\",\"linecolor\":\"white\",\"showbackground\":true,\"ticks\":\"\",\"zerolinecolor\":\"white\",\"gridwidth\":2}},\"shapedefaults\":{\"line\":{\"color\":\"#2a3f5f\"}},\"annotationdefaults\":{\"arrowcolor\":\"#2a3f5f\",\"arrowhead\":0,\"arrowwidth\":1},\"geo\":{\"bgcolor\":\"white\",\"landcolor\":\"#E5ECF6\",\"subunitcolor\":\"white\",\"showland\":true,\"showlakes\":true,\"lakecolor\":\"white\"},\"title\":{\"x\":0.05},\"mapbox\":{\"style\":\"light\"}}},\"title\":{\"text\":\"Validation Loss Over Epochs\"},\"xaxis\":{\"title\":{\"text\":\"Epoch\"}},\"yaxis\":{\"title\":{\"text\":\"Loss\"}},\"width\":800,\"height\":600},                        {\"responsive\": true}                    ).then(function(){\n",
       "                            \n",
       "var gd = document.getElementById('7e03575f-14c1-45d4-b9a3-cd7945938c43');\n",
       "var x = new MutationObserver(function (mutations, observer) {{\n",
       "        var display = window.getComputedStyle(gd).display;\n",
       "        if (!display || display === 'none') {{\n",
       "            console.log([gd, 'removed!']);\n",
       "            Plotly.purge(gd);\n",
       "            observer.disconnect();\n",
       "        }}\n",
       "}});\n",
       "\n",
       "// Listen for the removal of the full notebook cells\n",
       "var notebookContainer = gd.closest('#notebook-container');\n",
       "if (notebookContainer) {{\n",
       "    x.observe(notebookContainer, {childList: true});\n",
       "}}\n",
       "\n",
       "// Listen for the clearing of the current output cell\n",
       "var outputEl = gd.closest('.output');\n",
       "if (outputEl) {{\n",
       "    x.observe(outputEl, {childList: true});\n",
       "}}\n",
       "\n",
       "                        })                };                });            </script>        </div>"
      ]
     },
     "metadata": {},
     "output_type": "display_data"
    }
   ],
   "source": [
    "epochs = list(range(1, num_epochs + 1))\n",
    "\n",
    "fig = go.Figure()\n",
    "fig.add_trace(go.Scatter(x=epochs, y=acuracy_history, mode='lines+markers', name='Validation Accuracy'))\n",
    "fig.update_layout(\n",
    "    title='Validation Accuracy Over Epochs',\n",
    "    xaxis_title='Epoch',\n",
    "    yaxis_title='Accuracy',\n",
    "    width=800,\n",
    "    height=600\n",
    ")\n",
    "fig.update_yaxes(range=[20.0, 100.0])\n",
    "\n",
    "fig.show()\n",
    "\n",
    "fig = go.Figure()\n",
    "fig.add_trace(go.Scatter(x=epochs, y=loss_history, mode='lines+markers', name='Validation Loss', line=dict(color='orange')))\n",
    "fig.update_layout(\n",
    "    title='Validation Loss Over Epochs',\n",
    "    xaxis_title='Epoch',\n",
    "    yaxis_title='Loss',\n",
    "    width=800,\n",
    "    height=600\n",
    ")\n",
    "\n",
    "fig.show()"
   ]
  },
  {
   "cell_type": "code",
   "execution_count": 35,
   "id": "81f6e2aa-ff44-40f1-b260-f952eb217978",
   "metadata": {},
   "outputs": [
    {
     "name": "stdout",
     "output_type": "stream",
     "text": [
      "Test Loss: 0.0030, Test Accuracy: 100.00%\n"
     ]
    }
   ],
   "source": [
    "model.eval()\n",
    "\n",
    "running_loss = 0.0\n",
    "running_accuracy = 0.0\n",
    "\n",
    "for i, data in enumerate(test_loader):\n",
    "    inputs, labels = data[0].to(device), data[1].to(device)\n",
    "    \n",
    "    with torch.no_grad():\n",
    "        outputs = model(inputs)\n",
    "        loss = criterion(outputs, labels)\n",
    "        \n",
    "        _, preds = torch.max(outputs, 1)\n",
    "        running_accuracy += torch.sum(preds == labels.data)\n",
    "        running_loss += loss.item() * inputs.size(0)\n",
    "\n",
    "test_loss = running_loss / len(test_loader.dataset)\n",
    "test_accuracy = running_accuracy.double() / len(test_loader.dataset)\n",
    "\n",
    "print('Test Loss: {:.4f}, Test Accuracy: {:.2f}%'.format(\n",
    "    test_loss, test_accuracy * 100))"
   ]
  },
  {
   "cell_type": "code",
   "execution_count": null,
   "id": "11cb25c8-3299-4f2b-b3c4-22530058cf19",
   "metadata": {},
   "outputs": [],
   "source": []
  }
 ],
 "metadata": {
  "kernelspec": {
   "display_name": "CNN enviroment",
   "language": "python",
   "name": "cnn"
  },
  "language_info": {
   "codemirror_mode": {
    "name": "ipython",
    "version": 3
   },
   "file_extension": ".py",
   "mimetype": "text/x-python",
   "name": "python",
   "nbconvert_exporter": "python",
   "pygments_lexer": "ipython3",
   "version": "3.10.13"
  }
 },
 "nbformat": 4,
 "nbformat_minor": 5
}

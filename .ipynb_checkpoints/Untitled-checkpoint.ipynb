{
 "cells": [
  {
   "cell_type": "code",
   "execution_count": 40,
   "id": "40acc203-95f3-4a15-8148-9ddf1774b012",
   "metadata": {},
   "outputs": [],
   "source": [
    "import pickle\n",
    "import numpy as np"
   ]
  },
  {
   "cell_type": "code",
   "execution_count": 41,
   "id": "136a0df0-0fb4-4e76-8257-653ed8299f5f",
   "metadata": {},
   "outputs": [
    {
     "data": {
      "text/plain": [
       "(48, 48, 1)"
      ]
     },
     "execution_count": 41,
     "metadata": {},
     "output_type": "execute_result"
    }
   ],
   "source": [
    "train_fh = open('datasets/lego-train.pickle', 'rb')\n",
    "test_fh = open('datasets/lego-test.pickle', 'rb')\n",
    "\n",
    "train_data = pickle.load(train_fh)\n",
    "test_data = pickle.load(test_fh)\n",
    "\n",
    "train_data[0][0].shape"
   ]
  },
  {
   "cell_type": "code",
   "execution_count": 42,
   "id": "51b88d66-d848-4551-b69b-ac03d03bb84f",
   "metadata": {},
   "outputs": [
    {
     "data": {
      "text/plain": [
       "{0, 1, 2, 3, 4, 5, 6, 7, 8, 9}"
      ]
     },
     "execution_count": 42,
     "metadata": {},
     "output_type": "execute_result"
    }
   ],
   "source": [
    "x_train, y_train = zip(*train_data)\n",
    "x_test, y_test = zip(*test_data)\n",
    "\n",
    "x_train = np.array(x_train).astype(np.float32)\n",
    "y_train = np.array(y_train)\n",
    "x_test  = np.array(x_test).astype(np.float32)\n",
    "y_test  = np.array(y_test)\n",
    "\n",
    "set(y_train)"
   ]
  },
  {
   "cell_type": "markdown",
   "id": "0b6add61-50a6-4980-9343-1e8ad2e6660e",
   "metadata": {},
   "source": [
    "---"
   ]
  },
  {
   "cell_type": "code",
   "execution_count": 43,
   "id": "57627c52-77b0-4cc4-a64a-b4bbb5887818",
   "metadata": {},
   "outputs": [],
   "source": [
    "import torch\n",
    "import torchvision\n",
    "import torchvision.transforms as transforms"
   ]
  },
  {
   "cell_type": "code",
   "execution_count": 45,
   "id": "73b87621-28d0-4c06-af43-3dc4c0d6a4a0",
   "metadata": {},
   "outputs": [
    {
     "data": {
      "text/plain": [
       "device(type='cuda')"
      ]
     },
     "execution_count": 45,
     "metadata": {},
     "output_type": "execute_result"
    }
   ],
   "source": [
    "device = torch.device(\"cuda\" if torch.cuda.is_available() else \"cpu\")\n",
    "device"
   ]
  },
  {
   "cell_type": "code",
   "execution_count": null,
   "id": "e92c4e06-7ba8-4c9e-9176-40152a4caf38",
   "metadata": {},
   "outputs": [],
   "source": []
  }
 ],
 "metadata": {
  "kernelspec": {
   "display_name": "CNN enviroment",
   "language": "python",
   "name": "cnn"
  },
  "language_info": {
   "codemirror_mode": {
    "name": "ipython",
    "version": 3
   },
   "file_extension": ".py",
   "mimetype": "text/x-python",
   "name": "python",
   "nbconvert_exporter": "python",
   "pygments_lexer": "ipython3",
   "version": "3.10.13"
  }
 },
 "nbformat": 4,
 "nbformat_minor": 5
}
